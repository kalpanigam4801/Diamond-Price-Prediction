{
 "cells": [
  {
   "cell_type": "code",
   "execution_count": 1,
   "id": "399c75d3",
   "metadata": {},
   "outputs": [
    {
     "data": {
      "text/html": [
       "        <script type=\"text/javascript\">\n",
       "        window.PlotlyConfig = {MathJaxConfig: 'local'};\n",
       "        if (window.MathJax && window.MathJax.Hub && window.MathJax.Hub.Config) {window.MathJax.Hub.Config({SVG: {font: \"STIX-Web\"}});}\n",
       "        if (typeof require !== 'undefined') {\n",
       "        require.undef(\"plotly\");\n",
       "        requirejs.config({\n",
       "            paths: {\n",
       "                'plotly': ['https://cdn.plot.ly/plotly-2.18.0.min']\n",
       "            }\n",
       "        });\n",
       "        require(['plotly'], function(Plotly) {\n",
       "            window._Plotly = Plotly;\n",
       "        });\n",
       "        }\n",
       "        </script>\n",
       "        "
      ]
     },
     "metadata": {},
     "output_type": "display_data"
    }
   ],
   "source": [
    "import numpy as np \n",
    "import pandas as pd\n",
    "import seaborn as sns\n",
    "import matplotlib.pyplot as plt\n",
    "import sklearn\n",
    "from sklearn.model_selection import train_test_split\n",
    "from sklearn.model_selection import GridSearchCV\n",
    "from sklearn import metrics\n",
    "from sklearn import linear_model\n",
    "\n",
    "from sklearn.linear_model import RidgeCV\n",
    "from sklearn.linear_model import LassoCV\n",
    "from sklearn.linear_model import ElasticNetCV\n",
    "\n",
    "from sklearn.preprocessing import MinMaxScaler\n",
    "from sklearn.metrics import mean_absolute_error\n",
    "from sklearn.metrics import mean_squared_error\n",
    "from sklearn import svm, preprocessing \n",
    "\n",
    "import cufflinks as cf\n",
    "import plotly.graph_objs as go\n",
    "import chart_studio.plotly as py\n",
    "from plotly.offline import download_plotlyjs, init_notebook_mode, plot, iplot\n",
    "from operator import add\n",
    "init_notebook_mode(connected=True)\n",
    "import random\n",
    "import time\n",
    "import os"
   ]
  },
  {
   "cell_type": "code",
   "execution_count": 2,
   "id": "a5fa066f",
   "metadata": {},
   "outputs": [],
   "source": [
    "data = pd.read_csv(r\"D:\\8th Semester B.Tech (IT)\\4. Major Project\\Diamond.csv\")"
   ]
  },
  {
   "cell_type": "code",
   "execution_count": 3,
   "id": "8693e7f9",
   "metadata": {},
   "outputs": [
    {
     "data": {
      "text/html": [
       "<div>\n",
       "<style scoped>\n",
       "    .dataframe tbody tr th:only-of-type {\n",
       "        vertical-align: middle;\n",
       "    }\n",
       "\n",
       "    .dataframe tbody tr th {\n",
       "        vertical-align: top;\n",
       "    }\n",
       "\n",
       "    .dataframe thead th {\n",
       "        text-align: right;\n",
       "    }\n",
       "</style>\n",
       "<table border=\"1\" class=\"dataframe\">\n",
       "  <thead>\n",
       "    <tr style=\"text-align: right;\">\n",
       "      <th></th>\n",
       "      <th>carat</th>\n",
       "      <th>cut</th>\n",
       "      <th>color</th>\n",
       "      <th>clarity</th>\n",
       "      <th>height (in mm)</th>\n",
       "      <th>table</th>\n",
       "      <th>price (in USD)</th>\n",
       "      <th>length (in mm)</th>\n",
       "      <th>width (in mm)</th>\n",
       "      <th>depth (in mm)</th>\n",
       "    </tr>\n",
       "  </thead>\n",
       "  <tbody>\n",
       "    <tr>\n",
       "      <th>0</th>\n",
       "      <td>0.23</td>\n",
       "      <td>5</td>\n",
       "      <td>6</td>\n",
       "      <td>2</td>\n",
       "      <td>61.5</td>\n",
       "      <td>55.0</td>\n",
       "      <td>326</td>\n",
       "      <td>3.95</td>\n",
       "      <td>3.98</td>\n",
       "      <td>2.43</td>\n",
       "    </tr>\n",
       "    <tr>\n",
       "      <th>1</th>\n",
       "      <td>0.21</td>\n",
       "      <td>4</td>\n",
       "      <td>6</td>\n",
       "      <td>3</td>\n",
       "      <td>59.8</td>\n",
       "      <td>61.0</td>\n",
       "      <td>326</td>\n",
       "      <td>3.89</td>\n",
       "      <td>3.84</td>\n",
       "      <td>2.31</td>\n",
       "    </tr>\n",
       "    <tr>\n",
       "      <th>2</th>\n",
       "      <td>0.23</td>\n",
       "      <td>2</td>\n",
       "      <td>6</td>\n",
       "      <td>5</td>\n",
       "      <td>56.9</td>\n",
       "      <td>65.0</td>\n",
       "      <td>327</td>\n",
       "      <td>4.05</td>\n",
       "      <td>4.07</td>\n",
       "      <td>2.31</td>\n",
       "    </tr>\n",
       "    <tr>\n",
       "      <th>3</th>\n",
       "      <td>0.29</td>\n",
       "      <td>4</td>\n",
       "      <td>2</td>\n",
       "      <td>4</td>\n",
       "      <td>62.4</td>\n",
       "      <td>58.0</td>\n",
       "      <td>334</td>\n",
       "      <td>4.20</td>\n",
       "      <td>4.23</td>\n",
       "      <td>2.63</td>\n",
       "    </tr>\n",
       "    <tr>\n",
       "      <th>4</th>\n",
       "      <td>0.31</td>\n",
       "      <td>2</td>\n",
       "      <td>1</td>\n",
       "      <td>2</td>\n",
       "      <td>63.3</td>\n",
       "      <td>58.0</td>\n",
       "      <td>335</td>\n",
       "      <td>4.34</td>\n",
       "      <td>4.35</td>\n",
       "      <td>2.75</td>\n",
       "    </tr>\n",
       "    <tr>\n",
       "      <th>...</th>\n",
       "      <td>...</td>\n",
       "      <td>...</td>\n",
       "      <td>...</td>\n",
       "      <td>...</td>\n",
       "      <td>...</td>\n",
       "      <td>...</td>\n",
       "      <td>...</td>\n",
       "      <td>...</td>\n",
       "      <td>...</td>\n",
       "      <td>...</td>\n",
       "    </tr>\n",
       "    <tr>\n",
       "      <th>53935</th>\n",
       "      <td>0.72</td>\n",
       "      <td>5</td>\n",
       "      <td>7</td>\n",
       "      <td>3</td>\n",
       "      <td>60.8</td>\n",
       "      <td>57.0</td>\n",
       "      <td>2757</td>\n",
       "      <td>5.75</td>\n",
       "      <td>5.76</td>\n",
       "      <td>3.50</td>\n",
       "    </tr>\n",
       "    <tr>\n",
       "      <th>53936</th>\n",
       "      <td>0.72</td>\n",
       "      <td>2</td>\n",
       "      <td>7</td>\n",
       "      <td>3</td>\n",
       "      <td>63.1</td>\n",
       "      <td>55.0</td>\n",
       "      <td>2757</td>\n",
       "      <td>5.69</td>\n",
       "      <td>5.75</td>\n",
       "      <td>3.61</td>\n",
       "    </tr>\n",
       "    <tr>\n",
       "      <th>53937</th>\n",
       "      <td>0.70</td>\n",
       "      <td>3</td>\n",
       "      <td>7</td>\n",
       "      <td>3</td>\n",
       "      <td>62.8</td>\n",
       "      <td>60.0</td>\n",
       "      <td>2757</td>\n",
       "      <td>5.66</td>\n",
       "      <td>5.68</td>\n",
       "      <td>3.56</td>\n",
       "    </tr>\n",
       "    <tr>\n",
       "      <th>53938</th>\n",
       "      <td>0.86</td>\n",
       "      <td>4</td>\n",
       "      <td>3</td>\n",
       "      <td>2</td>\n",
       "      <td>61.0</td>\n",
       "      <td>58.0</td>\n",
       "      <td>2757</td>\n",
       "      <td>6.15</td>\n",
       "      <td>6.12</td>\n",
       "      <td>3.74</td>\n",
       "    </tr>\n",
       "    <tr>\n",
       "      <th>53939</th>\n",
       "      <td>0.75</td>\n",
       "      <td>5</td>\n",
       "      <td>7</td>\n",
       "      <td>2</td>\n",
       "      <td>62.2</td>\n",
       "      <td>55.0</td>\n",
       "      <td>2757</td>\n",
       "      <td>5.83</td>\n",
       "      <td>5.87</td>\n",
       "      <td>3.64</td>\n",
       "    </tr>\n",
       "  </tbody>\n",
       "</table>\n",
       "<p>53940 rows × 10 columns</p>\n",
       "</div>"
      ],
      "text/plain": [
       "       carat  cut  color  clarity  height (in mm)  table  price (in USD)  \\\n",
       "0       0.23    5      6        2            61.5   55.0             326   \n",
       "1       0.21    4      6        3            59.8   61.0             326   \n",
       "2       0.23    2      6        5            56.9   65.0             327   \n",
       "3       0.29    4      2        4            62.4   58.0             334   \n",
       "4       0.31    2      1        2            63.3   58.0             335   \n",
       "...      ...  ...    ...      ...             ...    ...             ...   \n",
       "53935   0.72    5      7        3            60.8   57.0            2757   \n",
       "53936   0.72    2      7        3            63.1   55.0            2757   \n",
       "53937   0.70    3      7        3            62.8   60.0            2757   \n",
       "53938   0.86    4      3        2            61.0   58.0            2757   \n",
       "53939   0.75    5      7        2            62.2   55.0            2757   \n",
       "\n",
       "       length (in mm)  width (in mm)  depth (in mm)  \n",
       "0                3.95           3.98           2.43  \n",
       "1                3.89           3.84           2.31  \n",
       "2                4.05           4.07           2.31  \n",
       "3                4.20           4.23           2.63  \n",
       "4                4.34           4.35           2.75  \n",
       "...               ...            ...            ...  \n",
       "53935            5.75           5.76           3.50  \n",
       "53936            5.69           5.75           3.61  \n",
       "53937            5.66           5.68           3.56  \n",
       "53938            6.15           6.12           3.74  \n",
       "53939            5.83           5.87           3.64  \n",
       "\n",
       "[53940 rows x 10 columns]"
      ]
     },
     "execution_count": 3,
     "metadata": {},
     "output_type": "execute_result"
    }
   ],
   "source": [
    "data"
   ]
  },
  {
   "cell_type": "code",
   "execution_count": 4,
   "id": "37348a39",
   "metadata": {},
   "outputs": [
    {
     "data": {
      "text/html": [
       "<div>\n",
       "<style scoped>\n",
       "    .dataframe tbody tr th:only-of-type {\n",
       "        vertical-align: middle;\n",
       "    }\n",
       "\n",
       "    .dataframe tbody tr th {\n",
       "        vertical-align: top;\n",
       "    }\n",
       "\n",
       "    .dataframe thead th {\n",
       "        text-align: right;\n",
       "    }\n",
       "</style>\n",
       "<table border=\"1\" class=\"dataframe\">\n",
       "  <thead>\n",
       "    <tr style=\"text-align: right;\">\n",
       "      <th></th>\n",
       "      <th>carat</th>\n",
       "      <th>cut</th>\n",
       "      <th>color</th>\n",
       "      <th>clarity</th>\n",
       "      <th>height (in mm)</th>\n",
       "      <th>table</th>\n",
       "      <th>price (in USD)</th>\n",
       "      <th>length (in mm)</th>\n",
       "      <th>width (in mm)</th>\n",
       "      <th>depth (in mm)</th>\n",
       "    </tr>\n",
       "  </thead>\n",
       "  <tbody>\n",
       "    <tr>\n",
       "      <th>0</th>\n",
       "      <td>0.23</td>\n",
       "      <td>5</td>\n",
       "      <td>6</td>\n",
       "      <td>2</td>\n",
       "      <td>61.5</td>\n",
       "      <td>55.0</td>\n",
       "      <td>326</td>\n",
       "      <td>3.95</td>\n",
       "      <td>3.98</td>\n",
       "      <td>2.43</td>\n",
       "    </tr>\n",
       "    <tr>\n",
       "      <th>1</th>\n",
       "      <td>0.21</td>\n",
       "      <td>4</td>\n",
       "      <td>6</td>\n",
       "      <td>3</td>\n",
       "      <td>59.8</td>\n",
       "      <td>61.0</td>\n",
       "      <td>326</td>\n",
       "      <td>3.89</td>\n",
       "      <td>3.84</td>\n",
       "      <td>2.31</td>\n",
       "    </tr>\n",
       "    <tr>\n",
       "      <th>2</th>\n",
       "      <td>0.23</td>\n",
       "      <td>2</td>\n",
       "      <td>6</td>\n",
       "      <td>5</td>\n",
       "      <td>56.9</td>\n",
       "      <td>65.0</td>\n",
       "      <td>327</td>\n",
       "      <td>4.05</td>\n",
       "      <td>4.07</td>\n",
       "      <td>2.31</td>\n",
       "    </tr>\n",
       "    <tr>\n",
       "      <th>3</th>\n",
       "      <td>0.29</td>\n",
       "      <td>4</td>\n",
       "      <td>2</td>\n",
       "      <td>4</td>\n",
       "      <td>62.4</td>\n",
       "      <td>58.0</td>\n",
       "      <td>334</td>\n",
       "      <td>4.20</td>\n",
       "      <td>4.23</td>\n",
       "      <td>2.63</td>\n",
       "    </tr>\n",
       "    <tr>\n",
       "      <th>4</th>\n",
       "      <td>0.31</td>\n",
       "      <td>2</td>\n",
       "      <td>1</td>\n",
       "      <td>2</td>\n",
       "      <td>63.3</td>\n",
       "      <td>58.0</td>\n",
       "      <td>335</td>\n",
       "      <td>4.34</td>\n",
       "      <td>4.35</td>\n",
       "      <td>2.75</td>\n",
       "    </tr>\n",
       "  </tbody>\n",
       "</table>\n",
       "</div>"
      ],
      "text/plain": [
       "   carat  cut  color  clarity  height (in mm)  table  price (in USD)  \\\n",
       "0   0.23    5      6        2            61.5   55.0             326   \n",
       "1   0.21    4      6        3            59.8   61.0             326   \n",
       "2   0.23    2      6        5            56.9   65.0             327   \n",
       "3   0.29    4      2        4            62.4   58.0             334   \n",
       "4   0.31    2      1        2            63.3   58.0             335   \n",
       "\n",
       "   length (in mm)  width (in mm)  depth (in mm)  \n",
       "0            3.95           3.98           2.43  \n",
       "1            3.89           3.84           2.31  \n",
       "2            4.05           4.07           2.31  \n",
       "3            4.20           4.23           2.63  \n",
       "4            4.34           4.35           2.75  "
      ]
     },
     "execution_count": 4,
     "metadata": {},
     "output_type": "execute_result"
    }
   ],
   "source": [
    "data.head()"
   ]
  },
  {
   "cell_type": "code",
   "execution_count": 5,
   "id": "40b1302c",
   "metadata": {},
   "outputs": [
    {
     "name": "stdout",
     "output_type": "stream",
     "text": [
      "<class 'pandas.core.frame.DataFrame'>\n",
      "RangeIndex: 53940 entries, 0 to 53939\n",
      "Data columns (total 10 columns):\n",
      " #   Column          Non-Null Count  Dtype  \n",
      "---  ------          --------------  -----  \n",
      " 0   carat           53940 non-null  float64\n",
      " 1   cut             53940 non-null  int64  \n",
      " 2   color           53940 non-null  int64  \n",
      " 3   clarity         53940 non-null  int64  \n",
      " 4   height (in mm)  53940 non-null  float64\n",
      " 5   table           53940 non-null  float64\n",
      " 6   price (in USD)  53940 non-null  int64  \n",
      " 7   length (in mm)  53940 non-null  float64\n",
      " 8   width (in mm)   53940 non-null  float64\n",
      " 9   depth (in mm)   53940 non-null  float64\n",
      "dtypes: float64(6), int64(4)\n",
      "memory usage: 4.1 MB\n"
     ]
    }
   ],
   "source": [
    "data.info()"
   ]
  },
  {
   "cell_type": "code",
   "execution_count": 6,
   "id": "f271716d",
   "metadata": {},
   "outputs": [
    {
     "data": {
      "text/plain": [
       "carat             0\n",
       "cut               0\n",
       "color             0\n",
       "clarity           0\n",
       "height (in mm)    0\n",
       "table             0\n",
       "price (in USD)    0\n",
       "length (in mm)    0\n",
       "width (in mm)     0\n",
       "depth (in mm)     0\n",
       "dtype: int64"
      ]
     },
     "execution_count": 6,
     "metadata": {},
     "output_type": "execute_result"
    }
   ],
   "source": [
    "data.isnull().sum()"
   ]
  },
  {
   "cell_type": "code",
   "execution_count": 7,
   "id": "32f4c5b3",
   "metadata": {},
   "outputs": [
    {
     "data": {
      "text/plain": [
       "carat             float64\n",
       "cut                 int64\n",
       "color               int64\n",
       "clarity             int64\n",
       "height (in mm)    float64\n",
       "table             float64\n",
       "price (in USD)      int64\n",
       "length (in mm)    float64\n",
       "width (in mm)     float64\n",
       "depth (in mm)     float64\n",
       "dtype: object"
      ]
     },
     "execution_count": 7,
     "metadata": {},
     "output_type": "execute_result"
    }
   ],
   "source": [
    "data.dtypes"
   ]
  },
  {
   "cell_type": "code",
   "execution_count": 8,
   "id": "370487fe",
   "metadata": {},
   "outputs": [
    {
     "data": {
      "text/html": [
       "<div>\n",
       "<style scoped>\n",
       "    .dataframe tbody tr th:only-of-type {\n",
       "        vertical-align: middle;\n",
       "    }\n",
       "\n",
       "    .dataframe tbody tr th {\n",
       "        vertical-align: top;\n",
       "    }\n",
       "\n",
       "    .dataframe thead th {\n",
       "        text-align: right;\n",
       "    }\n",
       "</style>\n",
       "<table border=\"1\" class=\"dataframe\">\n",
       "  <thead>\n",
       "    <tr style=\"text-align: right;\">\n",
       "      <th></th>\n",
       "      <th>carat</th>\n",
       "      <th>cut</th>\n",
       "      <th>color</th>\n",
       "      <th>clarity</th>\n",
       "      <th>height (in mm)</th>\n",
       "      <th>table</th>\n",
       "      <th>price (in USD)</th>\n",
       "      <th>length (in mm)</th>\n",
       "      <th>width (in mm)</th>\n",
       "      <th>depth (in mm)</th>\n",
       "    </tr>\n",
       "  </thead>\n",
       "  <tbody>\n",
       "    <tr>\n",
       "      <th>count</th>\n",
       "      <td>53940.000000</td>\n",
       "      <td>53940.000000</td>\n",
       "      <td>53940.000000</td>\n",
       "      <td>53940.000000</td>\n",
       "      <td>53940.000000</td>\n",
       "      <td>53940.000000</td>\n",
       "      <td>53940.000000</td>\n",
       "      <td>53940.000000</td>\n",
       "      <td>53940.000000</td>\n",
       "      <td>53940.000000</td>\n",
       "    </tr>\n",
       "    <tr>\n",
       "      <th>mean</th>\n",
       "      <td>0.797940</td>\n",
       "      <td>3.904097</td>\n",
       "      <td>4.405803</td>\n",
       "      <td>4.051020</td>\n",
       "      <td>61.749405</td>\n",
       "      <td>57.457184</td>\n",
       "      <td>3932.799722</td>\n",
       "      <td>5.731157</td>\n",
       "      <td>5.734526</td>\n",
       "      <td>3.538734</td>\n",
       "    </tr>\n",
       "    <tr>\n",
       "      <th>std</th>\n",
       "      <td>0.474011</td>\n",
       "      <td>1.116600</td>\n",
       "      <td>1.701105</td>\n",
       "      <td>1.647136</td>\n",
       "      <td>1.432621</td>\n",
       "      <td>2.234491</td>\n",
       "      <td>3989.439738</td>\n",
       "      <td>1.121761</td>\n",
       "      <td>1.142135</td>\n",
       "      <td>0.705699</td>\n",
       "    </tr>\n",
       "    <tr>\n",
       "      <th>min</th>\n",
       "      <td>0.200000</td>\n",
       "      <td>1.000000</td>\n",
       "      <td>1.000000</td>\n",
       "      <td>1.000000</td>\n",
       "      <td>43.000000</td>\n",
       "      <td>43.000000</td>\n",
       "      <td>326.000000</td>\n",
       "      <td>0.000000</td>\n",
       "      <td>0.000000</td>\n",
       "      <td>0.000000</td>\n",
       "    </tr>\n",
       "    <tr>\n",
       "      <th>25%</th>\n",
       "      <td>0.400000</td>\n",
       "      <td>3.000000</td>\n",
       "      <td>3.000000</td>\n",
       "      <td>3.000000</td>\n",
       "      <td>61.000000</td>\n",
       "      <td>56.000000</td>\n",
       "      <td>950.000000</td>\n",
       "      <td>4.710000</td>\n",
       "      <td>4.720000</td>\n",
       "      <td>2.910000</td>\n",
       "    </tr>\n",
       "    <tr>\n",
       "      <th>50%</th>\n",
       "      <td>0.700000</td>\n",
       "      <td>4.000000</td>\n",
       "      <td>4.000000</td>\n",
       "      <td>4.000000</td>\n",
       "      <td>61.800000</td>\n",
       "      <td>57.000000</td>\n",
       "      <td>2401.000000</td>\n",
       "      <td>5.700000</td>\n",
       "      <td>5.710000</td>\n",
       "      <td>3.530000</td>\n",
       "    </tr>\n",
       "    <tr>\n",
       "      <th>75%</th>\n",
       "      <td>1.040000</td>\n",
       "      <td>5.000000</td>\n",
       "      <td>6.000000</td>\n",
       "      <td>5.000000</td>\n",
       "      <td>62.500000</td>\n",
       "      <td>59.000000</td>\n",
       "      <td>5324.250000</td>\n",
       "      <td>6.540000</td>\n",
       "      <td>6.540000</td>\n",
       "      <td>4.040000</td>\n",
       "    </tr>\n",
       "    <tr>\n",
       "      <th>max</th>\n",
       "      <td>5.010000</td>\n",
       "      <td>5.000000</td>\n",
       "      <td>7.000000</td>\n",
       "      <td>8.000000</td>\n",
       "      <td>79.000000</td>\n",
       "      <td>95.000000</td>\n",
       "      <td>18823.000000</td>\n",
       "      <td>10.740000</td>\n",
       "      <td>58.900000</td>\n",
       "      <td>31.800000</td>\n",
       "    </tr>\n",
       "  </tbody>\n",
       "</table>\n",
       "</div>"
      ],
      "text/plain": [
       "              carat           cut         color       clarity  height (in mm)  \\\n",
       "count  53940.000000  53940.000000  53940.000000  53940.000000    53940.000000   \n",
       "mean       0.797940      3.904097      4.405803      4.051020       61.749405   \n",
       "std        0.474011      1.116600      1.701105      1.647136        1.432621   \n",
       "min        0.200000      1.000000      1.000000      1.000000       43.000000   \n",
       "25%        0.400000      3.000000      3.000000      3.000000       61.000000   \n",
       "50%        0.700000      4.000000      4.000000      4.000000       61.800000   \n",
       "75%        1.040000      5.000000      6.000000      5.000000       62.500000   \n",
       "max        5.010000      5.000000      7.000000      8.000000       79.000000   \n",
       "\n",
       "              table  price (in USD)  length (in mm)  width (in mm)  \\\n",
       "count  53940.000000    53940.000000    53940.000000   53940.000000   \n",
       "mean      57.457184     3932.799722        5.731157       5.734526   \n",
       "std        2.234491     3989.439738        1.121761       1.142135   \n",
       "min       43.000000      326.000000        0.000000       0.000000   \n",
       "25%       56.000000      950.000000        4.710000       4.720000   \n",
       "50%       57.000000     2401.000000        5.700000       5.710000   \n",
       "75%       59.000000     5324.250000        6.540000       6.540000   \n",
       "max       95.000000    18823.000000       10.740000      58.900000   \n",
       "\n",
       "       depth (in mm)  \n",
       "count   53940.000000  \n",
       "mean        3.538734  \n",
       "std         0.705699  \n",
       "min         0.000000  \n",
       "25%         2.910000  \n",
       "50%         3.530000  \n",
       "75%         4.040000  \n",
       "max        31.800000  "
      ]
     },
     "execution_count": 8,
     "metadata": {},
     "output_type": "execute_result"
    }
   ],
   "source": [
    "data.describe()"
   ]
  },
  {
   "cell_type": "code",
   "execution_count": 9,
   "id": "4b51e295",
   "metadata": {},
   "outputs": [],
   "source": [
    "numcols = data.select_dtypes(include = ['float64','int64']).columns.tolist()"
   ]
  },
  {
   "cell_type": "code",
   "execution_count": 10,
   "id": "0b510a9b",
   "metadata": {},
   "outputs": [
    {
     "name": "stderr",
     "output_type": "stream",
     "text": [
      "C:\\Users\\KALPANIGAM\\AppData\\Local\\Temp\\ipykernel_21028\\4154727937.py:3: UserWarning:\n",
      "\n",
      "\n",
      "\n",
      "`distplot` is a deprecated function and will be removed in seaborn v0.14.0.\n",
      "\n",
      "Please adapt your code to use either `displot` (a figure-level function with\n",
      "similar flexibility) or `histplot` (an axes-level function for histograms).\n",
      "\n",
      "For a guide to updating your code to use the new functions, please see\n",
      "https://gist.github.com/mwaskom/de44147ed2974457ad6372750bbe5751\n",
      "\n",
      "\n",
      "C:\\Users\\KALPANIGAM\\AppData\\Local\\Temp\\ipykernel_21028\\4154727937.py:4: UserWarning:\n",
      "\n",
      "\n",
      "\n",
      "`distplot` is a deprecated function and will be removed in seaborn v0.14.0.\n",
      "\n",
      "Please adapt your code to use either `displot` (a figure-level function with\n",
      "similar flexibility) or `histplot` (an axes-level function for histograms).\n",
      "\n",
      "For a guide to updating your code to use the new functions, please see\n",
      "https://gist.github.com/mwaskom/de44147ed2974457ad6372750bbe5751\n",
      "\n",
      "\n",
      "C:\\Users\\KALPANIGAM\\AppData\\Local\\Temp\\ipykernel_21028\\4154727937.py:5: UserWarning:\n",
      "\n",
      "\n",
      "\n",
      "`distplot` is a deprecated function and will be removed in seaborn v0.14.0.\n",
      "\n",
      "Please adapt your code to use either `displot` (a figure-level function with\n",
      "similar flexibility) or `histplot` (an axes-level function for histograms).\n",
      "\n",
      "For a guide to updating your code to use the new functions, please see\n",
      "https://gist.github.com/mwaskom/de44147ed2974457ad6372750bbe5751\n",
      "\n",
      "\n",
      "C:\\Users\\KALPANIGAM\\AppData\\Local\\Temp\\ipykernel_21028\\4154727937.py:6: UserWarning:\n",
      "\n",
      "\n",
      "\n",
      "`distplot` is a deprecated function and will be removed in seaborn v0.14.0.\n",
      "\n",
      "Please adapt your code to use either `displot` (a figure-level function with\n",
      "similar flexibility) or `histplot` (an axes-level function for histograms).\n",
      "\n",
      "For a guide to updating your code to use the new functions, please see\n",
      "https://gist.github.com/mwaskom/de44147ed2974457ad6372750bbe5751\n",
      "\n",
      "\n",
      "C:\\Users\\KALPANIGAM\\AppData\\Local\\Temp\\ipykernel_21028\\4154727937.py:7: UserWarning:\n",
      "\n",
      "\n",
      "\n",
      "`distplot` is a deprecated function and will be removed in seaborn v0.14.0.\n",
      "\n",
      "Please adapt your code to use either `displot` (a figure-level function with\n",
      "similar flexibility) or `histplot` (an axes-level function for histograms).\n",
      "\n",
      "For a guide to updating your code to use the new functions, please see\n",
      "https://gist.github.com/mwaskom/de44147ed2974457ad6372750bbe5751\n",
      "\n",
      "\n",
      "C:\\Users\\KALPANIGAM\\AppData\\Local\\Temp\\ipykernel_21028\\4154727937.py:8: UserWarning:\n",
      "\n",
      "\n",
      "\n",
      "`distplot` is a deprecated function and will be removed in seaborn v0.14.0.\n",
      "\n",
      "Please adapt your code to use either `displot` (a figure-level function with\n",
      "similar flexibility) or `histplot` (an axes-level function for histograms).\n",
      "\n",
      "For a guide to updating your code to use the new functions, please see\n",
      "https://gist.github.com/mwaskom/de44147ed2974457ad6372750bbe5751\n",
      "\n",
      "\n",
      "C:\\Users\\KALPANIGAM\\AppData\\Local\\Temp\\ipykernel_21028\\4154727937.py:9: UserWarning:\n",
      "\n",
      "\n",
      "\n",
      "`distplot` is a deprecated function and will be removed in seaborn v0.14.0.\n",
      "\n",
      "Please adapt your code to use either `displot` (a figure-level function with\n",
      "similar flexibility) or `histplot` (an axes-level function for histograms).\n",
      "\n",
      "For a guide to updating your code to use the new functions, please see\n",
      "https://gist.github.com/mwaskom/de44147ed2974457ad6372750bbe5751\n",
      "\n",
      "\n"
     ]
    },
    {
     "data": {
      "image/png": "[encoded data removed]",
      "text/plain": [
       "<Figure size 1200x800 with 9 Axes>"
      ]
     },
     "metadata": {},
     "output_type": "display_data"
    }
   ],
   "source": [
    "colors = sns.color_palette(\"deep\")\n",
    "fig,axes = plt.subplots(3,3, figsize = (12,8)) \n",
    "sns.distplot(data[\"carat\"], color = colors[0], ax = axes[0,0])\n",
    "sns.distplot(data[\"height (in mm)\"], color = colors[1], ax = axes[0,1])\n",
    "sns.distplot(data[\"table\"], color = colors[2], ax = axes[0,2])\n",
    "sns.distplot(data[\"price (in USD)\"], color = colors[3], ax = axes[1,0])\n",
    "sns.distplot(data[\"length (in mm)\"], color = colors[4], ax = axes[1,1])\n",
    "sns.distplot(data[\"width (in mm)\"], color = colors[0], ax = axes[1,2])\n",
    "sns.distplot(data[\"depth (in mm)\"], color = colors[1], ax = axes[2,0])\n",
    "plt.suptitle(\"Distribution of Quantitative Data\", size = 16)\n",
    "plt.tight_layout(rect=[0, 0.03, 1, 0.95])\n",
    "plt.show()"
   ]
  },
  {
   "cell_type": "code",
   "execution_count": 11,
   "id": "e9596dcd",
   "metadata": {},
   "outputs": [
    {
     "data": {
      "image/png": "[encoded data removed]",
      "text/plain": [
       "<Figure size 1200x800 with 9 Axes>"
      ]
     },
     "metadata": {},
     "output_type": "display_data"
    }
   ],
   "source": [
    "colors = sns.color_palette(\"deep\")\n",
    "fig,axes = plt.subplots(3,3, figsize = (12,8)) \n",
    "sns.boxplot(y = data[\"carat\"], color = colors[0], ax = axes[0,0])\n",
    "sns.boxplot(y = data[\"height (in mm)\"], color = colors[1], ax = axes[0,1])\n",
    "sns.boxplot(y = data[\"table\"], color = colors[2], ax = axes[0,2])\n",
    "sns.boxplot(y = data[\"price (in USD)\"], color = colors[3], ax = axes[1,0])\n",
    "sns.boxplot(y = data[\"length (in mm)\"], color = colors[4], ax = axes[1,1])\n",
    "sns.boxplot(y = data[\"width (in mm)\"], color = colors[0], ax = axes[1,2])\n",
    "sns.boxplot(y = data[\"depth (in mm)\"], color = colors[1], ax = axes[2,0])\n",
    "plt.suptitle(\"Distribution of Quantitative Data (boxplots)\", size = 16)\n",
    "plt.tight_layout(rect=[0, 0.03, 1, 0.95])\n",
    "plt.show()"
   ]
  },
  {
   "cell_type": "code",
   "execution_count": 12,
   "id": "95174d40",
   "metadata": {},
   "outputs": [],
   "source": [
    "zero_data = data[(data['length (in mm)'] == 0) | (data['width (in mm)'] == 0) | (data['depth (in mm)'] == 0)]"
   ]
  },
  {
   "cell_type": "code",
   "execution_count": 13,
   "id": "19aa133a",
   "metadata": {},
   "outputs": [
    {
     "data": {
      "text/html": [
       "<div>\n",
       "<style scoped>\n",
       "    .dataframe tbody tr th:only-of-type {\n",
       "        vertical-align: middle;\n",
       "    }\n",
       "\n",
       "    .dataframe tbody tr th {\n",
       "        vertical-align: top;\n",
       "    }\n",
       "\n",
       "    .dataframe thead th {\n",
       "        text-align: right;\n",
       "    }\n",
       "</style>\n",
       "<table border=\"1\" class=\"dataframe\">\n",
       "  <thead>\n",
       "    <tr style=\"text-align: right;\">\n",
       "      <th></th>\n",
       "      <th>carat</th>\n",
       "      <th>cut</th>\n",
       "      <th>color</th>\n",
       "      <th>clarity</th>\n",
       "      <th>height (in mm)</th>\n",
       "      <th>table</th>\n",
       "      <th>price (in USD)</th>\n",
       "      <th>length (in mm)</th>\n",
       "      <th>width (in mm)</th>\n",
       "      <th>depth (in mm)</th>\n",
       "    </tr>\n",
       "  </thead>\n",
       "  <tbody>\n",
       "    <tr>\n",
       "      <th>2207</th>\n",
       "      <td>1.00</td>\n",
       "      <td>4</td>\n",
       "      <td>4</td>\n",
       "      <td>2</td>\n",
       "      <td>59.1</td>\n",
       "      <td>59.0</td>\n",
       "      <td>3142</td>\n",
       "      <td>6.55</td>\n",
       "      <td>6.48</td>\n",
       "      <td>0.0</td>\n",
       "    </tr>\n",
       "    <tr>\n",
       "      <th>2314</th>\n",
       "      <td>1.01</td>\n",
       "      <td>4</td>\n",
       "      <td>3</td>\n",
       "      <td>1</td>\n",
       "      <td>58.1</td>\n",
       "      <td>59.0</td>\n",
       "      <td>3167</td>\n",
       "      <td>6.66</td>\n",
       "      <td>6.60</td>\n",
       "      <td>0.0</td>\n",
       "    </tr>\n",
       "    <tr>\n",
       "      <th>4791</th>\n",
       "      <td>1.10</td>\n",
       "      <td>4</td>\n",
       "      <td>4</td>\n",
       "      <td>2</td>\n",
       "      <td>63.0</td>\n",
       "      <td>59.0</td>\n",
       "      <td>3696</td>\n",
       "      <td>6.50</td>\n",
       "      <td>6.47</td>\n",
       "      <td>0.0</td>\n",
       "    </tr>\n",
       "    <tr>\n",
       "      <th>5471</th>\n",
       "      <td>1.01</td>\n",
       "      <td>4</td>\n",
       "      <td>5</td>\n",
       "      <td>2</td>\n",
       "      <td>59.2</td>\n",
       "      <td>58.0</td>\n",
       "      <td>3837</td>\n",
       "      <td>6.50</td>\n",
       "      <td>6.47</td>\n",
       "      <td>0.0</td>\n",
       "    </tr>\n",
       "    <tr>\n",
       "      <th>10167</th>\n",
       "      <td>1.50</td>\n",
       "      <td>2</td>\n",
       "      <td>4</td>\n",
       "      <td>1</td>\n",
       "      <td>64.0</td>\n",
       "      <td>61.0</td>\n",
       "      <td>4731</td>\n",
       "      <td>7.15</td>\n",
       "      <td>7.04</td>\n",
       "      <td>0.0</td>\n",
       "    </tr>\n",
       "  </tbody>\n",
       "</table>\n",
       "</div>"
      ],
      "text/plain": [
       "       carat  cut  color  clarity  height (in mm)  table  price (in USD)  \\\n",
       "2207    1.00    4      4        2            59.1   59.0            3142   \n",
       "2314    1.01    4      3        1            58.1   59.0            3167   \n",
       "4791    1.10    4      4        2            63.0   59.0            3696   \n",
       "5471    1.01    4      5        2            59.2   58.0            3837   \n",
       "10167   1.50    2      4        1            64.0   61.0            4731   \n",
       "\n",
       "       length (in mm)  width (in mm)  depth (in mm)  \n",
       "2207             6.55           6.48            0.0  \n",
       "2314             6.66           6.60            0.0  \n",
       "4791             6.50           6.47            0.0  \n",
       "5471             6.50           6.47            0.0  \n",
       "10167            7.15           7.04            0.0  "
      ]
     },
     "execution_count": 13,
     "metadata": {},
     "output_type": "execute_result"
    }
   ],
   "source": [
    "zero_data.head()"
   ]
  },
  {
   "cell_type": "code",
   "execution_count": 14,
   "id": "8683066d",
   "metadata": {},
   "outputs": [
    {
     "data": {
      "text/plain": [
       "(20, 10)"
      ]
     },
     "execution_count": 14,
     "metadata": {},
     "output_type": "execute_result"
    }
   ],
   "source": [
    "zero_data.shape"
   ]
  },
  {
   "cell_type": "code",
   "execution_count": 15,
   "id": "f9e0218b",
   "metadata": {},
   "outputs": [],
   "source": [
    "data.drop(zero_data.index, inplace = True)"
   ]
  },
  {
   "cell_type": "code",
   "execution_count": 16,
   "id": "8c679099",
   "metadata": {},
   "outputs": [
    {
     "data": {
      "text/plain": [
       "(53920, 10)"
      ]
     },
     "execution_count": 16,
     "metadata": {},
     "output_type": "execute_result"
    }
   ],
   "source": [
    "data.shape"
   ]
  },
  {
   "cell_type": "code",
   "execution_count": 17,
   "id": "38497711",
   "metadata": {},
   "outputs": [],
   "source": [
    "X = data.drop(['price (in USD)'], axis=1)\n",
    "y = data['price (in USD)']"
   ]
  },
  {
   "cell_type": "code",
   "execution_count": 18,
   "id": "51d6f3de",
   "metadata": {},
   "outputs": [],
   "source": [
    "X_train, X_test, y_train, y_test = train_test_split(X, y, test_size=0.2)"
   ]
  },
  {
   "cell_type": "code",
   "execution_count": 19,
   "id": "ea4066fd",
   "metadata": {},
   "outputs": [
    {
     "name": "stdout",
     "output_type": "stream",
     "text": [
      "Total dataset size: (53920, 10)\n",
      "Training set size (80%): (43136, 9)\n",
      "Test set size (20%): (10784, 9)\n"
     ]
    }
   ],
   "source": [
    "print(\"Total dataset size: {}\".format(data.shape))\n",
    "print(\"Training set size (80%): {}\".format(X_train.shape))\n",
    "print(\"Test set size (20%): {}\".format(X_test.shape))"
   ]
  },
  {
   "cell_type": "markdown",
   "id": "9af14bff",
   "metadata": {},
   "source": [
    "# StandardScaler Method"
   ]
  },
  {
   "cell_type": "code",
   "execution_count": 20,
   "id": "737e1f47",
   "metadata": {},
   "outputs": [],
   "source": [
    "from sklearn.preprocessing import StandardScaler\n",
    "scaler=StandardScaler()\n",
    "X_train=scaler.fit_transform(X_train)\n",
    "X_test=scaler.fit_transform(X_test)"
   ]
  },
  {
   "cell_type": "markdown",
   "id": "73927284",
   "metadata": {},
   "source": [
    "#  Training Dataset "
   ]
  },
  {
   "cell_type": "code",
   "execution_count": 21,
   "id": "9866fe84",
   "metadata": {},
   "outputs": [],
   "source": [
    "from sklearn.model_selection import train_test_split\n",
    "X_train, X_test, y_train, y_test = train_test_split(X, y, test_size=0.2)"
   ]
  },
  {
   "cell_type": "markdown",
   "id": "288789e7",
   "metadata": {},
   "source": [
    "# Linear Regression Algorithm"
   ]
  },
  {
   "cell_type": "code",
   "execution_count": 22,
   "id": "1ba0e1e9",
   "metadata": {},
   "outputs": [],
   "source": [
    "from sklearn.linear_model import LinearRegression\n",
    "linreg=LinearRegression()\n",
    "linreg.fit(X_train,y_train)\n",
    "pred=linreg.predict(X_test)"
   ]
  },
  {
   "cell_type": "markdown",
   "id": "7e757788",
   "metadata": {},
   "source": [
    "# Accuracy Score of Linear Regression Model"
   ]
  },
  {
   "cell_type": "code",
   "execution_count": 23,
   "id": "89971428",
   "metadata": {},
   "outputs": [
    {
     "name": "stdout",
     "output_type": "stream",
     "text": [
      "0.9075437489865839\n"
     ]
    }
   ],
   "source": [
    "from sklearn.metrics import r2_score\n",
    "lr = r2_score(y_test,pred)\n",
    "print(lr)"
   ]
  },
  {
   "cell_type": "markdown",
   "id": "17bc24cf",
   "metadata": {},
   "source": [
    "# Decision Tree Regressor Algorithm"
   ]
  },
  {
   "cell_type": "code",
   "execution_count": 24,
   "id": "3acceeb5",
   "metadata": {},
   "outputs": [],
   "source": [
    "from sklearn.tree import DecisionTreeRegressor\n",
    "reg=DecisionTreeRegressor()\n",
    "reg.fit(X_train,y_train)\n",
    "pred1=reg.predict(X_test)"
   ]
  },
  {
   "cell_type": "markdown",
   "id": "bc6d0788",
   "metadata": {},
   "source": [
    "# Accuracy Score of Decision Tree Regressor Model"
   ]
  },
  {
   "cell_type": "code",
   "execution_count": 49,
   "id": "63cac214",
   "metadata": {},
   "outputs": [
    {
     "name": "stdout",
     "output_type": "stream",
     "text": [
      "0.9647081975502118\n"
     ]
    }
   ],
   "source": [
    "from sklearn.metrics import r2_score\n",
    "dtr=r2_score(y_test,pred1)\n",
    "print(dtr)"
   ]
  },
  {
   "cell_type": "markdown",
   "id": "d0e12ee2",
   "metadata": {},
   "source": [
    "# Random Forest Regressor Algorithm"
   ]
  },
  {
   "cell_type": "code",
   "execution_count": 26,
   "id": "5d7ca569",
   "metadata": {},
   "outputs": [],
   "source": [
    "from sklearn.ensemble import RandomForestRegressor\n",
    "rf=RandomForestRegressor(n_estimators=50)\n",
    "rf.fit(X_train,y_train)\n",
    "pred2=rf.predict(X_test)"
   ]
  },
  {
   "cell_type": "markdown",
   "id": "bc068249",
   "metadata": {},
   "source": [
    "# Accuracy Score of Random Forest Regressor Model"
   ]
  },
  {
   "cell_type": "code",
   "execution_count": 45,
   "id": "db882a0b",
   "metadata": {},
   "outputs": [
    {
     "name": "stdout",
     "output_type": "stream",
     "text": [
      "0.9810825235161053\n"
     ]
    }
   ],
   "source": [
    "from sklearn.metrics import r2_score\n",
    "rfr=r2_score(y_test,pred2)\n",
    "print(rfr)"
   ]
  },
  {
   "cell_type": "markdown",
   "id": "178da321",
   "metadata": {},
   "source": [
    "# K-Neighbors Regressor Algorithm"
   ]
  },
  {
   "cell_type": "code",
   "execution_count": 28,
   "id": "2451d8d2",
   "metadata": {},
   "outputs": [],
   "source": [
    "from sklearn.neighbors import KNeighborsRegressor\n",
    "knn=KNeighborsRegressor(n_neighbors=5)\n",
    "knn.fit(X_train,y_train)\n",
    "pred3=knn.predict(X_test)"
   ]
  },
  {
   "cell_type": "markdown",
   "id": "fcdd7e7b",
   "metadata": {},
   "source": [
    "# Accuracy Score of K-Neighbors Regressor Model"
   ]
  },
  {
   "cell_type": "code",
   "execution_count": 47,
   "id": "35b90011",
   "metadata": {},
   "outputs": [
    {
     "name": "stdout",
     "output_type": "stream",
     "text": [
      "0.968075587430797\n"
     ]
    }
   ],
   "source": [
    "from sklearn.metrics import r2_score\n",
    "knr=r2_score(y_test,pred3)\n",
    "print(knr)"
   ]
  },
  {
   "cell_type": "markdown",
   "id": "be5aba52",
   "metadata": {},
   "source": [
    "# Lasso Regression Algorithm"
   ]
  },
  {
   "cell_type": "code",
   "execution_count": 30,
   "id": "7927f543",
   "metadata": {},
   "outputs": [],
   "source": [
    "from sklearn.linear_model import Lasso\n",
    "lassoreg=Lasso()\n",
    "lassoreg.fit(X_train,y_train)\n",
    "pred4=lassoreg.predict(X_test)"
   ]
  },
  {
   "cell_type": "markdown",
   "id": "dbcb580e",
   "metadata": {},
   "source": [
    "# Accuracy Score of Lasso Algorithm"
   ]
  },
  {
   "cell_type": "code",
   "execution_count": 31,
   "id": "fb61bd2d",
   "metadata": {},
   "outputs": [
    {
     "name": "stdout",
     "output_type": "stream",
     "text": [
      "0.907572102619866\n"
     ]
    }
   ],
   "source": [
    "lasso=r2_score(y_test,pred4)\n",
    "print(lasso)"
   ]
  },
  {
   "cell_type": "markdown",
   "id": "2b07ad35",
   "metadata": {},
   "source": [
    "# Ridge Regression Algorithm"
   ]
  },
  {
   "cell_type": "code",
   "execution_count": 32,
   "id": "d46b7deb",
   "metadata": {},
   "outputs": [],
   "source": [
    "from sklearn.linear_model import Ridge\n",
    "ridreg=Ridge()\n",
    "ridreg.fit(X_train,y_train)\n",
    "pred4=ridreg.predict(X_test)"
   ]
  },
  {
   "cell_type": "markdown",
   "id": "db8b27c2",
   "metadata": {},
   "source": [
    "# Accuracy Score of Ridge Algorithm"
   ]
  },
  {
   "cell_type": "code",
   "execution_count": 33,
   "id": "5b50fc26",
   "metadata": {},
   "outputs": [
    {
     "name": "stdout",
     "output_type": "stream",
     "text": [
      "0.9075547354892607\n"
     ]
    }
   ],
   "source": [
    "from sklearn.metrics import r2_score\n",
    "rid=r2_score(y_test,pred4)\n",
    "print(rid)"
   ]
  },
  {
   "cell_type": "markdown",
   "id": "d85c0d44",
   "metadata": {},
   "source": [
    "# Support Vector Regression Algorithm"
   ]
  },
  {
   "cell_type": "code",
   "execution_count": null,
   "id": "e2bc424b",
   "metadata": {},
   "outputs": [],
   "source": [
    "from sklearn.svm import SVR\n",
    "svr=SVR()\n",
    "svr.fit(X_train,y_train)\n",
    "pred5=svr.predict(X_test)"
   ]
  },
  {
   "cell_type": "markdown",
   "id": "d2d1084e",
   "metadata": {},
   "source": [
    "# Accuracy Score of SVR Algorithm"
   ]
  },
  {
   "cell_type": "code",
   "execution_count": 44,
   "id": "395718ec",
   "metadata": {},
   "outputs": [],
   "source": [
    "rfr=0.9810825235161052"
   ]
  },
  {
   "cell_type": "code",
   "execution_count": 46,
   "id": "595f6362",
   "metadata": {},
   "outputs": [],
   "source": [
    "knr=0.968075587430797"
   ]
  },
  {
   "cell_type": "code",
   "execution_count": 48,
   "id": "afe98bec",
   "metadata": {},
   "outputs": [],
   "source": [
    "dtr=0.9647081975502118"
   ]
  },
  {
   "cell_type": "code",
   "execution_count": null,
   "id": "e215e7de",
   "metadata": {},
   "outputs": [],
   "source": []
  }
 ],
 "metadata": {
  "kernelspec": {
   "display_name": "Python 3 (ipykernel)",
   "language": "python",
   "name": "python3"
  },
  "language_info": {
   "codemirror_mode": {
    "name": "ipython",
    "version": 3
   },
   "file_extension": ".py",
   "mimetype": "text/x-python",
   "name": "python",
   "nbconvert_exporter": "python",
   "pygments_lexer": "ipython3",
   "version": "3.10.0"
  }
 },
 "nbformat": 4,
 "nbformat_minor": 5
}
