{
 "cells": [
  {
   "cell_type": "code",
   "execution_count": 108,
   "id": "8bb666ae",
   "metadata": {},
   "outputs": [],
   "source": [
    "import numpy as np \n",
    "import pandas as pd\n",
    "import seaborn as sns\n",
    "import matplotlib.pyplot as plt\n",
    "from sklearn.model_selection import train_test_split\n",
    "from sklearn import metrics\n",
    "\n",
    "from sklearn.linear_model import RidgeCV\n",
    "from sklearn.linear_model import LassoCV\n",
    "from sklearn.linear_model import ElasticNetCV\n",
    "from sklearn.ensemble import RandomForestRegressor\n",
    "\n",
    "from sklearn.preprocessing import MinMaxScaler\n",
    "from sklearn.metrics import mean_absolute_error\n",
    "from sklearn.metrics import mean_squared_error\n",
    "from sklearn.metrics import r2_score"
   ]
  },
  {
   "cell_type": "code",
   "execution_count": 34,
   "id": "e59c3b9e",
   "metadata": {},
   "outputs": [],
   "source": [
    "data = pd.read_csv(r\"D:\\7th Semester B.Tech (IT)\\5. Minor Project\\Diamond.csv\")"
   ]
  },
  {
   "cell_type": "code",
   "execution_count": 35,
   "id": "4f1a798d",
   "metadata": {},
   "outputs": [
    {
     "data": {
      "text/html": [
       "<div>\n",
       "<style scoped>\n",
       "    .dataframe tbody tr th:only-of-type {\n",
       "        vertical-align: middle;\n",
       "    }\n",
       "\n",
       "    .dataframe tbody tr th {\n",
       "        vertical-align: top;\n",
       "    }\n",
       "\n",
       "    .dataframe thead th {\n",
       "        text-align: right;\n",
       "    }\n",
       "</style>\n",
       "<table border=\"1\" class=\"dataframe\">\n",
       "  <thead>\n",
       "    <tr style=\"text-align: right;\">\n",
       "      <th></th>\n",
       "      <th>carat</th>\n",
       "      <th>cut</th>\n",
       "      <th>color</th>\n",
       "      <th>clarity</th>\n",
       "      <th>height (in mm)</th>\n",
       "      <th>table</th>\n",
       "      <th>price (in USD)</th>\n",
       "      <th>length (in mm)</th>\n",
       "      <th>width (in mm)</th>\n",
       "      <th>depth (in mm)</th>\n",
       "    </tr>\n",
       "  </thead>\n",
       "  <tbody>\n",
       "    <tr>\n",
       "      <th>0</th>\n",
       "      <td>0.23</td>\n",
       "      <td>5</td>\n",
       "      <td>6</td>\n",
       "      <td>2</td>\n",
       "      <td>61.5</td>\n",
       "      <td>55.0</td>\n",
       "      <td>326</td>\n",
       "      <td>3.95</td>\n",
       "      <td>3.98</td>\n",
       "      <td>2.43</td>\n",
       "    </tr>\n",
       "    <tr>\n",
       "      <th>1</th>\n",
       "      <td>0.21</td>\n",
       "      <td>4</td>\n",
       "      <td>6</td>\n",
       "      <td>3</td>\n",
       "      <td>59.8</td>\n",
       "      <td>61.0</td>\n",
       "      <td>326</td>\n",
       "      <td>3.89</td>\n",
       "      <td>3.84</td>\n",
       "      <td>2.31</td>\n",
       "    </tr>\n",
       "    <tr>\n",
       "      <th>2</th>\n",
       "      <td>0.23</td>\n",
       "      <td>2</td>\n",
       "      <td>6</td>\n",
       "      <td>5</td>\n",
       "      <td>56.9</td>\n",
       "      <td>65.0</td>\n",
       "      <td>327</td>\n",
       "      <td>4.05</td>\n",
       "      <td>4.07</td>\n",
       "      <td>2.31</td>\n",
       "    </tr>\n",
       "    <tr>\n",
       "      <th>3</th>\n",
       "      <td>0.29</td>\n",
       "      <td>4</td>\n",
       "      <td>2</td>\n",
       "      <td>4</td>\n",
       "      <td>62.4</td>\n",
       "      <td>58.0</td>\n",
       "      <td>334</td>\n",
       "      <td>4.20</td>\n",
       "      <td>4.23</td>\n",
       "      <td>2.63</td>\n",
       "    </tr>\n",
       "    <tr>\n",
       "      <th>4</th>\n",
       "      <td>0.31</td>\n",
       "      <td>2</td>\n",
       "      <td>1</td>\n",
       "      <td>2</td>\n",
       "      <td>63.3</td>\n",
       "      <td>58.0</td>\n",
       "      <td>335</td>\n",
       "      <td>4.34</td>\n",
       "      <td>4.35</td>\n",
       "      <td>2.75</td>\n",
       "    </tr>\n",
       "    <tr>\n",
       "      <th>...</th>\n",
       "      <td>...</td>\n",
       "      <td>...</td>\n",
       "      <td>...</td>\n",
       "      <td>...</td>\n",
       "      <td>...</td>\n",
       "      <td>...</td>\n",
       "      <td>...</td>\n",
       "      <td>...</td>\n",
       "      <td>...</td>\n",
       "      <td>...</td>\n",
       "    </tr>\n",
       "    <tr>\n",
       "      <th>53935</th>\n",
       "      <td>0.72</td>\n",
       "      <td>5</td>\n",
       "      <td>7</td>\n",
       "      <td>3</td>\n",
       "      <td>60.8</td>\n",
       "      <td>57.0</td>\n",
       "      <td>2757</td>\n",
       "      <td>5.75</td>\n",
       "      <td>5.76</td>\n",
       "      <td>3.50</td>\n",
       "    </tr>\n",
       "    <tr>\n",
       "      <th>53936</th>\n",
       "      <td>0.72</td>\n",
       "      <td>2</td>\n",
       "      <td>7</td>\n",
       "      <td>3</td>\n",
       "      <td>63.1</td>\n",
       "      <td>55.0</td>\n",
       "      <td>2757</td>\n",
       "      <td>5.69</td>\n",
       "      <td>5.75</td>\n",
       "      <td>3.61</td>\n",
       "    </tr>\n",
       "    <tr>\n",
       "      <th>53937</th>\n",
       "      <td>0.70</td>\n",
       "      <td>3</td>\n",
       "      <td>7</td>\n",
       "      <td>3</td>\n",
       "      <td>62.8</td>\n",
       "      <td>60.0</td>\n",
       "      <td>2757</td>\n",
       "      <td>5.66</td>\n",
       "      <td>5.68</td>\n",
       "      <td>3.56</td>\n",
       "    </tr>\n",
       "    <tr>\n",
       "      <th>53938</th>\n",
       "      <td>0.86</td>\n",
       "      <td>4</td>\n",
       "      <td>3</td>\n",
       "      <td>2</td>\n",
       "      <td>61.0</td>\n",
       "      <td>58.0</td>\n",
       "      <td>2757</td>\n",
       "      <td>6.15</td>\n",
       "      <td>6.12</td>\n",
       "      <td>3.74</td>\n",
       "    </tr>\n",
       "    <tr>\n",
       "      <th>53939</th>\n",
       "      <td>0.75</td>\n",
       "      <td>5</td>\n",
       "      <td>7</td>\n",
       "      <td>2</td>\n",
       "      <td>62.2</td>\n",
       "      <td>55.0</td>\n",
       "      <td>2757</td>\n",
       "      <td>5.83</td>\n",
       "      <td>5.87</td>\n",
       "      <td>3.64</td>\n",
       "    </tr>\n",
       "  </tbody>\n",
       "</table>\n",
       "<p>53940 rows × 10 columns</p>\n",
       "</div>"
      ],
      "text/plain": [
       "       carat  cut  color  clarity  height (in mm)  table  price (in USD)  \\\n",
       "0       0.23    5      6        2            61.5   55.0             326   \n",
       "1       0.21    4      6        3            59.8   61.0             326   \n",
       "2       0.23    2      6        5            56.9   65.0             327   \n",
       "3       0.29    4      2        4            62.4   58.0             334   \n",
       "4       0.31    2      1        2            63.3   58.0             335   \n",
       "...      ...  ...    ...      ...             ...    ...             ...   \n",
       "53935   0.72    5      7        3            60.8   57.0            2757   \n",
       "53936   0.72    2      7        3            63.1   55.0            2757   \n",
       "53937   0.70    3      7        3            62.8   60.0            2757   \n",
       "53938   0.86    4      3        2            61.0   58.0            2757   \n",
       "53939   0.75    5      7        2            62.2   55.0            2757   \n",
       "\n",
       "       length (in mm)  width (in mm)  depth (in mm)  \n",
       "0                3.95           3.98           2.43  \n",
       "1                3.89           3.84           2.31  \n",
       "2                4.05           4.07           2.31  \n",
       "3                4.20           4.23           2.63  \n",
       "4                4.34           4.35           2.75  \n",
       "...               ...            ...            ...  \n",
       "53935            5.75           5.76           3.50  \n",
       "53936            5.69           5.75           3.61  \n",
       "53937            5.66           5.68           3.56  \n",
       "53938            6.15           6.12           3.74  \n",
       "53939            5.83           5.87           3.64  \n",
       "\n",
       "[53940 rows x 10 columns]"
      ]
     },
     "execution_count": 35,
     "metadata": {},
     "output_type": "execute_result"
    }
   ],
   "source": [
    "data"
   ]
  },
  {
   "cell_type": "code",
   "execution_count": 36,
   "id": "5333d093",
   "metadata": {},
   "outputs": [
    {
     "data": {
      "text/html": [
       "<div>\n",
       "<style scoped>\n",
       "    .dataframe tbody tr th:only-of-type {\n",
       "        vertical-align: middle;\n",
       "    }\n",
       "\n",
       "    .dataframe tbody tr th {\n",
       "        vertical-align: top;\n",
       "    }\n",
       "\n",
       "    .dataframe thead th {\n",
       "        text-align: right;\n",
       "    }\n",
       "</style>\n",
       "<table border=\"1\" class=\"dataframe\">\n",
       "  <thead>\n",
       "    <tr style=\"text-align: right;\">\n",
       "      <th></th>\n",
       "      <th>carat</th>\n",
       "      <th>cut</th>\n",
       "      <th>color</th>\n",
       "      <th>clarity</th>\n",
       "      <th>height (in mm)</th>\n",
       "      <th>table</th>\n",
       "      <th>price (in USD)</th>\n",
       "      <th>length (in mm)</th>\n",
       "      <th>width (in mm)</th>\n",
       "      <th>depth (in mm)</th>\n",
       "    </tr>\n",
       "  </thead>\n",
       "  <tbody>\n",
       "    <tr>\n",
       "      <th>0</th>\n",
       "      <td>0.23</td>\n",
       "      <td>5</td>\n",
       "      <td>6</td>\n",
       "      <td>2</td>\n",
       "      <td>61.5</td>\n",
       "      <td>55.0</td>\n",
       "      <td>326</td>\n",
       "      <td>3.95</td>\n",
       "      <td>3.98</td>\n",
       "      <td>2.43</td>\n",
       "    </tr>\n",
       "    <tr>\n",
       "      <th>1</th>\n",
       "      <td>0.21</td>\n",
       "      <td>4</td>\n",
       "      <td>6</td>\n",
       "      <td>3</td>\n",
       "      <td>59.8</td>\n",
       "      <td>61.0</td>\n",
       "      <td>326</td>\n",
       "      <td>3.89</td>\n",
       "      <td>3.84</td>\n",
       "      <td>2.31</td>\n",
       "    </tr>\n",
       "    <tr>\n",
       "      <th>2</th>\n",
       "      <td>0.23</td>\n",
       "      <td>2</td>\n",
       "      <td>6</td>\n",
       "      <td>5</td>\n",
       "      <td>56.9</td>\n",
       "      <td>65.0</td>\n",
       "      <td>327</td>\n",
       "      <td>4.05</td>\n",
       "      <td>4.07</td>\n",
       "      <td>2.31</td>\n",
       "    </tr>\n",
       "    <tr>\n",
       "      <th>3</th>\n",
       "      <td>0.29</td>\n",
       "      <td>4</td>\n",
       "      <td>2</td>\n",
       "      <td>4</td>\n",
       "      <td>62.4</td>\n",
       "      <td>58.0</td>\n",
       "      <td>334</td>\n",
       "      <td>4.20</td>\n",
       "      <td>4.23</td>\n",
       "      <td>2.63</td>\n",
       "    </tr>\n",
       "    <tr>\n",
       "      <th>4</th>\n",
       "      <td>0.31</td>\n",
       "      <td>2</td>\n",
       "      <td>1</td>\n",
       "      <td>2</td>\n",
       "      <td>63.3</td>\n",
       "      <td>58.0</td>\n",
       "      <td>335</td>\n",
       "      <td>4.34</td>\n",
       "      <td>4.35</td>\n",
       "      <td>2.75</td>\n",
       "    </tr>\n",
       "  </tbody>\n",
       "</table>\n",
       "</div>"
      ],
      "text/plain": [
       "   carat  cut  color  clarity  height (in mm)  table  price (in USD)  \\\n",
       "0   0.23    5      6        2            61.5   55.0             326   \n",
       "1   0.21    4      6        3            59.8   61.0             326   \n",
       "2   0.23    2      6        5            56.9   65.0             327   \n",
       "3   0.29    4      2        4            62.4   58.0             334   \n",
       "4   0.31    2      1        2            63.3   58.0             335   \n",
       "\n",
       "   length (in mm)  width (in mm)  depth (in mm)  \n",
       "0            3.95           3.98           2.43  \n",
       "1            3.89           3.84           2.31  \n",
       "2            4.05           4.07           2.31  \n",
       "3            4.20           4.23           2.63  \n",
       "4            4.34           4.35           2.75  "
      ]
     },
     "execution_count": 36,
     "metadata": {},
     "output_type": "execute_result"
    }
   ],
   "source": [
    "data.head()"
   ]
  },
  {
   "cell_type": "code",
   "execution_count": 37,
   "id": "d6ebe983",
   "metadata": {},
   "outputs": [
    {
     "name": "stdout",
     "output_type": "stream",
     "text": [
      "<class 'pandas.core.frame.DataFrame'>\n",
      "RangeIndex: 53940 entries, 0 to 53939\n",
      "Data columns (total 10 columns):\n",
      " #   Column          Non-Null Count  Dtype  \n",
      "---  ------          --------------  -----  \n",
      " 0   carat           53940 non-null  float64\n",
      " 1   cut             53940 non-null  int64  \n",
      " 2   color           53940 non-null  int64  \n",
      " 3   clarity         53940 non-null  int64  \n",
      " 4   height (in mm)  53940 non-null  float64\n",
      " 5   table           53940 non-null  float64\n",
      " 6   price (in USD)  53940 non-null  int64  \n",
      " 7   length (in mm)  53940 non-null  float64\n",
      " 8   width (in mm)   53940 non-null  float64\n",
      " 9   depth (in mm)   53940 non-null  float64\n",
      "dtypes: float64(6), int64(4)\n",
      "memory usage: 4.1 MB\n"
     ]
    }
   ],
   "source": [
    "data.info()"
   ]
  },
  {
   "cell_type": "code",
   "execution_count": 38,
   "id": "4c5b036a",
   "metadata": {},
   "outputs": [
    {
     "data": {
      "text/plain": [
       "carat             0\n",
       "cut               0\n",
       "color             0\n",
       "clarity           0\n",
       "height (in mm)    0\n",
       "table             0\n",
       "price (in USD)    0\n",
       "length (in mm)    0\n",
       "width (in mm)     0\n",
       "depth (in mm)     0\n",
       "dtype: int64"
      ]
     },
     "execution_count": 38,
     "metadata": {},
     "output_type": "execute_result"
    }
   ],
   "source": [
    "data.isnull().sum()"
   ]
  },
  {
   "cell_type": "code",
   "execution_count": 39,
   "id": "d83098b8",
   "metadata": {},
   "outputs": [
    {
     "data": {
      "text/plain": [
       "carat             float64\n",
       "cut                 int64\n",
       "color               int64\n",
       "clarity             int64\n",
       "height (in mm)    float64\n",
       "table             float64\n",
       "price (in USD)      int64\n",
       "length (in mm)    float64\n",
       "width (in mm)     float64\n",
       "depth (in mm)     float64\n",
       "dtype: object"
      ]
     },
     "execution_count": 39,
     "metadata": {},
     "output_type": "execute_result"
    }
   ],
   "source": [
    "data.dtypes"
   ]
  },
  {
   "cell_type": "code",
   "execution_count": 40,
   "id": "e6455f87",
   "metadata": {},
   "outputs": [
    {
     "data": {
      "text/html": [
       "<div>\n",
       "<style scoped>\n",
       "    .dataframe tbody tr th:only-of-type {\n",
       "        vertical-align: middle;\n",
       "    }\n",
       "\n",
       "    .dataframe tbody tr th {\n",
       "        vertical-align: top;\n",
       "    }\n",
       "\n",
       "    .dataframe thead th {\n",
       "        text-align: right;\n",
       "    }\n",
       "</style>\n",
       "<table border=\"1\" class=\"dataframe\">\n",
       "  <thead>\n",
       "    <tr style=\"text-align: right;\">\n",
       "      <th></th>\n",
       "      <th>carat</th>\n",
       "      <th>cut</th>\n",
       "      <th>color</th>\n",
       "      <th>clarity</th>\n",
       "      <th>height (in mm)</th>\n",
       "      <th>table</th>\n",
       "      <th>price (in USD)</th>\n",
       "      <th>length (in mm)</th>\n",
       "      <th>width (in mm)</th>\n",
       "      <th>depth (in mm)</th>\n",
       "    </tr>\n",
       "  </thead>\n",
       "  <tbody>\n",
       "    <tr>\n",
       "      <th>count</th>\n",
       "      <td>53940.000000</td>\n",
       "      <td>53940.000000</td>\n",
       "      <td>53940.000000</td>\n",
       "      <td>53940.000000</td>\n",
       "      <td>53940.000000</td>\n",
       "      <td>53940.000000</td>\n",
       "      <td>53940.000000</td>\n",
       "      <td>53940.000000</td>\n",
       "      <td>53940.000000</td>\n",
       "      <td>53940.000000</td>\n",
       "    </tr>\n",
       "    <tr>\n",
       "      <th>mean</th>\n",
       "      <td>0.797940</td>\n",
       "      <td>3.904097</td>\n",
       "      <td>4.405803</td>\n",
       "      <td>4.051020</td>\n",
       "      <td>61.749405</td>\n",
       "      <td>57.457184</td>\n",
       "      <td>3932.799722</td>\n",
       "      <td>5.731157</td>\n",
       "      <td>5.734526</td>\n",
       "      <td>3.538734</td>\n",
       "    </tr>\n",
       "    <tr>\n",
       "      <th>std</th>\n",
       "      <td>0.474011</td>\n",
       "      <td>1.116600</td>\n",
       "      <td>1.701105</td>\n",
       "      <td>1.647136</td>\n",
       "      <td>1.432621</td>\n",
       "      <td>2.234491</td>\n",
       "      <td>3989.439738</td>\n",
       "      <td>1.121761</td>\n",
       "      <td>1.142135</td>\n",
       "      <td>0.705699</td>\n",
       "    </tr>\n",
       "    <tr>\n",
       "      <th>min</th>\n",
       "      <td>0.200000</td>\n",
       "      <td>1.000000</td>\n",
       "      <td>1.000000</td>\n",
       "      <td>1.000000</td>\n",
       "      <td>43.000000</td>\n",
       "      <td>43.000000</td>\n",
       "      <td>326.000000</td>\n",
       "      <td>0.000000</td>\n",
       "      <td>0.000000</td>\n",
       "      <td>0.000000</td>\n",
       "    </tr>\n",
       "    <tr>\n",
       "      <th>25%</th>\n",
       "      <td>0.400000</td>\n",
       "      <td>3.000000</td>\n",
       "      <td>3.000000</td>\n",
       "      <td>3.000000</td>\n",
       "      <td>61.000000</td>\n",
       "      <td>56.000000</td>\n",
       "      <td>950.000000</td>\n",
       "      <td>4.710000</td>\n",
       "      <td>4.720000</td>\n",
       "      <td>2.910000</td>\n",
       "    </tr>\n",
       "    <tr>\n",
       "      <th>50%</th>\n",
       "      <td>0.700000</td>\n",
       "      <td>4.000000</td>\n",
       "      <td>4.000000</td>\n",
       "      <td>4.000000</td>\n",
       "      <td>61.800000</td>\n",
       "      <td>57.000000</td>\n",
       "      <td>2401.000000</td>\n",
       "      <td>5.700000</td>\n",
       "      <td>5.710000</td>\n",
       "      <td>3.530000</td>\n",
       "    </tr>\n",
       "    <tr>\n",
       "      <th>75%</th>\n",
       "      <td>1.040000</td>\n",
       "      <td>5.000000</td>\n",
       "      <td>6.000000</td>\n",
       "      <td>5.000000</td>\n",
       "      <td>62.500000</td>\n",
       "      <td>59.000000</td>\n",
       "      <td>5324.250000</td>\n",
       "      <td>6.540000</td>\n",
       "      <td>6.540000</td>\n",
       "      <td>4.040000</td>\n",
       "    </tr>\n",
       "    <tr>\n",
       "      <th>max</th>\n",
       "      <td>5.010000</td>\n",
       "      <td>5.000000</td>\n",
       "      <td>7.000000</td>\n",
       "      <td>8.000000</td>\n",
       "      <td>79.000000</td>\n",
       "      <td>95.000000</td>\n",
       "      <td>18823.000000</td>\n",
       "      <td>10.740000</td>\n",
       "      <td>58.900000</td>\n",
       "      <td>31.800000</td>\n",
       "    </tr>\n",
       "  </tbody>\n",
       "</table>\n",
       "</div>"
      ],
      "text/plain": [
       "              carat           cut         color       clarity  height (in mm)  \\\n",
       "count  53940.000000  53940.000000  53940.000000  53940.000000    53940.000000   \n",
       "mean       0.797940      3.904097      4.405803      4.051020       61.749405   \n",
       "std        0.474011      1.116600      1.701105      1.647136        1.432621   \n",
       "min        0.200000      1.000000      1.000000      1.000000       43.000000   \n",
       "25%        0.400000      3.000000      3.000000      3.000000       61.000000   \n",
       "50%        0.700000      4.000000      4.000000      4.000000       61.800000   \n",
       "75%        1.040000      5.000000      6.000000      5.000000       62.500000   \n",
       "max        5.010000      5.000000      7.000000      8.000000       79.000000   \n",
       "\n",
       "              table  price (in USD)  length (in mm)  width (in mm)  \\\n",
       "count  53940.000000    53940.000000    53940.000000   53940.000000   \n",
       "mean      57.457184     3932.799722        5.731157       5.734526   \n",
       "std        2.234491     3989.439738        1.121761       1.142135   \n",
       "min       43.000000      326.000000        0.000000       0.000000   \n",
       "25%       56.000000      950.000000        4.710000       4.720000   \n",
       "50%       57.000000     2401.000000        5.700000       5.710000   \n",
       "75%       59.000000     5324.250000        6.540000       6.540000   \n",
       "max       95.000000    18823.000000       10.740000      58.900000   \n",
       "\n",
       "       depth (in mm)  \n",
       "count   53940.000000  \n",
       "mean        3.538734  \n",
       "std         0.705699  \n",
       "min         0.000000  \n",
       "25%         2.910000  \n",
       "50%         3.530000  \n",
       "75%         4.040000  \n",
       "max        31.800000  "
      ]
     },
     "execution_count": 40,
     "metadata": {},
     "output_type": "execute_result"
    }
   ],
   "source": [
    "data.describe()"
   ]
  },
  {
   "cell_type": "code",
   "execution_count": 41,
   "id": "98b4eda1",
   "metadata": {},
   "outputs": [],
   "source": [
    "numcols = data.select_dtypes(include = ['float64','int64']).columns.tolist()"
   ]
  },
  {
   "cell_type": "code",
   "execution_count": 42,
   "id": "ae95cbe3",
   "metadata": {},
   "outputs": [
    {
     "name": "stderr",
     "output_type": "stream",
     "text": [
      "C:\\Users\\KALPANIGAM\\AppData\\Local\\Temp\\ipykernel_24148\\4154727937.py:3: UserWarning: \n",
      "\n",
      "`distplot` is a deprecated function and will be removed in seaborn v0.14.0.\n",
      "\n",
      "Please adapt your code to use either `displot` (a figure-level function with\n",
      "similar flexibility) or `histplot` (an axes-level function for histograms).\n",
      "\n",
      "For a guide to updating your code to use the new functions, please see\n",
      "https://gist.github.com/mwaskom/de44147ed2974457ad6372750bbe5751\n",
      "\n",
      "  sns.distplot(data[\"carat\"], color = colors[0], ax = axes[0,0])\n",
      "C:\\Users\\KALPANIGAM\\AppData\\Local\\Temp\\ipykernel_24148\\4154727937.py:4: UserWarning: \n",
      "\n",
      "`distplot` is a deprecated function and will be removed in seaborn v0.14.0.\n",
      "\n",
      "Please adapt your code to use either `displot` (a figure-level function with\n",
      "similar flexibility) or `histplot` (an axes-level function for histograms).\n",
      "\n",
      "For a guide to updating your code to use the new functions, please see\n",
      "https://gist.github.com/mwaskom/de44147ed2974457ad6372750bbe5751\n",
      "\n",
      "  sns.distplot(data[\"height (in mm)\"], color = colors[1], ax = axes[0,1])\n",
      "C:\\Users\\KALPANIGAM\\AppData\\Local\\Temp\\ipykernel_24148\\4154727937.py:5: UserWarning: \n",
      "\n",
      "`distplot` is a deprecated function and will be removed in seaborn v0.14.0.\n",
      "\n",
      "Please adapt your code to use either `displot` (a figure-level function with\n",
      "similar flexibility) or `histplot` (an axes-level function for histograms).\n",
      "\n",
      "For a guide to updating your code to use the new functions, please see\n",
      "https://gist.github.com/mwaskom/de44147ed2974457ad6372750bbe5751\n",
      "\n",
      "  sns.distplot(data[\"table\"], color = colors[2], ax = axes[0,2])\n",
      "C:\\Users\\KALPANIGAM\\AppData\\Local\\Temp\\ipykernel_24148\\4154727937.py:6: UserWarning: \n",
      "\n",
      "`distplot` is a deprecated function and will be removed in seaborn v0.14.0.\n",
      "\n",
      "Please adapt your code to use either `displot` (a figure-level function with\n",
      "similar flexibility) or `histplot` (an axes-level function for histograms).\n",
      "\n",
      "For a guide to updating your code to use the new functions, please see\n",
      "https://gist.github.com/mwaskom/de44147ed2974457ad6372750bbe5751\n",
      "\n",
      "  sns.distplot(data[\"price (in USD)\"], color = colors[3], ax = axes[1,0])\n",
      "C:\\Users\\KALPANIGAM\\AppData\\Local\\Temp\\ipykernel_24148\\4154727937.py:7: UserWarning: \n",
      "\n",
      "`distplot` is a deprecated function and will be removed in seaborn v0.14.0.\n",
      "\n",
      "Please adapt your code to use either `displot` (a figure-level function with\n",
      "similar flexibility) or `histplot` (an axes-level function for histograms).\n",
      "\n",
      "For a guide to updating your code to use the new functions, please see\n",
      "https://gist.github.com/mwaskom/de44147ed2974457ad6372750bbe5751\n",
      "\n",
      "  sns.distplot(data[\"length (in mm)\"], color = colors[4], ax = axes[1,1])\n",
      "C:\\Users\\KALPANIGAM\\AppData\\Local\\Temp\\ipykernel_24148\\4154727937.py:8: UserWarning: \n",
      "\n",
      "`distplot` is a deprecated function and will be removed in seaborn v0.14.0.\n",
      "\n",
      "Please adapt your code to use either `displot` (a figure-level function with\n",
      "similar flexibility) or `histplot` (an axes-level function for histograms).\n",
      "\n",
      "For a guide to updating your code to use the new functions, please see\n",
      "https://gist.github.com/mwaskom/de44147ed2974457ad6372750bbe5751\n",
      "\n",
      "  sns.distplot(data[\"width (in mm)\"], color = colors[0], ax = axes[1,2])\n",
      "C:\\Users\\KALPANIGAM\\AppData\\Local\\Temp\\ipykernel_24148\\4154727937.py:9: UserWarning: \n",
      "\n",
      "`distplot` is a deprecated function and will be removed in seaborn v0.14.0.\n",
      "\n",
      "Please adapt your code to use either `displot` (a figure-level function with\n",
      "similar flexibility) or `histplot` (an axes-level function for histograms).\n",
      "\n",
      "For a guide to updating your code to use the new functions, please see\n",
      "https://gist.github.com/mwaskom/de44147ed2974457ad6372750bbe5751\n",
      "\n",
      "  sns.distplot(data[\"depth (in mm)\"], color = colors[1], ax = axes[2,0])\n"
     ]
    },
    {
     "data": {
      "image/png": "[encoded data removed]",
      "text/plain": [
       "<Figure size 864x576 with 9 Axes>"
      ]
     },
     "metadata": {
      "needs_background": "light"
     },
     "output_type": "display_data"
    }
   ],
   "source": [
    "colors = sns.color_palette(\"deep\")\n",
    "fig,axes = plt.subplots(3,3, figsize = (12,8)) \n",
    "sns.distplot(data[\"carat\"], color = colors[0], ax = axes[0,0])\n",
    "sns.distplot(data[\"height (in mm)\"], color = colors[1], ax = axes[0,1])\n",
    "sns.distplot(data[\"table\"], color = colors[2], ax = axes[0,2])\n",
    "sns.distplot(data[\"price (in USD)\"], color = colors[3], ax = axes[1,0])\n",
    "sns.distplot(data[\"length (in mm)\"], color = colors[4], ax = axes[1,1])\n",
    "sns.distplot(data[\"width (in mm)\"], color = colors[0], ax = axes[1,2])\n",
    "sns.distplot(data[\"depth (in mm)\"], color = colors[1], ax = axes[2,0])\n",
    "plt.suptitle(\"Distribution of Quantitative Data\", size = 16)\n",
    "plt.tight_layout(rect=[0, 0.03, 1, 0.95])\n",
    "plt.show()"
   ]
  },
  {
   "cell_type": "code",
   "execution_count": 43,
   "id": "5d7208d0",
   "metadata": {},
   "outputs": [
    {
     "data": {
      "image/png": "[encoded data removed]",
      "text/plain": [
       "<Figure size 864x576 with 9 Axes>"
      ]
     },
     "metadata": {
      "needs_background": "light"
     },
     "output_type": "display_data"
    }
   ],
   "source": [
    "colors = sns.color_palette(\"deep\")\n",
    "fig,axes = plt.subplots(3,3, figsize = (12,8)) \n",
    "sns.boxplot(y = data[\"carat\"], color = colors[0], ax = axes[0,0])\n",
    "sns.boxplot(y = data[\"height (in mm)\"], color = colors[1], ax = axes[0,1])\n",
    "sns.boxplot(y = data[\"table\"], color = colors[2], ax = axes[0,2])\n",
    "sns.boxplot(y = data[\"price (in USD)\"], color = colors[3], ax = axes[1,0])\n",
    "sns.boxplot(y = data[\"length (in mm)\"], color = colors[4], ax = axes[1,1])\n",
    "sns.boxplot(y = data[\"width (in mm)\"], color = colors[0], ax = axes[1,2])\n",
    "sns.boxplot(y = data[\"depth (in mm)\"], color = colors[1], ax = axes[2,0])\n",
    "plt.suptitle(\"Distribution of Quantitative Data (boxplots)\", size = 16)\n",
    "plt.tight_layout(rect=[0, 0.03, 1, 0.95])\n",
    "plt.show()"
   ]
  },
  {
   "cell_type": "code",
   "execution_count": 44,
   "id": "1cb70357",
   "metadata": {},
   "outputs": [],
   "source": [
    "zero_data = data[(data['length (in mm)'] == 0) | (data['width (in mm)'] == 0) | (data['depth (in mm)'] == 0)]"
   ]
  },
  {
   "cell_type": "code",
   "execution_count": 45,
   "id": "3f4c7009",
   "metadata": {},
   "outputs": [
    {
     "data": {
      "text/html": [
       "<div>\n",
       "<style scoped>\n",
       "    .dataframe tbody tr th:only-of-type {\n",
       "        vertical-align: middle;\n",
       "    }\n",
       "\n",
       "    .dataframe tbody tr th {\n",
       "        vertical-align: top;\n",
       "    }\n",
       "\n",
       "    .dataframe thead th {\n",
       "        text-align: right;\n",
       "    }\n",
       "</style>\n",
       "<table border=\"1\" class=\"dataframe\">\n",
       "  <thead>\n",
       "    <tr style=\"text-align: right;\">\n",
       "      <th></th>\n",
       "      <th>carat</th>\n",
       "      <th>cut</th>\n",
       "      <th>color</th>\n",
       "      <th>clarity</th>\n",
       "      <th>height (in mm)</th>\n",
       "      <th>table</th>\n",
       "      <th>price (in USD)</th>\n",
       "      <th>length (in mm)</th>\n",
       "      <th>width (in mm)</th>\n",
       "      <th>depth (in mm)</th>\n",
       "    </tr>\n",
       "  </thead>\n",
       "  <tbody>\n",
       "    <tr>\n",
       "      <th>2207</th>\n",
       "      <td>1.00</td>\n",
       "      <td>4</td>\n",
       "      <td>4</td>\n",
       "      <td>2</td>\n",
       "      <td>59.1</td>\n",
       "      <td>59.0</td>\n",
       "      <td>3142</td>\n",
       "      <td>6.55</td>\n",
       "      <td>6.48</td>\n",
       "      <td>0.0</td>\n",
       "    </tr>\n",
       "    <tr>\n",
       "      <th>2314</th>\n",
       "      <td>1.01</td>\n",
       "      <td>4</td>\n",
       "      <td>3</td>\n",
       "      <td>1</td>\n",
       "      <td>58.1</td>\n",
       "      <td>59.0</td>\n",
       "      <td>3167</td>\n",
       "      <td>6.66</td>\n",
       "      <td>6.60</td>\n",
       "      <td>0.0</td>\n",
       "    </tr>\n",
       "    <tr>\n",
       "      <th>4791</th>\n",
       "      <td>1.10</td>\n",
       "      <td>4</td>\n",
       "      <td>4</td>\n",
       "      <td>2</td>\n",
       "      <td>63.0</td>\n",
       "      <td>59.0</td>\n",
       "      <td>3696</td>\n",
       "      <td>6.50</td>\n",
       "      <td>6.47</td>\n",
       "      <td>0.0</td>\n",
       "    </tr>\n",
       "    <tr>\n",
       "      <th>5471</th>\n",
       "      <td>1.01</td>\n",
       "      <td>4</td>\n",
       "      <td>5</td>\n",
       "      <td>2</td>\n",
       "      <td>59.2</td>\n",
       "      <td>58.0</td>\n",
       "      <td>3837</td>\n",
       "      <td>6.50</td>\n",
       "      <td>6.47</td>\n",
       "      <td>0.0</td>\n",
       "    </tr>\n",
       "    <tr>\n",
       "      <th>10167</th>\n",
       "      <td>1.50</td>\n",
       "      <td>2</td>\n",
       "      <td>4</td>\n",
       "      <td>1</td>\n",
       "      <td>64.0</td>\n",
       "      <td>61.0</td>\n",
       "      <td>4731</td>\n",
       "      <td>7.15</td>\n",
       "      <td>7.04</td>\n",
       "      <td>0.0</td>\n",
       "    </tr>\n",
       "  </tbody>\n",
       "</table>\n",
       "</div>"
      ],
      "text/plain": [
       "       carat  cut  color  clarity  height (in mm)  table  price (in USD)  \\\n",
       "2207    1.00    4      4        2            59.1   59.0            3142   \n",
       "2314    1.01    4      3        1            58.1   59.0            3167   \n",
       "4791    1.10    4      4        2            63.0   59.0            3696   \n",
       "5471    1.01    4      5        2            59.2   58.0            3837   \n",
       "10167   1.50    2      4        1            64.0   61.0            4731   \n",
       "\n",
       "       length (in mm)  width (in mm)  depth (in mm)  \n",
       "2207             6.55           6.48            0.0  \n",
       "2314             6.66           6.60            0.0  \n",
       "4791             6.50           6.47            0.0  \n",
       "5471             6.50           6.47            0.0  \n",
       "10167            7.15           7.04            0.0  "
      ]
     },
     "execution_count": 45,
     "metadata": {},
     "output_type": "execute_result"
    }
   ],
   "source": [
    "zero_data.head()"
   ]
  },
  {
   "cell_type": "code",
   "execution_count": 46,
   "id": "8ae5ef9f",
   "metadata": {},
   "outputs": [
    {
     "data": {
      "text/plain": [
       "(20, 10)"
      ]
     },
     "execution_count": 46,
     "metadata": {},
     "output_type": "execute_result"
    }
   ],
   "source": [
    "zero_data.shape"
   ]
  },
  {
   "cell_type": "code",
   "execution_count": 47,
   "id": "83e759a4",
   "metadata": {},
   "outputs": [],
   "source": [
    "data.drop(zero_data.index, inplace = True)"
   ]
  },
  {
   "cell_type": "code",
   "execution_count": 48,
   "id": "88a40caa",
   "metadata": {},
   "outputs": [
    {
     "data": {
      "text/plain": [
       "(53920, 10)"
      ]
     },
     "execution_count": 48,
     "metadata": {},
     "output_type": "execute_result"
    }
   ],
   "source": [
    "data.shape"
   ]
  },
  {
   "cell_type": "code",
   "execution_count": 49,
   "id": "ae58bab8",
   "metadata": {},
   "outputs": [],
   "source": [
    "X = data.drop(['price (in USD)'], axis=1)\n",
    "y = data['price (in USD)']"
   ]
  },
  {
   "cell_type": "code",
   "execution_count": 50,
   "id": "04ba1732",
   "metadata": {},
   "outputs": [],
   "source": [
    "X_train, X_test, y_train, y_test = train_test_split(X, y, test_size=0.2)"
   ]
  },
  {
   "cell_type": "code",
   "execution_count": 51,
   "id": "274d9e17",
   "metadata": {},
   "outputs": [
    {
     "name": "stdout",
     "output_type": "stream",
     "text": [
      "Total dataset size: (53920, 10)\n",
      "Training set size (80%): (43136, 9)\n",
      "Test set size (20%): (10784, 9)\n"
     ]
    }
   ],
   "source": [
    "print(\"Total dataset size: {}\".format(data.shape))\n",
    "print(\"Training set size (80%): {}\".format(X_train.shape))\n",
    "print(\"Test set size (20%): {}\".format(X_test.shape))"
   ]
  },
  {
   "cell_type": "code",
   "execution_count": 52,
   "id": "2cd0599b",
   "metadata": {},
   "outputs": [],
   "source": [
    "reg = RandomForestRegressor(n_estimators=1)"
   ]
  },
  {
   "cell_type": "code",
   "execution_count": 53,
   "id": "be60f65a",
   "metadata": {},
   "outputs": [
    {
     "data": {
      "text/html": [
       "<style>#sk-container-id-2 {color: black;background-color: white;}#sk-container-id-2 pre{padding: 0;}#sk-container-id-2 div.sk-toggleable {background-color: white;}#sk-container-id-2 label.sk-toggleable__label {cursor: pointer;display: block;width: 100%;margin-bottom: 0;padding: 0.3em;box-sizing: border-box;text-align: center;}#sk-container-id-2 label.sk-toggleable__label-arrow:before {content: \"▸\";float: left;margin-right: 0.25em;color: #696969;}#sk-container-id-2 label.sk-toggleable__label-arrow:hover:before {color: black;}#sk-container-id-2 div.sk-estimator:hover label.sk-toggleable__label-arrow:before {color: black;}#sk-container-id-2 div.sk-toggleable__content {max-height: 0;max-width: 0;overflow: hidden;text-align: left;background-color: #f0f8ff;}#sk-container-id-2 div.sk-toggleable__content pre {margin: 0.2em;color: black;border-radius: 0.25em;background-color: #f0f8ff;}#sk-container-id-2 input.sk-toggleable__control:checked~div.sk-toggleable__content {max-height: 200px;max-width: 100%;overflow: auto;}#sk-container-id-2 input.sk-toggleable__control:checked~label.sk-toggleable__label-arrow:before {content: \"▾\";}#sk-container-id-2 div.sk-estimator input.sk-toggleable__control:checked~label.sk-toggleable__label {background-color: #d4ebff;}#sk-container-id-2 div.sk-label input.sk-toggleable__control:checked~label.sk-toggleable__label {background-color: #d4ebff;}#sk-container-id-2 input.sk-hidden--visually {border: 0;clip: rect(1px 1px 1px 1px);clip: rect(1px, 1px, 1px, 1px);height: 1px;margin: -1px;overflow: hidden;padding: 0;position: absolute;width: 1px;}#sk-container-id-2 div.sk-estimator {font-family: monospace;background-color: #f0f8ff;border: 1px dotted black;border-radius: 0.25em;box-sizing: border-box;margin-bottom: 0.5em;}#sk-container-id-2 div.sk-estimator:hover {background-color: #d4ebff;}#sk-container-id-2 div.sk-parallel-item::after {content: \"\";width: 100%;border-bottom: 1px solid gray;flex-grow: 1;}#sk-container-id-2 div.sk-label:hover label.sk-toggleable__label {background-color: #d4ebff;}#sk-container-id-2 div.sk-serial::before {content: \"\";position: absolute;border-left: 1px solid gray;box-sizing: border-box;top: 0;bottom: 0;left: 50%;z-index: 0;}#sk-container-id-2 div.sk-serial {display: flex;flex-direction: column;align-items: center;background-color: white;padding-right: 0.2em;padding-left: 0.2em;position: relative;}#sk-container-id-2 div.sk-item {position: relative;z-index: 1;}#sk-container-id-2 div.sk-parallel {display: flex;align-items: stretch;justify-content: center;background-color: white;position: relative;}#sk-container-id-2 div.sk-item::before, #sk-container-id-2 div.sk-parallel-item::before {content: \"\";position: absolute;border-left: 1px solid gray;box-sizing: border-box;top: 0;bottom: 0;left: 50%;z-index: -1;}#sk-container-id-2 div.sk-parallel-item {display: flex;flex-direction: column;z-index: 1;position: relative;background-color: white;}#sk-container-id-2 div.sk-parallel-item:first-child::after {align-self: flex-end;width: 50%;}#sk-container-id-2 div.sk-parallel-item:last-child::after {align-self: flex-start;width: 50%;}#sk-container-id-2 div.sk-parallel-item:only-child::after {width: 0;}#sk-container-id-2 div.sk-dashed-wrapped {border: 1px dashed gray;margin: 0 0.4em 0.5em 0.4em;box-sizing: border-box;padding-bottom: 0.4em;background-color: white;}#sk-container-id-2 div.sk-label label {font-family: monospace;font-weight: bold;display: inline-block;line-height: 1.2em;}#sk-container-id-2 div.sk-label-container {text-align: center;}#sk-container-id-2 div.sk-container {/* jupyter's `normalize.less` sets `[hidden] { display: none; }` but bootstrap.min.css set `[hidden] { display: none !important; }` so we also need the `!important` here to be able to override the default hidden behavior on the sphinx rendered scikit-learn.org. See: https://github.com/scikit-learn/scikit-learn/issues/21755 */display: inline-block !important;position: relative;}#sk-container-id-2 div.sk-text-repr-fallback {display: none;}</style><div id=\"sk-container-id-2\" class=\"sk-top-container\"><div class=\"sk-text-repr-fallback\"><pre>RandomForestRegressor(n_estimators=1)</pre><b>In a Jupyter environment, please rerun this cell to show the HTML representation or trust the notebook. <br />On GitHub, the HTML representation is unable to render, please try loading this page with nbviewer.org.</b></div><div class=\"sk-container\" hidden><div class=\"sk-item\"><div class=\"sk-estimator sk-toggleable\"><input class=\"sk-toggleable__control sk-hidden--visually\" id=\"sk-estimator-id-2\" type=\"checkbox\" checked><label for=\"sk-estimator-id-2\" class=\"sk-toggleable__label sk-toggleable__label-arrow\">RandomForestRegressor</label><div class=\"sk-toggleable__content\"><pre>RandomForestRegressor(n_estimators=1)</pre></div></div></div></div></div>"
      ],
      "text/plain": [
       "RandomForestRegressor(n_estimators=1)"
      ]
     },
     "execution_count": 53,
     "metadata": {},
     "output_type": "execute_result"
    }
   ],
   "source": [
    "reg.fit(X_train,y_train)"
   ]
  },
  {
   "cell_type": "code",
   "execution_count": 54,
   "id": "5881afd0",
   "metadata": {},
   "outputs": [],
   "source": [
    "y_pred = reg.predict(X_train)"
   ]
  },
  {
   "cell_type": "code",
   "execution_count": 55,
   "id": "6f2fa762",
   "metadata": {},
   "outputs": [
    {
     "name": "stdout",
     "output_type": "stream",
     "text": [
      "R^2: 0.9866483312986433\n",
      "Adjusted R^2: 0.9866455449280476\n",
      "MAE: 138.13744899851633\n",
      "MSE: 211786.54612348796\n",
      "RMSE: 460.2027228553607\n"
     ]
    }
   ],
   "source": [
    "print('R^2:',metrics.r2_score(y_train, y_pred))\n",
    "print('Adjusted R^2:',1 - (1-metrics.r2_score(y_train, y_pred))*(len(y_train)-1)/(len(y_train)-X_train.shape[1]-1))\n",
    "print('MAE:',metrics.mean_absolute_error(y_train, y_pred))\n",
    "print('MSE:',metrics.mean_squared_error(y_train, y_pred))\n",
    "print('RMSE:',np.sqrt(metrics.mean_squared_error(y_train, y_pred)))"
   ]
  },
  {
   "cell_type": "code",
   "execution_count": 56,
   "id": "336a00a5",
   "metadata": {},
   "outputs": [
    {
     "data": {
      "text/plain": [
       "(43136, 9)"
      ]
     },
     "execution_count": 56,
     "metadata": {},
     "output_type": "execute_result"
    }
   ],
   "source": [
    "X_train.shape"
   ]
  },
  {
   "cell_type": "code",
   "execution_count": 57,
   "id": "1e1c4949",
   "metadata": {},
   "outputs": [],
   "source": [
    "res=[]"
   ]
  },
  {
   "cell_type": "code",
   "execution_count": 58,
   "id": "ed0e9950",
   "metadata": {},
   "outputs": [],
   "source": [
    "for i in range (1,201):\n",
    "    reg = RandomForestRegressor(n_estimators=i)\n",
    "    reg.fit(X_train,y_train)\n",
    "    y_pred = reg.predict(X_train)\n",
    "    res.insert(i,metrics.r2_score(y_train, y_pred))"
   ]
  },
  {
   "cell_type": "code",
   "execution_count": 59,
   "id": "b458c241",
   "metadata": {},
   "outputs": [
    {
     "data": {
      "text/plain": [
       "[0.9867866654772721,\n",
       " 0.9919152770295157,\n",
       " 0.994014131934947,\n",
       " 0.9948895370946665,\n",
       " 0.9951305460496048,\n",
       " 0.9957304167294108,\n",
       " 0.9959255962278245,\n",
       " 0.9962797025003408,\n",
       " 0.9964060100581354,\n",
       " 0.9963805959220091,\n",
       " 0.9965047568541511,\n",
       " 0.9966653559002431,\n",
       " 0.9968160153863463,\n",
       " 0.9968134555501603,\n",
       " 0.9967795012680031,\n",
       " 0.9967932382073997,\n",
       " 0.9968892852772236,\n",
       " 0.9969779978660801,\n",
       " 0.9969815569434168,\n",
       " 0.9970113303571942,\n",
       " 0.997034302527441,\n",
       " 0.997125025895464,\n",
       " 0.9970394356414388,\n",
       " 0.9969957954149621,\n",
       " 0.9970937380343898,\n",
       " 0.9971192034348438,\n",
       " 0.9971060812602959,\n",
       " 0.9972021237963872,\n",
       " 0.997186321610399,\n",
       " 0.997221341876266,\n",
       " 0.9971246237333056,\n",
       " 0.9971706360591471,\n",
       " 0.9971689560309855,\n",
       " 0.997120083424135,\n",
       " 0.9972599701175645,\n",
       " 0.9972541169966856,\n",
       " 0.9971720264703647,\n",
       " 0.9972010145035322,\n",
       " 0.9972360731294643,\n",
       " 0.9972498290573143,\n",
       " 0.9973142390037125,\n",
       " 0.9972947239289232,\n",
       " 0.9972756081358373,\n",
       " 0.9973152898914719,\n",
       " 0.9972905135209668,\n",
       " 0.9972572829614684,\n",
       " 0.997287061865359,\n",
       " 0.997284596350241,\n",
       " 0.9973592215514222,\n",
       " 0.9973342574188219,\n",
       " 0.9973390160960001,\n",
       " 0.9973270351181923,\n",
       " 0.9973129061262714,\n",
       " 0.9973542448504733,\n",
       " 0.9973615808633068,\n",
       " 0.9973632404112603,\n",
       " 0.9973414196700789,\n",
       " 0.9973663737530547,\n",
       " 0.9973666013237792,\n",
       " 0.9973588064508832,\n",
       " 0.9973634096955221,\n",
       " 0.9973923823602989,\n",
       " 0.9973676548491153,\n",
       " 0.997341612902254,\n",
       " 0.9973596137109715,\n",
       " 0.9973613872388042,\n",
       " 0.997401260517266,\n",
       " 0.9973713541681206,\n",
       " 0.9973837714452991,\n",
       " 0.9973802240906737,\n",
       " 0.9973601075744797,\n",
       " 0.9973791950192936,\n",
       " 0.9973510175598661,\n",
       " 0.997370028681569,\n",
       " 0.9974088860220474,\n",
       " 0.9974004647536394,\n",
       " 0.9973736129682295,\n",
       " 0.9974157450931103,\n",
       " 0.997437625625099,\n",
       " 0.9973751118509157,\n",
       " 0.997429748030764,\n",
       " 0.9973868886419485,\n",
       " 0.9973620920551782,\n",
       " 0.9973806185826194,\n",
       " 0.9973822984464624,\n",
       " 0.9974220139437987,\n",
       " 0.9974348188063757,\n",
       " 0.9974397038076687,\n",
       " 0.9973900029664015,\n",
       " 0.9973988294030709,\n",
       " 0.9974046512168622,\n",
       " 0.9974069493566092,\n",
       " 0.997416377707608,\n",
       " 0.9974081650931409,\n",
       " 0.9974240084376296,\n",
       " 0.9974003753451455,\n",
       " 0.9974281086213505,\n",
       " 0.9974460010317103,\n",
       " 0.9974269365564845,\n",
       " 0.9974167349437217,\n",
       " 0.9974514463691164,\n",
       " 0.9974272405451343,\n",
       " 0.9974330007019487,\n",
       " 0.9974489571146473,\n",
       " 0.9974425100319937,\n",
       " 0.9974279566147147,\n",
       " 0.9974211270071383,\n",
       " 0.9974616642156959,\n",
       " 0.997450481569261,\n",
       " 0.9974467326489271,\n",
       " 0.9974474688356519,\n",
       " 0.997440839353164,\n",
       " 0.9974414018150227,\n",
       " 0.9974258522207173,\n",
       " 0.9974441591870626,\n",
       " 0.9974272335149348,\n",
       " 0.9974234790560456,\n",
       " 0.9974176628708012,\n",
       " 0.9974668906737946,\n",
       " 0.997431839833865,\n",
       " 0.9974619269426832,\n",
       " 0.9974619764617534,\n",
       " 0.9974581497196798,\n",
       " 0.9974513791091945,\n",
       " 0.9974664009706546,\n",
       " 0.9974573009442645,\n",
       " 0.9974674379285707,\n",
       " 0.9974369229120685,\n",
       " 0.9974574039386024,\n",
       " 0.9974475791364609,\n",
       " 0.9974365148661789,\n",
       " 0.9974965300599803,\n",
       " 0.9974415239789206,\n",
       " 0.9974680314881426,\n",
       " 0.9974596290837667,\n",
       " 0.9974746062464748,\n",
       " 0.9974562366784346,\n",
       " 0.997456816994294,\n",
       " 0.9974393027724651,\n",
       " 0.9974789634833021,\n",
       " 0.9974654391176855,\n",
       " 0.9974393024768228,\n",
       " 0.9974337077025042,\n",
       " 0.9974552891654137,\n",
       " 0.9974628229294603,\n",
       " 0.9974522216259891,\n",
       " 0.9975011407024926,\n",
       " 0.9974718060724086,\n",
       " 0.9974560419706652,\n",
       " 0.9974451056909844,\n",
       " 0.9974643586550175,\n",
       " 0.9974518354627016,\n",
       " 0.9974827117596777,\n",
       " 0.997485200097102,\n",
       " 0.997497038119688,\n",
       " 0.9974607839144831,\n",
       " 0.9974848462424929,\n",
       " 0.997496223493274,\n",
       " 0.9974499976153194,\n",
       " 0.997484713044106,\n",
       " 0.9974848170247411,\n",
       " 0.9974650887265983,\n",
       " 0.9974732960298573,\n",
       " 0.997478558051423,\n",
       " 0.9974872595884587,\n",
       " 0.9974780514014338,\n",
       " 0.9974775815642275,\n",
       " 0.997472784217962,\n",
       " 0.9974821107998663,\n",
       " 0.9974738826290243,\n",
       " 0.9974673695333072,\n",
       " 0.9974705217132739,\n",
       " 0.9974792045396316,\n",
       " 0.9974788147198566,\n",
       " 0.9974772105036918,\n",
       " 0.9974670839942907,\n",
       " 0.9974837681038506,\n",
       " 0.9974930124989677,\n",
       " 0.9975052451536981,\n",
       " 0.9974967376192517,\n",
       " 0.9974589957868482,\n",
       " 0.9974863029052309,\n",
       " 0.9974852015358193,\n",
       " 0.9974945342579271,\n",
       " 0.9974705667283864,\n",
       " 0.997468225163655,\n",
       " 0.9974654013453593,\n",
       " 0.9974828846608257,\n",
       " 0.9974689170641691,\n",
       " 0.9974832205212435,\n",
       " 0.9974872479277359,\n",
       " 0.9974733483068764,\n",
       " 0.9974841479793626,\n",
       " 0.9974894765254138,\n",
       " 0.9974873336464345,\n",
       " 0.9974829203569939,\n",
       " 0.9974783477503854,\n",
       " 0.9974911256391483,\n",
       " 0.9974671242578284,\n",
       " 0.9975219304210864]"
      ]
     },
     "metadata": {},
     "output_type": "display_data"
    }
   ],
   "source": [
    "display(res)"
   ]
  },
  {
   "cell_type": "code",
   "execution_count": 60,
   "id": "42a63605",
   "metadata": {},
   "outputs": [],
   "source": [
    "res = np.round(res, 4)"
   ]
  },
  {
   "cell_type": "code",
   "execution_count": 61,
   "id": "30e58a45",
   "metadata": {},
   "outputs": [
    {
     "data": {
      "text/plain": [
       "array([0.9868, 0.9919, 0.994 , 0.9949, 0.9951, 0.9957, 0.9959, 0.9963,\n",
       "       0.9964, 0.9964, 0.9965, 0.9967, 0.9968, 0.9968, 0.9968, 0.9968,\n",
       "       0.9969, 0.997 , 0.997 , 0.997 , 0.997 , 0.9971, 0.997 , 0.997 ,\n",
       "       0.9971, 0.9971, 0.9971, 0.9972, 0.9972, 0.9972, 0.9971, 0.9972,\n",
       "       0.9972, 0.9971, 0.9973, 0.9973, 0.9972, 0.9972, 0.9972, 0.9972,\n",
       "       0.9973, 0.9973, 0.9973, 0.9973, 0.9973, 0.9973, 0.9973, 0.9973,\n",
       "       0.9974, 0.9973, 0.9973, 0.9973, 0.9973, 0.9974, 0.9974, 0.9974,\n",
       "       0.9973, 0.9974, 0.9974, 0.9974, 0.9974, 0.9974, 0.9974, 0.9973,\n",
       "       0.9974, 0.9974, 0.9974, 0.9974, 0.9974, 0.9974, 0.9974, 0.9974,\n",
       "       0.9974, 0.9974, 0.9974, 0.9974, 0.9974, 0.9974, 0.9974, 0.9974,\n",
       "       0.9974, 0.9974, 0.9974, 0.9974, 0.9974, 0.9974, 0.9974, 0.9974,\n",
       "       0.9974, 0.9974, 0.9974, 0.9974, 0.9974, 0.9974, 0.9974, 0.9974,\n",
       "       0.9974, 0.9974, 0.9974, 0.9974, 0.9975, 0.9974, 0.9974, 0.9974,\n",
       "       0.9974, 0.9974, 0.9974, 0.9975, 0.9975, 0.9974, 0.9974, 0.9974,\n",
       "       0.9974, 0.9974, 0.9974, 0.9974, 0.9974, 0.9974, 0.9975, 0.9974,\n",
       "       0.9975, 0.9975, 0.9975, 0.9975, 0.9975, 0.9975, 0.9975, 0.9974,\n",
       "       0.9975, 0.9974, 0.9974, 0.9975, 0.9974, 0.9975, 0.9975, 0.9975,\n",
       "       0.9975, 0.9975, 0.9974, 0.9975, 0.9975, 0.9974, 0.9974, 0.9975,\n",
       "       0.9975, 0.9975, 0.9975, 0.9975, 0.9975, 0.9974, 0.9975, 0.9975,\n",
       "       0.9975, 0.9975, 0.9975, 0.9975, 0.9975, 0.9975, 0.9974, 0.9975,\n",
       "       0.9975, 0.9975, 0.9975, 0.9975, 0.9975, 0.9975, 0.9975, 0.9975,\n",
       "       0.9975, 0.9975, 0.9975, 0.9975, 0.9975, 0.9975, 0.9975, 0.9975,\n",
       "       0.9975, 0.9975, 0.9975, 0.9975, 0.9975, 0.9975, 0.9975, 0.9975,\n",
       "       0.9975, 0.9975, 0.9975, 0.9975, 0.9975, 0.9975, 0.9975, 0.9975,\n",
       "       0.9975, 0.9975, 0.9975, 0.9975, 0.9975, 0.9975, 0.9975, 0.9975])"
      ]
     },
     "metadata": {},
     "output_type": "display_data"
    }
   ],
   "source": [
    "display(res)"
   ]
  },
  {
   "cell_type": "code",
   "execution_count": 62,
   "id": "a643579f",
   "metadata": {},
   "outputs": [],
   "source": [
    "n_estimators = [i+1 for i in range(200)]"
   ]
  },
  {
   "cell_type": "code",
   "execution_count": 63,
   "id": "c39f7b45",
   "metadata": {},
   "outputs": [
    {
     "name": "stdout",
     "output_type": "stream",
     "text": [
      "[1, 2, 3, 4, 5, 6, 7, 8, 9, 10, 11, 12, 13, 14, 15, 16, 17, 18, 19, 20, 21, 22, 23, 24, 25, 26, 27, 28, 29, 30, 31, 32, 33, 34, 35, 36, 37, 38, 39, 40, 41, 42, 43, 44, 45, 46, 47, 48, 49, 50, 51, 52, 53, 54, 55, 56, 57, 58, 59, 60, 61, 62, 63, 64, 65, 66, 67, 68, 69, 70, 71, 72, 73, 74, 75, 76, 77, 78, 79, 80, 81, 82, 83, 84, 85, 86, 87, 88, 89, 90, 91, 92, 93, 94, 95, 96, 97, 98, 99, 100, 101, 102, 103, 104, 105, 106, 107, 108, 109, 110, 111, 112, 113, 114, 115, 116, 117, 118, 119, 120, 121, 122, 123, 124, 125, 126, 127, 128, 129, 130, 131, 132, 133, 134, 135, 136, 137, 138, 139, 140, 141, 142, 143, 144, 145, 146, 147, 148, 149, 150, 151, 152, 153, 154, 155, 156, 157, 158, 159, 160, 161, 162, 163, 164, 165, 166, 167, 168, 169, 170, 171, 172, 173, 174, 175, 176, 177, 178, 179, 180, 181, 182, 183, 184, 185, 186, 187, 188, 189, 190, 191, 192, 193, 194, 195, 196, 197, 198, 199, 200]\n"
     ]
    }
   ],
   "source": [
    "print (n_estimators)"
   ]
  },
  {
   "cell_type": "code",
   "execution_count": 64,
   "id": "50b9f3d3",
   "metadata": {},
   "outputs": [],
   "source": [
    "df=pd.DataFrame({'n_estimators':n_estimators, 'Accuracy':res})"
   ]
  },
  {
   "cell_type": "code",
   "execution_count": 65,
   "id": "069dae3b",
   "metadata": {},
   "outputs": [
    {
     "data": {
      "text/html": [
       "<div>\n",
       "<style scoped>\n",
       "    .dataframe tbody tr th:only-of-type {\n",
       "        vertical-align: middle;\n",
       "    }\n",
       "\n",
       "    .dataframe tbody tr th {\n",
       "        vertical-align: top;\n",
       "    }\n",
       "\n",
       "    .dataframe thead th {\n",
       "        text-align: right;\n",
       "    }\n",
       "</style>\n",
       "<table border=\"1\" class=\"dataframe\">\n",
       "  <thead>\n",
       "    <tr style=\"text-align: right;\">\n",
       "      <th></th>\n",
       "      <th>n_estimators</th>\n",
       "      <th>Accuracy</th>\n",
       "    </tr>\n",
       "  </thead>\n",
       "  <tbody>\n",
       "    <tr>\n",
       "      <th>0</th>\n",
       "      <td>1</td>\n",
       "      <td>0.9868</td>\n",
       "    </tr>\n",
       "    <tr>\n",
       "      <th>1</th>\n",
       "      <td>2</td>\n",
       "      <td>0.9919</td>\n",
       "    </tr>\n",
       "    <tr>\n",
       "      <th>2</th>\n",
       "      <td>3</td>\n",
       "      <td>0.9940</td>\n",
       "    </tr>\n",
       "    <tr>\n",
       "      <th>3</th>\n",
       "      <td>4</td>\n",
       "      <td>0.9949</td>\n",
       "    </tr>\n",
       "    <tr>\n",
       "      <th>4</th>\n",
       "      <td>5</td>\n",
       "      <td>0.9951</td>\n",
       "    </tr>\n",
       "    <tr>\n",
       "      <th>...</th>\n",
       "      <td>...</td>\n",
       "      <td>...</td>\n",
       "    </tr>\n",
       "    <tr>\n",
       "      <th>195</th>\n",
       "      <td>196</td>\n",
       "      <td>0.9975</td>\n",
       "    </tr>\n",
       "    <tr>\n",
       "      <th>196</th>\n",
       "      <td>197</td>\n",
       "      <td>0.9975</td>\n",
       "    </tr>\n",
       "    <tr>\n",
       "      <th>197</th>\n",
       "      <td>198</td>\n",
       "      <td>0.9975</td>\n",
       "    </tr>\n",
       "    <tr>\n",
       "      <th>198</th>\n",
       "      <td>199</td>\n",
       "      <td>0.9975</td>\n",
       "    </tr>\n",
       "    <tr>\n",
       "      <th>199</th>\n",
       "      <td>200</td>\n",
       "      <td>0.9975</td>\n",
       "    </tr>\n",
       "  </tbody>\n",
       "</table>\n",
       "<p>200 rows × 2 columns</p>\n",
       "</div>"
      ],
      "text/plain": [
       "     n_estimators  Accuracy\n",
       "0               1    0.9868\n",
       "1               2    0.9919\n",
       "2               3    0.9940\n",
       "3               4    0.9949\n",
       "4               5    0.9951\n",
       "..            ...       ...\n",
       "195           196    0.9975\n",
       "196           197    0.9975\n",
       "197           198    0.9975\n",
       "198           199    0.9975\n",
       "199           200    0.9975\n",
       "\n",
       "[200 rows x 2 columns]"
      ]
     },
     "execution_count": 65,
     "metadata": {},
     "output_type": "execute_result"
    }
   ],
   "source": [
    "df"
   ]
  },
  {
   "cell_type": "code",
   "execution_count": 106,
   "id": "0d73a0ec",
   "metadata": {},
   "outputs": [
    {
     "data": {
      "text/plain": [
       "Text(0.5, 1.0, 'n_estimators vs Accuracy')"
      ]
     },
     "execution_count": 106,
     "metadata": {},
     "output_type": "execute_result"
    },
    {
     "data": {
      "image/png": "[encoded data removed]",
      "text/plain": [
       "<Figure size 1800x1440 with 1 Axes>"
      ]
     },
     "metadata": {
      "needs_background": "light"
     },
     "output_type": "display_data"
    }
   ],
   "source": [
    "f = plt.figure(figsize=(20,25))\n",
    "f.set_figwidth(25)\n",
    "f.set_figheight(20)\n",
    "plt.plot(n_estimators,res)\n",
    "plt.xlabel(\"n_estimators\")\n",
    "plt.ylabel(\"Accuracy\")\n",
    "plt.title(\"n_estimators vs Accuracy\")"
   ]
  },
  {
   "cell_type": "code",
   "execution_count": 67,
   "id": "d856f5ef",
   "metadata": {},
   "outputs": [],
   "source": [
    "file=\"result10.xlsx\""
   ]
  },
  {
   "cell_type": "code",
   "execution_count": 68,
   "id": "e926165c",
   "metadata": {},
   "outputs": [],
   "source": [
    "df.to_excel(file)"
   ]
  },
  {
   "cell_type": "code",
   "execution_count": 69,
   "id": "56d01861",
   "metadata": {},
   "outputs": [],
   "source": [
    "reg1 = RandomForestRegressor(n_estimators=170)\n",
    "reg1.fit(X_train,y_train)\n",
    "y_test_pred = reg1.predict(X_test)"
   ]
  },
  {
   "cell_type": "code",
   "execution_count": 70,
   "id": "39c0e550",
   "metadata": {},
   "outputs": [
    {
     "name": "stdout",
     "output_type": "stream",
     "text": [
      "R^2: 0.9822175620286142\n",
      "Adjusted R^2: 0.98220270756957\n",
      "MAE: 264.9191248801697\n",
      "MSE: 285241.6239958971\n",
      "RMSE: 534.0801662633589\n"
     ]
    }
   ],
   "source": [
    "print('R^2:',metrics.r2_score(y_test, y_test_pred))\n",
    "print('Adjusted R^2:',1 - (1-metrics.r2_score(y_test, y_test_pred))*(len(y_test)-1)/(len(y_test)-X_test.shape[1]-1))\n",
    "print('MAE:',metrics.mean_absolute_error(y_test, y_test_pred))\n",
    "print('MSE:',metrics.mean_squared_error(y_test, y_test_pred))\n",
    "print('RMSE:',np.sqrt(metrics.mean_squared_error(y_test, y_test_pred)))"
   ]
  },
  {
   "cell_type": "code",
   "execution_count": 71,
   "id": "fc0f9621",
   "metadata": {},
   "outputs": [
    {
     "data": {
      "image/png": "[encoded data removed]",
      "text/plain": [
       "<Figure size 432x288 with 1 Axes>"
      ]
     },
     "metadata": {
      "needs_background": "light"
     },
     "output_type": "display_data"
    }
   ],
   "source": [
    "plt.scatter(y_train, y_pred)\n",
    "plt.xlabel(\"Actual Price\")\n",
    "plt.ylabel(\"Predicted Price\")\n",
    "plt.title(\"Actual Price vs Predicted Price\")\n",
    "plt.show()"
   ]
  },
  {
   "cell_type": "code",
   "execution_count": 72,
   "id": "fdb13243",
   "metadata": {},
   "outputs": [
    {
     "data": {
      "image/png": "[encoded data removed]",
      "text/plain": [
       "<Figure size 432x288 with 1 Axes>"
      ]
     },
     "metadata": {
      "needs_background": "light"
     },
     "output_type": "display_data"
    }
   ],
   "source": [
    "plt.scatter(y_pred,y_train-y_pred)\n",
    "plt.title(\"Predicted vs residuals\")\n",
    "plt.xlabel(\"Predicted\")\n",
    "plt.ylabel(\"Residuals\")\n",
    "plt.show()"
   ]
  },
  {
   "cell_type": "code",
   "execution_count": 73,
   "id": "4d9a18e3",
   "metadata": {},
   "outputs": [],
   "source": [
    "df1=pd.DataFrame({'Actual Price':y_test, 'Predicted Price':y_test_pred})"
   ]
  },
  {
   "cell_type": "code",
   "execution_count": 74,
   "id": "a4353d86",
   "metadata": {},
   "outputs": [
    {
     "data": {
      "text/html": [
       "<div>\n",
       "<style scoped>\n",
       "    .dataframe tbody tr th:only-of-type {\n",
       "        vertical-align: middle;\n",
       "    }\n",
       "\n",
       "    .dataframe tbody tr th {\n",
       "        vertical-align: top;\n",
       "    }\n",
       "\n",
       "    .dataframe thead th {\n",
       "        text-align: right;\n",
       "    }\n",
       "</style>\n",
       "<table border=\"1\" class=\"dataframe\">\n",
       "  <thead>\n",
       "    <tr style=\"text-align: right;\">\n",
       "      <th></th>\n",
       "      <th>Actual Price</th>\n",
       "      <th>Predicted Price</th>\n",
       "    </tr>\n",
       "  </thead>\n",
       "  <tbody>\n",
       "    <tr>\n",
       "      <th>14725</th>\n",
       "      <td>605</td>\n",
       "      <td>597.535294</td>\n",
       "    </tr>\n",
       "    <tr>\n",
       "      <th>53505</th>\n",
       "      <td>2686</td>\n",
       "      <td>2563.052941</td>\n",
       "    </tr>\n",
       "    <tr>\n",
       "      <th>17604</th>\n",
       "      <td>7089</td>\n",
       "      <td>6300.547059</td>\n",
       "    </tr>\n",
       "    <tr>\n",
       "      <th>31287</th>\n",
       "      <td>450</td>\n",
       "      <td>436.182353</td>\n",
       "    </tr>\n",
       "    <tr>\n",
       "      <th>51843</th>\n",
       "      <td>2423</td>\n",
       "      <td>2357.782353</td>\n",
       "    </tr>\n",
       "    <tr>\n",
       "      <th>...</th>\n",
       "      <td>...</td>\n",
       "      <td>...</td>\n",
       "    </tr>\n",
       "    <tr>\n",
       "      <th>52657</th>\n",
       "      <td>2549</td>\n",
       "      <td>2619.094118</td>\n",
       "    </tr>\n",
       "    <tr>\n",
       "      <th>46920</th>\n",
       "      <td>1815</td>\n",
       "      <td>1704.964706</td>\n",
       "    </tr>\n",
       "    <tr>\n",
       "      <th>5046</th>\n",
       "      <td>573</td>\n",
       "      <td>566.305882</td>\n",
       "    </tr>\n",
       "    <tr>\n",
       "      <th>30676</th>\n",
       "      <td>737</td>\n",
       "      <td>737.117647</td>\n",
       "    </tr>\n",
       "    <tr>\n",
       "      <th>50074</th>\n",
       "      <td>2203</td>\n",
       "      <td>2133.629412</td>\n",
       "    </tr>\n",
       "  </tbody>\n",
       "</table>\n",
       "<p>10784 rows × 2 columns</p>\n",
       "</div>"
      ],
      "text/plain": [
       "       Actual Price  Predicted Price\n",
       "14725           605       597.535294\n",
       "53505          2686      2563.052941\n",
       "17604          7089      6300.547059\n",
       "31287           450       436.182353\n",
       "51843          2423      2357.782353\n",
       "...             ...              ...\n",
       "52657          2549      2619.094118\n",
       "46920          1815      1704.964706\n",
       "5046            573       566.305882\n",
       "30676           737       737.117647\n",
       "50074          2203      2133.629412\n",
       "\n",
       "[10784 rows x 2 columns]"
      ]
     },
     "execution_count": 74,
     "metadata": {},
     "output_type": "execute_result"
    }
   ],
   "source": [
    "df1"
   ]
  },
  {
   "cell_type": "code",
   "execution_count": 75,
   "id": "fe840d92",
   "metadata": {},
   "outputs": [],
   "source": [
    "file1=\"result11.xlsx\""
   ]
  },
  {
   "cell_type": "code",
   "execution_count": 76,
   "id": "ac81b8d1",
   "metadata": {},
   "outputs": [],
   "source": [
    "df1.to_excel(file1)"
   ]
  },
  {
   "cell_type": "code",
   "execution_count": 77,
   "id": "af65df04",
   "metadata": {},
   "outputs": [],
   "source": [
    "I=[]\n",
    "for i in range (1,10785):\n",
    "    I.insert(i,i)"
   ]
  },
  {
   "cell_type": "code",
   "execution_count": 78,
   "id": "bb1dddbf",
   "metadata": {},
   "outputs": [
    {
     "data": {
      "text/plain": [
       "[1,\n",
       " 2,\n",
       " 3,\n",
       " 4,\n",
       " 5,\n",
       " 6,\n",
       " 7,\n",
       " 8,\n",
       " 9,\n",
       " 10,\n",
       " 11,\n",
       " 12,\n",
       " 13,\n",
       " 14,\n",
       " 15,\n",
       " 16,\n",
       " 17,\n",
       " 18,\n",
       " 19,\n",
       " 20,\n",
       " 21,\n",
       " 22,\n",
       " 23,\n",
       " 24,\n",
       " 25,\n",
       " 26,\n",
       " 27,\n",
       " 28,\n",
       " 29,\n",
       " 30,\n",
       " 31,\n",
       " 32,\n",
       " 33,\n",
       " 34,\n",
       " 35,\n",
       " 36,\n",
       " 37,\n",
       " 38,\n",
       " 39,\n",
       " 40,\n",
       " 41,\n",
       " 42,\n",
       " 43,\n",
       " 44,\n",
       " 45,\n",
       " 46,\n",
       " 47,\n",
       " 48,\n",
       " 49,\n",
       " 50,\n",
       " 51,\n",
       " 52,\n",
       " 53,\n",
       " 54,\n",
       " 55,\n",
       " 56,\n",
       " 57,\n",
       " 58,\n",
       " 59,\n",
       " 60,\n",
       " 61,\n",
       " 62,\n",
       " 63,\n",
       " 64,\n",
       " 65,\n",
       " 66,\n",
       " 67,\n",
       " 68,\n",
       " 69,\n",
       " 70,\n",
       " 71,\n",
       " 72,\n",
       " 73,\n",
       " 74,\n",
       " 75,\n",
       " 76,\n",
       " 77,\n",
       " 78,\n",
       " 79,\n",
       " 80,\n",
       " 81,\n",
       " 82,\n",
       " 83,\n",
       " 84,\n",
       " 85,\n",
       " 86,\n",
       " 87,\n",
       " 88,\n",
       " 89,\n",
       " 90,\n",
       " 91,\n",
       " 92,\n",
       " 93,\n",
       " 94,\n",
       " 95,\n",
       " 96,\n",
       " 97,\n",
       " 98,\n",
       " 99,\n",
       " 100,\n",
       " 101,\n",
       " 102,\n",
       " 103,\n",
       " 104,\n",
       " 105,\n",
       " 106,\n",
       " 107,\n",
       " 108,\n",
       " 109,\n",
       " 110,\n",
       " 111,\n",
       " 112,\n",
       " 113,\n",
       " 114,\n",
       " 115,\n",
       " 116,\n",
       " 117,\n",
       " 118,\n",
       " 119,\n",
       " 120,\n",
       " 121,\n",
       " 122,\n",
       " 123,\n",
       " 124,\n",
       " 125,\n",
       " 126,\n",
       " 127,\n",
       " 128,\n",
       " 129,\n",
       " 130,\n",
       " 131,\n",
       " 132,\n",
       " 133,\n",
       " 134,\n",
       " 135,\n",
       " 136,\n",
       " 137,\n",
       " 138,\n",
       " 139,\n",
       " 140,\n",
       " 141,\n",
       " 142,\n",
       " 143,\n",
       " 144,\n",
       " 145,\n",
       " 146,\n",
       " 147,\n",
       " 148,\n",
       " 149,\n",
       " 150,\n",
       " 151,\n",
       " 152,\n",
       " 153,\n",
       " 154,\n",
       " 155,\n",
       " 156,\n",
       " 157,\n",
       " 158,\n",
       " 159,\n",
       " 160,\n",
       " 161,\n",
       " 162,\n",
       " 163,\n",
       " 164,\n",
       " 165,\n",
       " 166,\n",
       " 167,\n",
       " 168,\n",
       " 169,\n",
       " 170,\n",
       " 171,\n",
       " 172,\n",
       " 173,\n",
       " 174,\n",
       " 175,\n",
       " 176,\n",
       " 177,\n",
       " 178,\n",
       " 179,\n",
       " 180,\n",
       " 181,\n",
       " 182,\n",
       " 183,\n",
       " 184,\n",
       " 185,\n",
       " 186,\n",
       " 187,\n",
       " 188,\n",
       " 189,\n",
       " 190,\n",
       " 191,\n",
       " 192,\n",
       " 193,\n",
       " 194,\n",
       " 195,\n",
       " 196,\n",
       " 197,\n",
       " 198,\n",
       " 199,\n",
       " 200,\n",
       " 201,\n",
       " 202,\n",
       " 203,\n",
       " 204,\n",
       " 205,\n",
       " 206,\n",
       " 207,\n",
       " 208,\n",
       " 209,\n",
       " 210,\n",
       " 211,\n",
       " 212,\n",
       " 213,\n",
       " 214,\n",
       " 215,\n",
       " 216,\n",
       " 217,\n",
       " 218,\n",
       " 219,\n",
       " 220,\n",
       " 221,\n",
       " 222,\n",
       " 223,\n",
       " 224,\n",
       " 225,\n",
       " 226,\n",
       " 227,\n",
       " 228,\n",
       " 229,\n",
       " 230,\n",
       " 231,\n",
       " 232,\n",
       " 233,\n",
       " 234,\n",
       " 235,\n",
       " 236,\n",
       " 237,\n",
       " 238,\n",
       " 239,\n",
       " 240,\n",
       " 241,\n",
       " 242,\n",
       " 243,\n",
       " 244,\n",
       " 245,\n",
       " 246,\n",
       " 247,\n",
       " 248,\n",
       " 249,\n",
       " 250,\n",
       " 251,\n",
       " 252,\n",
       " 253,\n",
       " 254,\n",
       " 255,\n",
       " 256,\n",
       " 257,\n",
       " 258,\n",
       " 259,\n",
       " 260,\n",
       " 261,\n",
       " 262,\n",
       " 263,\n",
       " 264,\n",
       " 265,\n",
       " 266,\n",
       " 267,\n",
       " 268,\n",
       " 269,\n",
       " 270,\n",
       " 271,\n",
       " 272,\n",
       " 273,\n",
       " 274,\n",
       " 275,\n",
       " 276,\n",
       " 277,\n",
       " 278,\n",
       " 279,\n",
       " 280,\n",
       " 281,\n",
       " 282,\n",
       " 283,\n",
       " 284,\n",
       " 285,\n",
       " 286,\n",
       " 287,\n",
       " 288,\n",
       " 289,\n",
       " 290,\n",
       " 291,\n",
       " 292,\n",
       " 293,\n",
       " 294,\n",
       " 295,\n",
       " 296,\n",
       " 297,\n",
       " 298,\n",
       " 299,\n",
       " 300,\n",
       " 301,\n",
       " 302,\n",
       " 303,\n",
       " 304,\n",
       " 305,\n",
       " 306,\n",
       " 307,\n",
       " 308,\n",
       " 309,\n",
       " 310,\n",
       " 311,\n",
       " 312,\n",
       " 313,\n",
       " 314,\n",
       " 315,\n",
       " 316,\n",
       " 317,\n",
       " 318,\n",
       " 319,\n",
       " 320,\n",
       " 321,\n",
       " 322,\n",
       " 323,\n",
       " 324,\n",
       " 325,\n",
       " 326,\n",
       " 327,\n",
       " 328,\n",
       " 329,\n",
       " 330,\n",
       " 331,\n",
       " 332,\n",
       " 333,\n",
       " 334,\n",
       " 335,\n",
       " 336,\n",
       " 337,\n",
       " 338,\n",
       " 339,\n",
       " 340,\n",
       " 341,\n",
       " 342,\n",
       " 343,\n",
       " 344,\n",
       " 345,\n",
       " 346,\n",
       " 347,\n",
       " 348,\n",
       " 349,\n",
       " 350,\n",
       " 351,\n",
       " 352,\n",
       " 353,\n",
       " 354,\n",
       " 355,\n",
       " 356,\n",
       " 357,\n",
       " 358,\n",
       " 359,\n",
       " 360,\n",
       " 361,\n",
       " 362,\n",
       " 363,\n",
       " 364,\n",
       " 365,\n",
       " 366,\n",
       " 367,\n",
       " 368,\n",
       " 369,\n",
       " 370,\n",
       " 371,\n",
       " 372,\n",
       " 373,\n",
       " 374,\n",
       " 375,\n",
       " 376,\n",
       " 377,\n",
       " 378,\n",
       " 379,\n",
       " 380,\n",
       " 381,\n",
       " 382,\n",
       " 383,\n",
       " 384,\n",
       " 385,\n",
       " 386,\n",
       " 387,\n",
       " 388,\n",
       " 389,\n",
       " 390,\n",
       " 391,\n",
       " 392,\n",
       " 393,\n",
       " 394,\n",
       " 395,\n",
       " 396,\n",
       " 397,\n",
       " 398,\n",
       " 399,\n",
       " 400,\n",
       " 401,\n",
       " 402,\n",
       " 403,\n",
       " 404,\n",
       " 405,\n",
       " 406,\n",
       " 407,\n",
       " 408,\n",
       " 409,\n",
       " 410,\n",
       " 411,\n",
       " 412,\n",
       " 413,\n",
       " 414,\n",
       " 415,\n",
       " 416,\n",
       " 417,\n",
       " 418,\n",
       " 419,\n",
       " 420,\n",
       " 421,\n",
       " 422,\n",
       " 423,\n",
       " 424,\n",
       " 425,\n",
       " 426,\n",
       " 427,\n",
       " 428,\n",
       " 429,\n",
       " 430,\n",
       " 431,\n",
       " 432,\n",
       " 433,\n",
       " 434,\n",
       " 435,\n",
       " 436,\n",
       " 437,\n",
       " 438,\n",
       " 439,\n",
       " 440,\n",
       " 441,\n",
       " 442,\n",
       " 443,\n",
       " 444,\n",
       " 445,\n",
       " 446,\n",
       " 447,\n",
       " 448,\n",
       " 449,\n",
       " 450,\n",
       " 451,\n",
       " 452,\n",
       " 453,\n",
       " 454,\n",
       " 455,\n",
       " 456,\n",
       " 457,\n",
       " 458,\n",
       " 459,\n",
       " 460,\n",
       " 461,\n",
       " 462,\n",
       " 463,\n",
       " 464,\n",
       " 465,\n",
       " 466,\n",
       " 467,\n",
       " 468,\n",
       " 469,\n",
       " 470,\n",
       " 471,\n",
       " 472,\n",
       " 473,\n",
       " 474,\n",
       " 475,\n",
       " 476,\n",
       " 477,\n",
       " 478,\n",
       " 479,\n",
       " 480,\n",
       " 481,\n",
       " 482,\n",
       " 483,\n",
       " 484,\n",
       " 485,\n",
       " 486,\n",
       " 487,\n",
       " 488,\n",
       " 489,\n",
       " 490,\n",
       " 491,\n",
       " 492,\n",
       " 493,\n",
       " 494,\n",
       " 495,\n",
       " 496,\n",
       " 497,\n",
       " 498,\n",
       " 499,\n",
       " 500,\n",
       " 501,\n",
       " 502,\n",
       " 503,\n",
       " 504,\n",
       " 505,\n",
       " 506,\n",
       " 507,\n",
       " 508,\n",
       " 509,\n",
       " 510,\n",
       " 511,\n",
       " 512,\n",
       " 513,\n",
       " 514,\n",
       " 515,\n",
       " 516,\n",
       " 517,\n",
       " 518,\n",
       " 519,\n",
       " 520,\n",
       " 521,\n",
       " 522,\n",
       " 523,\n",
       " 524,\n",
       " 525,\n",
       " 526,\n",
       " 527,\n",
       " 528,\n",
       " 529,\n",
       " 530,\n",
       " 531,\n",
       " 532,\n",
       " 533,\n",
       " 534,\n",
       " 535,\n",
       " 536,\n",
       " 537,\n",
       " 538,\n",
       " 539,\n",
       " 540,\n",
       " 541,\n",
       " 542,\n",
       " 543,\n",
       " 544,\n",
       " 545,\n",
       " 546,\n",
       " 547,\n",
       " 548,\n",
       " 549,\n",
       " 550,\n",
       " 551,\n",
       " 552,\n",
       " 553,\n",
       " 554,\n",
       " 555,\n",
       " 556,\n",
       " 557,\n",
       " 558,\n",
       " 559,\n",
       " 560,\n",
       " 561,\n",
       " 562,\n",
       " 563,\n",
       " 564,\n",
       " 565,\n",
       " 566,\n",
       " 567,\n",
       " 568,\n",
       " 569,\n",
       " 570,\n",
       " 571,\n",
       " 572,\n",
       " 573,\n",
       " 574,\n",
       " 575,\n",
       " 576,\n",
       " 577,\n",
       " 578,\n",
       " 579,\n",
       " 580,\n",
       " 581,\n",
       " 582,\n",
       " 583,\n",
       " 584,\n",
       " 585,\n",
       " 586,\n",
       " 587,\n",
       " 588,\n",
       " 589,\n",
       " 590,\n",
       " 591,\n",
       " 592,\n",
       " 593,\n",
       " 594,\n",
       " 595,\n",
       " 596,\n",
       " 597,\n",
       " 598,\n",
       " 599,\n",
       " 600,\n",
       " 601,\n",
       " 602,\n",
       " 603,\n",
       " 604,\n",
       " 605,\n",
       " 606,\n",
       " 607,\n",
       " 608,\n",
       " 609,\n",
       " 610,\n",
       " 611,\n",
       " 612,\n",
       " 613,\n",
       " 614,\n",
       " 615,\n",
       " 616,\n",
       " 617,\n",
       " 618,\n",
       " 619,\n",
       " 620,\n",
       " 621,\n",
       " 622,\n",
       " 623,\n",
       " 624,\n",
       " 625,\n",
       " 626,\n",
       " 627,\n",
       " 628,\n",
       " 629,\n",
       " 630,\n",
       " 631,\n",
       " 632,\n",
       " 633,\n",
       " 634,\n",
       " 635,\n",
       " 636,\n",
       " 637,\n",
       " 638,\n",
       " 639,\n",
       " 640,\n",
       " 641,\n",
       " 642,\n",
       " 643,\n",
       " 644,\n",
       " 645,\n",
       " 646,\n",
       " 647,\n",
       " 648,\n",
       " 649,\n",
       " 650,\n",
       " 651,\n",
       " 652,\n",
       " 653,\n",
       " 654,\n",
       " 655,\n",
       " 656,\n",
       " 657,\n",
       " 658,\n",
       " 659,\n",
       " 660,\n",
       " 661,\n",
       " 662,\n",
       " 663,\n",
       " 664,\n",
       " 665,\n",
       " 666,\n",
       " 667,\n",
       " 668,\n",
       " 669,\n",
       " 670,\n",
       " 671,\n",
       " 672,\n",
       " 673,\n",
       " 674,\n",
       " 675,\n",
       " 676,\n",
       " 677,\n",
       " 678,\n",
       " 679,\n",
       " 680,\n",
       " 681,\n",
       " 682,\n",
       " 683,\n",
       " 684,\n",
       " 685,\n",
       " 686,\n",
       " 687,\n",
       " 688,\n",
       " 689,\n",
       " 690,\n",
       " 691,\n",
       " 692,\n",
       " 693,\n",
       " 694,\n",
       " 695,\n",
       " 696,\n",
       " 697,\n",
       " 698,\n",
       " 699,\n",
       " 700,\n",
       " 701,\n",
       " 702,\n",
       " 703,\n",
       " 704,\n",
       " 705,\n",
       " 706,\n",
       " 707,\n",
       " 708,\n",
       " 709,\n",
       " 710,\n",
       " 711,\n",
       " 712,\n",
       " 713,\n",
       " 714,\n",
       " 715,\n",
       " 716,\n",
       " 717,\n",
       " 718,\n",
       " 719,\n",
       " 720,\n",
       " 721,\n",
       " 722,\n",
       " 723,\n",
       " 724,\n",
       " 725,\n",
       " 726,\n",
       " 727,\n",
       " 728,\n",
       " 729,\n",
       " 730,\n",
       " 731,\n",
       " 732,\n",
       " 733,\n",
       " 734,\n",
       " 735,\n",
       " 736,\n",
       " 737,\n",
       " 738,\n",
       " 739,\n",
       " 740,\n",
       " 741,\n",
       " 742,\n",
       " 743,\n",
       " 744,\n",
       " 745,\n",
       " 746,\n",
       " 747,\n",
       " 748,\n",
       " 749,\n",
       " 750,\n",
       " 751,\n",
       " 752,\n",
       " 753,\n",
       " 754,\n",
       " 755,\n",
       " 756,\n",
       " 757,\n",
       " 758,\n",
       " 759,\n",
       " 760,\n",
       " 761,\n",
       " 762,\n",
       " 763,\n",
       " 764,\n",
       " 765,\n",
       " 766,\n",
       " 767,\n",
       " 768,\n",
       " 769,\n",
       " 770,\n",
       " 771,\n",
       " 772,\n",
       " 773,\n",
       " 774,\n",
       " 775,\n",
       " 776,\n",
       " 777,\n",
       " 778,\n",
       " 779,\n",
       " 780,\n",
       " 781,\n",
       " 782,\n",
       " 783,\n",
       " 784,\n",
       " 785,\n",
       " 786,\n",
       " 787,\n",
       " 788,\n",
       " 789,\n",
       " 790,\n",
       " 791,\n",
       " 792,\n",
       " 793,\n",
       " 794,\n",
       " 795,\n",
       " 796,\n",
       " 797,\n",
       " 798,\n",
       " 799,\n",
       " 800,\n",
       " 801,\n",
       " 802,\n",
       " 803,\n",
       " 804,\n",
       " 805,\n",
       " 806,\n",
       " 807,\n",
       " 808,\n",
       " 809,\n",
       " 810,\n",
       " 811,\n",
       " 812,\n",
       " 813,\n",
       " 814,\n",
       " 815,\n",
       " 816,\n",
       " 817,\n",
       " 818,\n",
       " 819,\n",
       " 820,\n",
       " 821,\n",
       " 822,\n",
       " 823,\n",
       " 824,\n",
       " 825,\n",
       " 826,\n",
       " 827,\n",
       " 828,\n",
       " 829,\n",
       " 830,\n",
       " 831,\n",
       " 832,\n",
       " 833,\n",
       " 834,\n",
       " 835,\n",
       " 836,\n",
       " 837,\n",
       " 838,\n",
       " 839,\n",
       " 840,\n",
       " 841,\n",
       " 842,\n",
       " 843,\n",
       " 844,\n",
       " 845,\n",
       " 846,\n",
       " 847,\n",
       " 848,\n",
       " 849,\n",
       " 850,\n",
       " 851,\n",
       " 852,\n",
       " 853,\n",
       " 854,\n",
       " 855,\n",
       " 856,\n",
       " 857,\n",
       " 858,\n",
       " 859,\n",
       " 860,\n",
       " 861,\n",
       " 862,\n",
       " 863,\n",
       " 864,\n",
       " 865,\n",
       " 866,\n",
       " 867,\n",
       " 868,\n",
       " 869,\n",
       " 870,\n",
       " 871,\n",
       " 872,\n",
       " 873,\n",
       " 874,\n",
       " 875,\n",
       " 876,\n",
       " 877,\n",
       " 878,\n",
       " 879,\n",
       " 880,\n",
       " 881,\n",
       " 882,\n",
       " 883,\n",
       " 884,\n",
       " 885,\n",
       " 886,\n",
       " 887,\n",
       " 888,\n",
       " 889,\n",
       " 890,\n",
       " 891,\n",
       " 892,\n",
       " 893,\n",
       " 894,\n",
       " 895,\n",
       " 896,\n",
       " 897,\n",
       " 898,\n",
       " 899,\n",
       " 900,\n",
       " 901,\n",
       " 902,\n",
       " 903,\n",
       " 904,\n",
       " 905,\n",
       " 906,\n",
       " 907,\n",
       " 908,\n",
       " 909,\n",
       " 910,\n",
       " 911,\n",
       " 912,\n",
       " 913,\n",
       " 914,\n",
       " 915,\n",
       " 916,\n",
       " 917,\n",
       " 918,\n",
       " 919,\n",
       " 920,\n",
       " 921,\n",
       " 922,\n",
       " 923,\n",
       " 924,\n",
       " 925,\n",
       " 926,\n",
       " 927,\n",
       " 928,\n",
       " 929,\n",
       " 930,\n",
       " 931,\n",
       " 932,\n",
       " 933,\n",
       " 934,\n",
       " 935,\n",
       " 936,\n",
       " 937,\n",
       " 938,\n",
       " 939,\n",
       " 940,\n",
       " 941,\n",
       " 942,\n",
       " 943,\n",
       " 944,\n",
       " 945,\n",
       " 946,\n",
       " 947,\n",
       " 948,\n",
       " 949,\n",
       " 950,\n",
       " 951,\n",
       " 952,\n",
       " 953,\n",
       " 954,\n",
       " 955,\n",
       " 956,\n",
       " 957,\n",
       " 958,\n",
       " 959,\n",
       " 960,\n",
       " 961,\n",
       " 962,\n",
       " 963,\n",
       " 964,\n",
       " 965,\n",
       " 966,\n",
       " 967,\n",
       " 968,\n",
       " 969,\n",
       " 970,\n",
       " 971,\n",
       " 972,\n",
       " 973,\n",
       " 974,\n",
       " 975,\n",
       " 976,\n",
       " 977,\n",
       " 978,\n",
       " 979,\n",
       " 980,\n",
       " 981,\n",
       " 982,\n",
       " 983,\n",
       " 984,\n",
       " 985,\n",
       " 986,\n",
       " 987,\n",
       " 988,\n",
       " 989,\n",
       " 990,\n",
       " 991,\n",
       " 992,\n",
       " 993,\n",
       " 994,\n",
       " 995,\n",
       " 996,\n",
       " 997,\n",
       " 998,\n",
       " 999,\n",
       " 1000,\n",
       " ...]"
      ]
     },
     "metadata": {},
     "output_type": "display_data"
    }
   ],
   "source": [
    "display(I)"
   ]
  },
  {
   "cell_type": "code",
   "execution_count": 79,
   "id": "349e39f0",
   "metadata": {},
   "outputs": [],
   "source": [
    "I1=y_test.tolist()"
   ]
  },
  {
   "cell_type": "code",
   "execution_count": 80,
   "id": "6cc9f1df",
   "metadata": {},
   "outputs": [],
   "source": [
    "I2=y_test_pred.tolist()"
   ]
  },
  {
   "cell_type": "code",
   "execution_count": 101,
   "id": "4843d384",
   "metadata": {},
   "outputs": [
    {
     "data": {
      "text/plain": [
       "<matplotlib.legend.Legend at 0x1baa403ea40>"
      ]
     },
     "execution_count": 101,
     "metadata": {},
     "output_type": "execute_result"
    },
    {
     "data": {
      "image/png": "[encoded data removed]",
      "text/plain": [
       "<Figure size 1080x720 with 1 Axes>"
      ]
     },
     "metadata": {
      "needs_background": "light"
     },
     "output_type": "display_data"
    }
   ],
   "source": [
    "f = plt.figure()\n",
    "f.set_figheight(10)\n",
    "f.set_figwidth(15)\n",
    "plt.plot(I, I1, 'b', label='Actual Price')\n",
    "plt.plot(I, I2, 'g', label='Predicted Price')\n",
    "plt.xlabel(\"Testing Data\")\n",
    "plt.ylabel(\"Actual Price and Predicted Price\")\n",
    "plt.title(\"Testing Data vs Actual Price and Predicted Price\")\n",
    "plt.legend()"
   ]
  },
  {
   "cell_type": "code",
   "execution_count": 83,
   "id": "15d16e81",
   "metadata": {},
   "outputs": [],
   "source": [
    "I3=I[0:1000]"
   ]
  },
  {
   "cell_type": "code",
   "execution_count": 84,
   "id": "a3647cc2",
   "metadata": {},
   "outputs": [],
   "source": [
    "I4=I1[0:1000]"
   ]
  },
  {
   "cell_type": "code",
   "execution_count": 85,
   "id": "a4a2dfb7",
   "metadata": {},
   "outputs": [],
   "source": [
    "I5=I2[0:1000]"
   ]
  },
  {
   "cell_type": "code",
   "execution_count": 103,
   "id": "bffd026b",
   "metadata": {},
   "outputs": [
    {
     "data": {
      "text/plain": [
       "<matplotlib.legend.Legend at 0x1baa2383be0>"
      ]
     },
     "execution_count": 103,
     "metadata": {},
     "output_type": "execute_result"
    },
    {
     "data": {
      "image/png": "[encoded data removed]",
      "text/plain": [
       "<Figure size 1080x720 with 1 Axes>"
      ]
     },
     "metadata": {
      "needs_background": "light"
     },
     "output_type": "display_data"
    }
   ],
   "source": [
    "f = plt.figure()\n",
    "f.set_figheight(10)\n",
    "f.set_figwidth(15)\n",
    "plt.plot(I3, I4, 'b', label='Actual Price')\n",
    "plt.plot(I3, I5, 'g', label='Predicted Price')\n",
    "plt.xlabel(\"Testing Data\")\n",
    "plt.ylabel(\"Actual Price and Predicted Price\")\n",
    "plt.title(\"Testing Data vs Actual Price and Predicted Price\")\n",
    "plt.legend()"
   ]
  },
  {
   "cell_type": "code",
   "execution_count": 87,
   "id": "ad6c34af",
   "metadata": {},
   "outputs": [],
   "source": [
    "I6=I[0:100]"
   ]
  },
  {
   "cell_type": "code",
   "execution_count": 88,
   "id": "867ef2c3",
   "metadata": {},
   "outputs": [],
   "source": [
    "I7=I1[0:100]"
   ]
  },
  {
   "cell_type": "code",
   "execution_count": 89,
   "id": "fe0e43f6",
   "metadata": {},
   "outputs": [],
   "source": [
    "I8=I2[0:100]"
   ]
  },
  {
   "cell_type": "code",
   "execution_count": 104,
   "id": "782cc909",
   "metadata": {},
   "outputs": [
    {
     "data": {
      "text/plain": [
       "<matplotlib.legend.Legend at 0x1baa2448700>"
      ]
     },
     "execution_count": 104,
     "metadata": {},
     "output_type": "execute_result"
    },
    {
     "data": {
      "image/png": "[encoded data removed]",
      "text/plain": [
       "<Figure size 1080x720 with 1 Axes>"
      ]
     },
     "metadata": {
      "needs_background": "light"
     },
     "output_type": "display_data"
    }
   ],
   "source": [
    "f = plt.figure()\n",
    "f.set_figheight(10)\n",
    "f.set_figwidth(15)\n",
    "plt.plot(I6, I7,'b', label='Actual Price')\n",
    "plt.plot(I6, I8,'g', label='Predicted Price')\n",
    "plt.xlabel(\"Testing Data\")\n",
    "plt.ylabel(\"Actual Price and Predicted Price\")\n",
    "plt.title(\"Testing Data vs Actual Price and Predicted Price\")\n",
    "plt.legend()"
   ]
  },
  {
   "cell_type": "code",
   "execution_count": 91,
   "id": "ae6c6b6b",
   "metadata": {},
   "outputs": [],
   "source": [
    "df1['Difference'] = None"
   ]
  },
  {
   "cell_type": "code",
   "execution_count": 92,
   "id": "003a34d0",
   "metadata": {},
   "outputs": [],
   "source": [
    "df1['Percentage of Difference'] = None"
   ]
  },
  {
   "cell_type": "code",
   "execution_count": 93,
   "id": "21318930",
   "metadata": {},
   "outputs": [
    {
     "data": {
      "text/html": [
       "<div>\n",
       "<style scoped>\n",
       "    .dataframe tbody tr th:only-of-type {\n",
       "        vertical-align: middle;\n",
       "    }\n",
       "\n",
       "    .dataframe tbody tr th {\n",
       "        vertical-align: top;\n",
       "    }\n",
       "\n",
       "    .dataframe thead th {\n",
       "        text-align: right;\n",
       "    }\n",
       "</style>\n",
       "<table border=\"1\" class=\"dataframe\">\n",
       "  <thead>\n",
       "    <tr style=\"text-align: right;\">\n",
       "      <th></th>\n",
       "      <th>Actual Price</th>\n",
       "      <th>Predicted Price</th>\n",
       "      <th>Difference</th>\n",
       "      <th>Percentage of Difference</th>\n",
       "    </tr>\n",
       "  </thead>\n",
       "  <tbody>\n",
       "    <tr>\n",
       "      <th>14725</th>\n",
       "      <td>605</td>\n",
       "      <td>597.535294</td>\n",
       "      <td>None</td>\n",
       "      <td>None</td>\n",
       "    </tr>\n",
       "    <tr>\n",
       "      <th>53505</th>\n",
       "      <td>2686</td>\n",
       "      <td>2563.052941</td>\n",
       "      <td>None</td>\n",
       "      <td>None</td>\n",
       "    </tr>\n",
       "    <tr>\n",
       "      <th>17604</th>\n",
       "      <td>7089</td>\n",
       "      <td>6300.547059</td>\n",
       "      <td>None</td>\n",
       "      <td>None</td>\n",
       "    </tr>\n",
       "    <tr>\n",
       "      <th>31287</th>\n",
       "      <td>450</td>\n",
       "      <td>436.182353</td>\n",
       "      <td>None</td>\n",
       "      <td>None</td>\n",
       "    </tr>\n",
       "    <tr>\n",
       "      <th>51843</th>\n",
       "      <td>2423</td>\n",
       "      <td>2357.782353</td>\n",
       "      <td>None</td>\n",
       "      <td>None</td>\n",
       "    </tr>\n",
       "    <tr>\n",
       "      <th>...</th>\n",
       "      <td>...</td>\n",
       "      <td>...</td>\n",
       "      <td>...</td>\n",
       "      <td>...</td>\n",
       "    </tr>\n",
       "    <tr>\n",
       "      <th>52657</th>\n",
       "      <td>2549</td>\n",
       "      <td>2619.094118</td>\n",
       "      <td>None</td>\n",
       "      <td>None</td>\n",
       "    </tr>\n",
       "    <tr>\n",
       "      <th>46920</th>\n",
       "      <td>1815</td>\n",
       "      <td>1704.964706</td>\n",
       "      <td>None</td>\n",
       "      <td>None</td>\n",
       "    </tr>\n",
       "    <tr>\n",
       "      <th>5046</th>\n",
       "      <td>573</td>\n",
       "      <td>566.305882</td>\n",
       "      <td>None</td>\n",
       "      <td>None</td>\n",
       "    </tr>\n",
       "    <tr>\n",
       "      <th>30676</th>\n",
       "      <td>737</td>\n",
       "      <td>737.117647</td>\n",
       "      <td>None</td>\n",
       "      <td>None</td>\n",
       "    </tr>\n",
       "    <tr>\n",
       "      <th>50074</th>\n",
       "      <td>2203</td>\n",
       "      <td>2133.629412</td>\n",
       "      <td>None</td>\n",
       "      <td>None</td>\n",
       "    </tr>\n",
       "  </tbody>\n",
       "</table>\n",
       "<p>10784 rows × 4 columns</p>\n",
       "</div>"
      ],
      "text/plain": [
       "       Actual Price  Predicted Price Difference Percentage of Difference\n",
       "14725           605       597.535294       None                     None\n",
       "53505          2686      2563.052941       None                     None\n",
       "17604          7089      6300.547059       None                     None\n",
       "31287           450       436.182353       None                     None\n",
       "51843          2423      2357.782353       None                     None\n",
       "...             ...              ...        ...                      ...\n",
       "52657          2549      2619.094118       None                     None\n",
       "46920          1815      1704.964706       None                     None\n",
       "5046            573       566.305882       None                     None\n",
       "30676           737       737.117647       None                     None\n",
       "50074          2203      2133.629412       None                     None\n",
       "\n",
       "[10784 rows x 4 columns]"
      ]
     },
     "execution_count": 93,
     "metadata": {},
     "output_type": "execute_result"
    }
   ],
   "source": [
    "df1"
   ]
  },
  {
   "cell_type": "code",
   "execution_count": 94,
   "id": "1921df67",
   "metadata": {},
   "outputs": [
    {
     "name": "stdout",
     "output_type": "stream",
     "text": [
      "0 1 2 3\n"
     ]
    }
   ],
   "source": [
    "index_actual=df1.columns.get_loc('Actual Price')\n",
    "index_predicted=df1.columns.get_loc('Predicted Price')\n",
    "index_difference=df1.columns.get_loc('Difference')\n",
    "index_percentage=df1.columns.get_loc('Percentage of Difference')\n",
    " \n",
    "print(index_actual,index_predicted,index_difference,index_percentage)"
   ]
  },
  {
   "cell_type": "code",
   "execution_count": 95,
   "id": "d2993205",
   "metadata": {},
   "outputs": [
    {
     "data": {
      "text/html": [
       "<div>\n",
       "<style scoped>\n",
       "    .dataframe tbody tr th:only-of-type {\n",
       "        vertical-align: middle;\n",
       "    }\n",
       "\n",
       "    .dataframe tbody tr th {\n",
       "        vertical-align: top;\n",
       "    }\n",
       "\n",
       "    .dataframe thead th {\n",
       "        text-align: right;\n",
       "    }\n",
       "</style>\n",
       "<table border=\"1\" class=\"dataframe\">\n",
       "  <thead>\n",
       "    <tr style=\"text-align: right;\">\n",
       "      <th></th>\n",
       "      <th>Actual Price</th>\n",
       "      <th>Predicted Price</th>\n",
       "      <th>Difference</th>\n",
       "      <th>Percentage of Difference</th>\n",
       "    </tr>\n",
       "  </thead>\n",
       "  <tbody>\n",
       "    <tr>\n",
       "      <th>14725</th>\n",
       "      <td>605</td>\n",
       "      <td>597.535294</td>\n",
       "      <td>7.464706</td>\n",
       "      <td>1.233836</td>\n",
       "    </tr>\n",
       "    <tr>\n",
       "      <th>53505</th>\n",
       "      <td>2686</td>\n",
       "      <td>2563.052941</td>\n",
       "      <td>122.947059</td>\n",
       "      <td>4.577329</td>\n",
       "    </tr>\n",
       "    <tr>\n",
       "      <th>17604</th>\n",
       "      <td>7089</td>\n",
       "      <td>6300.547059</td>\n",
       "      <td>788.452941</td>\n",
       "      <td>11.122203</td>\n",
       "    </tr>\n",
       "    <tr>\n",
       "      <th>31287</th>\n",
       "      <td>450</td>\n",
       "      <td>436.182353</td>\n",
       "      <td>13.817647</td>\n",
       "      <td>3.070588</td>\n",
       "    </tr>\n",
       "    <tr>\n",
       "      <th>51843</th>\n",
       "      <td>2423</td>\n",
       "      <td>2357.782353</td>\n",
       "      <td>65.217647</td>\n",
       "      <td>2.691607</td>\n",
       "    </tr>\n",
       "    <tr>\n",
       "      <th>...</th>\n",
       "      <td>...</td>\n",
       "      <td>...</td>\n",
       "      <td>...</td>\n",
       "      <td>...</td>\n",
       "    </tr>\n",
       "    <tr>\n",
       "      <th>52657</th>\n",
       "      <td>2549</td>\n",
       "      <td>2619.094118</td>\n",
       "      <td>70.094118</td>\n",
       "      <td>2.749867</td>\n",
       "    </tr>\n",
       "    <tr>\n",
       "      <th>46920</th>\n",
       "      <td>1815</td>\n",
       "      <td>1704.964706</td>\n",
       "      <td>110.035294</td>\n",
       "      <td>6.062551</td>\n",
       "    </tr>\n",
       "    <tr>\n",
       "      <th>5046</th>\n",
       "      <td>573</td>\n",
       "      <td>566.305882</td>\n",
       "      <td>6.694118</td>\n",
       "      <td>1.168258</td>\n",
       "    </tr>\n",
       "    <tr>\n",
       "      <th>30676</th>\n",
       "      <td>737</td>\n",
       "      <td>737.117647</td>\n",
       "      <td>0.117647</td>\n",
       "      <td>0.015963</td>\n",
       "    </tr>\n",
       "    <tr>\n",
       "      <th>50074</th>\n",
       "      <td>2203</td>\n",
       "      <td>2133.629412</td>\n",
       "      <td>69.370588</td>\n",
       "      <td>3.148915</td>\n",
       "    </tr>\n",
       "  </tbody>\n",
       "</table>\n",
       "<p>10784 rows × 4 columns</p>\n",
       "</div>"
      ],
      "text/plain": [
       "       Actual Price  Predicted Price  Difference Percentage of Difference\n",
       "14725           605       597.535294    7.464706                 1.233836\n",
       "53505          2686      2563.052941  122.947059                 4.577329\n",
       "17604          7089      6300.547059  788.452941                11.122203\n",
       "31287           450       436.182353   13.817647                 3.070588\n",
       "51843          2423      2357.782353   65.217647                 2.691607\n",
       "...             ...              ...         ...                      ...\n",
       "52657          2549      2619.094118   70.094118                 2.749867\n",
       "46920          1815      1704.964706  110.035294                 6.062551\n",
       "5046            573       566.305882    6.694118                 1.168258\n",
       "30676           737       737.117647    0.117647                 0.015963\n",
       "50074          2203      2133.629412   69.370588                 3.148915\n",
       "\n",
       "[10784 rows x 4 columns]"
      ]
     },
     "execution_count": 95,
     "metadata": {},
     "output_type": "execute_result"
    }
   ],
   "source": [
    "for row in range(0, len(df1)):\n",
    "    df1.iat[row, index_difference] = abs(df1.iat[row, index_actual] - df1.iat[row, index_predicted])\n",
    "    df1.iat[row, index_percentage] = df1.iat[row, index_difference]/df1.iat[row, index_actual]*100\n",
    "    \n",
    "df1"
   ]
  },
  {
   "cell_type": "code",
   "execution_count": 96,
   "id": "1552023b",
   "metadata": {},
   "outputs": [],
   "source": [
    "file2=\"result12.xlsx\""
   ]
  },
  {
   "cell_type": "code",
   "execution_count": 97,
   "id": "710d3252",
   "metadata": {},
   "outputs": [],
   "source": [
    "df1.to_excel(file2)"
   ]
  },
  {
   "cell_type": "code",
   "execution_count": 203,
   "id": "9a636e84",
   "metadata": {},
   "outputs": [],
   "source": [
    "import docx"
   ]
  },
  {
   "cell_type": "code",
   "execution_count": 204,
   "id": "e7580fee",
   "metadata": {},
   "outputs": [],
   "source": [
    "import os"
   ]
  },
  {
   "cell_type": "code",
   "execution_count": 112,
   "id": "9d43a764",
   "metadata": {},
   "outputs": [],
   "source": [
    "doc = docx.Document(r\"D:\\7th Semester B.Tech (IT)\\5. Minor Project\\Diamond Price Prediction.docx\")"
   ]
  },
  {
   "cell_type": "code",
   "execution_count": 122,
   "id": "eaf5ca0f",
   "metadata": {},
   "outputs": [
    {
     "data": {
      "text/plain": [
       "<docx.shape.InlineShape at 0x1badda4a890>"
      ]
     },
     "execution_count": 122,
     "metadata": {},
     "output_type": "execute_result"
    }
   ],
   "source": [
    "doc.add_picture(r\"D:\\7th Semester B.Tech (IT)\\5. Minor Project\\Python\\1.jpeg\",height=docx.shared.Cm(6.99),width=docx.shared.Cm(14.65))"
   ]
  },
  {
   "cell_type": "code",
   "execution_count": 123,
   "id": "fe5c3f40",
   "metadata": {},
   "outputs": [],
   "source": [
    "doc.save(r\"D:\\7th Semester B.Tech (IT)\\5. Minor Project\\Diamond Price Prediction.docx\")"
   ]
  },
  {
   "cell_type": "code",
   "execution_count": 125,
   "id": "d28fdf91",
   "metadata": {},
   "outputs": [
    {
     "data": {
      "text/plain": [
       "<docx.shape.InlineShape at 0x1baa95a1390>"
      ]
     },
     "execution_count": 125,
     "metadata": {},
     "output_type": "execute_result"
    }
   ],
   "source": [
    "doc.add_picture(r\"D:\\7th Semester B.Tech (IT)\\5. Minor Project\\Python\\2.jpeg\",height=docx.shared.Cm(3.27),width=docx.shared.Cm(14.65))"
   ]
  },
  {
   "cell_type": "code",
   "execution_count": 126,
   "id": "4b8fc389",
   "metadata": {},
   "outputs": [],
   "source": [
    "doc.save(r\"D:\\7th Semester B.Tech (IT)\\5. Minor Project\\Diamond Price Prediction.docx\")"
   ]
  },
  {
   "cell_type": "code",
   "execution_count": 127,
   "id": "e9f63fe1",
   "metadata": {},
   "outputs": [],
   "source": [
    "doc = docx.Document(r\"D:\\7th Semester B.Tech (IT)\\5. Minor Project\\Diamonds Price Prediction.docx\")"
   ]
  },
  {
   "cell_type": "code",
   "execution_count": 128,
   "id": "b6512b5c",
   "metadata": {},
   "outputs": [
    {
     "data": {
      "text/plain": [
       "<docx.shape.InlineShape at 0x1badda4add0>"
      ]
     },
     "execution_count": 128,
     "metadata": {},
     "output_type": "execute_result"
    }
   ],
   "source": [
    "doc.add_picture(r\"D:\\7th Semester B.Tech (IT)\\5. Minor Project\\Python\\1.jpeg\",height=docx.shared.Cm(6.99),width=docx.shared.Cm(14.65))"
   ]
  },
  {
   "cell_type": "code",
   "execution_count": 129,
   "id": "0506769c",
   "metadata": {},
   "outputs": [],
   "source": [
    "doc.save(r\"D:\\7th Semester B.Tech (IT)\\5. Minor Project\\Diamonds Price Prediction.docx\")"
   ]
  },
  {
   "cell_type": "code",
   "execution_count": 130,
   "id": "6115050a",
   "metadata": {},
   "outputs": [
    {
     "data": {
      "text/plain": [
       "<docx.shape.InlineShape at 0x1badda4ba30>"
      ]
     },
     "execution_count": 130,
     "metadata": {},
     "output_type": "execute_result"
    }
   ],
   "source": [
    "doc.add_picture(r\"D:\\7th Semester B.Tech (IT)\\5. Minor Project\\Python\\2.jpeg\",height=docx.shared.Cm(3.27),width=docx.shared.Cm(14.65))"
   ]
  },
  {
   "cell_type": "code",
   "execution_count": 131,
   "id": "c093c5bc",
   "metadata": {},
   "outputs": [],
   "source": [
    "doc.save(r\"D:\\7th Semester B.Tech (IT)\\5. Minor Project\\Diamonds Price Prediction.docx\")"
   ]
  },
  {
   "cell_type": "code",
   "execution_count": 132,
   "id": "4eca51f1",
   "metadata": {},
   "outputs": [
    {
     "data": {
      "text/plain": [
       "<docx.shape.InlineShape at 0x1bb0de756c0>"
      ]
     },
     "execution_count": 132,
     "metadata": {},
     "output_type": "execute_result"
    }
   ],
   "source": [
    "doc.add_picture(r\"D:\\7th Semester B.Tech (IT)\\5. Minor Project\\Python\\3.jpeg\",height=docx.shared.Cm(7.62),width=docx.shared.Cm(9.14))"
   ]
  },
  {
   "cell_type": "code",
   "execution_count": 133,
   "id": "c11836b5",
   "metadata": {},
   "outputs": [],
   "source": [
    "doc.save(r\"D:\\7th Semester B.Tech (IT)\\5. Minor Project\\Diamonds Price Prediction.docx\")"
   ]
  },
  {
   "cell_type": "code",
   "execution_count": 134,
   "id": "fb2a7b62",
   "metadata": {},
   "outputs": [
    {
     "data": {
      "text/plain": [
       "<docx.shape.InlineShape at 0x1badda4bee0>"
      ]
     },
     "execution_count": 134,
     "metadata": {},
     "output_type": "execute_result"
    }
   ],
   "source": [
    "doc.add_picture(r\"D:\\7th Semester B.Tech (IT)\\5. Minor Project\\Python\\4.jpeg\",height=docx.shared.Cm(4.87),width=docx.shared.Cm(4.00))"
   ]
  },
  {
   "cell_type": "code",
   "execution_count": 135,
   "id": "f83d37a9",
   "metadata": {},
   "outputs": [],
   "source": [
    "doc.save(r\"D:\\7th Semester B.Tech (IT)\\5. Minor Project\\Diamonds Price Prediction.docx\")"
   ]
  },
  {
   "cell_type": "code",
   "execution_count": 136,
   "id": "9e0a07cd",
   "metadata": {},
   "outputs": [
    {
     "data": {
      "text/plain": [
       "<docx.shape.InlineShape at 0x1badda4a800>"
      ]
     },
     "execution_count": 136,
     "metadata": {},
     "output_type": "execute_result"
    }
   ],
   "source": [
    "doc.add_picture(r\"D:\\7th Semester B.Tech (IT)\\5. Minor Project\\Python\\5.jpeg\",height=docx.shared.Cm(4.92),width=docx.shared.Cm(5.17))"
   ]
  },
  {
   "cell_type": "code",
   "execution_count": 137,
   "id": "90156910",
   "metadata": {},
   "outputs": [],
   "source": [
    "doc.save(r\"D:\\7th Semester B.Tech (IT)\\5. Minor Project\\Diamonds Price Prediction.docx\")"
   ]
  },
  {
   "cell_type": "code",
   "execution_count": 138,
   "id": "04558109",
   "metadata": {},
   "outputs": [
    {
     "data": {
      "text/plain": [
       "<docx.shape.InlineShape at 0x1badda4afe0>"
      ]
     },
     "execution_count": 138,
     "metadata": {},
     "output_type": "execute_result"
    }
   ],
   "source": [
    "doc.add_picture(r\"D:\\7th Semester B.Tech (IT)\\5. Minor Project\\Python\\6.jpeg\",height=docx.shared.Cm(3.88),width=docx.shared.Cm(16.34))"
   ]
  },
  {
   "cell_type": "code",
   "execution_count": 139,
   "id": "d9bbc363",
   "metadata": {},
   "outputs": [],
   "source": [
    "doc.save(r\"D:\\7th Semester B.Tech (IT)\\5. Minor Project\\Diamonds Price Prediction.docx\")"
   ]
  },
  {
   "cell_type": "code",
   "execution_count": 140,
   "id": "113785ab",
   "metadata": {},
   "outputs": [
    {
     "data": {
      "text/plain": [
       "<docx.shape.InlineShape at 0x1badda4b010>"
      ]
     },
     "execution_count": 140,
     "metadata": {},
     "output_type": "execute_result"
    }
   ],
   "source": [
    "doc.add_picture(r\"D:\\7th Semester B.Tech (IT)\\5. Minor Project\\Python\\7.jpeg\",height=docx.shared.Cm(9.39),width=docx.shared.Cm(14.64))"
   ]
  },
  {
   "cell_type": "code",
   "execution_count": 141,
   "id": "55841eea",
   "metadata": {},
   "outputs": [],
   "source": [
    "doc.save(r\"D:\\7th Semester B.Tech (IT)\\5. Minor Project\\Diamonds Price Prediction.docx\")"
   ]
  },
  {
   "cell_type": "code",
   "execution_count": 142,
   "id": "bdded2fe",
   "metadata": {},
   "outputs": [
    {
     "data": {
      "text/plain": [
       "<docx.shape.InlineShape at 0x1badda4ada0>"
      ]
     },
     "execution_count": 142,
     "metadata": {},
     "output_type": "execute_result"
    }
   ],
   "source": [
    "doc.add_picture(r\"D:\\7th Semester B.Tech (IT)\\5. Minor Project\\Python\\8.jpeg\",height=docx.shared.Cm(9.43),width=docx.shared.Cm(14.64))"
   ]
  },
  {
   "cell_type": "code",
   "execution_count": 143,
   "id": "32cfeab8",
   "metadata": {},
   "outputs": [],
   "source": [
    "doc.save(r\"D:\\7th Semester B.Tech (IT)\\5. Minor Project\\Diamonds Price Prediction.docx\")"
   ]
  },
  {
   "cell_type": "code",
   "execution_count": 144,
   "id": "b0ef698b",
   "metadata": {},
   "outputs": [
    {
     "data": {
      "text/plain": [
       "<docx.shape.InlineShape at 0x1badda4afb0>"
      ]
     },
     "execution_count": 144,
     "metadata": {},
     "output_type": "execute_result"
    }
   ],
   "source": [
    "doc.add_picture(r\"D:\\7th Semester B.Tech (IT)\\5. Minor Project\\Python\\9.jpeg\",height=docx.shared.Cm(3.10),width=docx.shared.Cm(14.64))"
   ]
  },
  {
   "cell_type": "code",
   "execution_count": 145,
   "id": "751644d7",
   "metadata": {},
   "outputs": [],
   "source": [
    "doc.save(r\"D:\\7th Semester B.Tech (IT)\\5. Minor Project\\Diamonds Price Prediction.docx\")"
   ]
  },
  {
   "cell_type": "code",
   "execution_count": 146,
   "id": "f3ab28ba",
   "metadata": {},
   "outputs": [
    {
     "data": {
      "text/plain": [
       "<docx.shape.InlineShape at 0x1badda4ba60>"
      ]
     },
     "execution_count": 146,
     "metadata": {},
     "output_type": "execute_result"
    }
   ],
   "source": [
    "doc.add_picture(r\"D:\\7th Semester B.Tech (IT)\\5. Minor Project\\Python\\10.jpeg\",height=docx.shared.Cm(0.37),width=docx.shared.Cm(1.57))"
   ]
  },
  {
   "cell_type": "code",
   "execution_count": 147,
   "id": "714b8df7",
   "metadata": {},
   "outputs": [],
   "source": [
    "doc.save(r\"D:\\7th Semester B.Tech (IT)\\5. Minor Project\\Diamonds Price Prediction.docx\")"
   ]
  },
  {
   "cell_type": "code",
   "execution_count": 148,
   "id": "99109acf",
   "metadata": {},
   "outputs": [
    {
     "data": {
      "text/plain": [
       "<docx.shape.InlineShape at 0x1badda609d0>"
      ]
     },
     "execution_count": 148,
     "metadata": {},
     "output_type": "execute_result"
    }
   ],
   "source": [
    "doc.add_picture(r\"D:\\7th Semester B.Tech (IT)\\5. Minor Project\\Python\\11.jpeg\",height=docx.shared.Cm(0.37),width=docx.shared.Cm(2.19))"
   ]
  },
  {
   "cell_type": "code",
   "execution_count": 149,
   "id": "082b9766",
   "metadata": {},
   "outputs": [],
   "source": [
    "doc.save(r\"D:\\7th Semester B.Tech (IT)\\5. Minor Project\\Diamonds Price Prediction.docx\")"
   ]
  },
  {
   "cell_type": "code",
   "execution_count": 150,
   "id": "a8ee6633",
   "metadata": {},
   "outputs": [
    {
     "data": {
      "text/plain": [
       "<docx.shape.InlineShape at 0x1badda60bb0>"
      ]
     },
     "execution_count": 150,
     "metadata": {},
     "output_type": "execute_result"
    }
   ],
   "source": [
    "doc.add_picture(r\"D:\\7th Semester B.Tech (IT)\\5. Minor Project\\Python\\12.jpeg\",height=docx.shared.Cm(1.29),width=docx.shared.Cm(7.14))"
   ]
  },
  {
   "cell_type": "code",
   "execution_count": 151,
   "id": "d7891cdb",
   "metadata": {},
   "outputs": [],
   "source": [
    "doc.save(r\"D:\\7th Semester B.Tech (IT)\\5. Minor Project\\Diamonds Price Prediction.docx\")"
   ]
  },
  {
   "cell_type": "code",
   "execution_count": 152,
   "id": "22bb6129",
   "metadata": {},
   "outputs": [
    {
     "data": {
      "text/plain": [
       "<docx.shape.InlineShape at 0x1badda606d0>"
      ]
     },
     "execution_count": 152,
     "metadata": {},
     "output_type": "execute_result"
    }
   ],
   "source": [
    "doc.add_picture(r\"D:\\7th Semester B.Tech (IT)\\5. Minor Project\\Python\\13.jpeg\",height=docx.shared.Cm(1.52),width=docx.shared.Cm(7.78))"
   ]
  },
  {
   "cell_type": "code",
   "execution_count": 153,
   "id": "5e2c553f",
   "metadata": {},
   "outputs": [],
   "source": [
    "doc.save(r\"D:\\7th Semester B.Tech (IT)\\5. Minor Project\\Diamonds Price Prediction.docx\")"
   ]
  },
  {
   "cell_type": "code",
   "execution_count": 154,
   "id": "0db16cb4",
   "metadata": {},
   "outputs": [
    {
     "data": {
      "text/plain": [
       "<docx.shape.InlineShape at 0x1badda60c70>"
      ]
     },
     "execution_count": 154,
     "metadata": {},
     "output_type": "execute_result"
    }
   ],
   "source": [
    "doc.add_picture(r\"D:\\7th Semester B.Tech (IT)\\5. Minor Project\\Python\\14.jpeg\",height=docx.shared.Cm(2.15),width=docx.shared.Cm(6.58))"
   ]
  },
  {
   "cell_type": "code",
   "execution_count": 155,
   "id": "49678952",
   "metadata": {},
   "outputs": [],
   "source": [
    "doc.save(r\"D:\\7th Semester B.Tech (IT)\\5. Minor Project\\Diamonds Price Prediction.docx\")"
   ]
  },
  {
   "cell_type": "code",
   "execution_count": 156,
   "id": "fcdf923f",
   "metadata": {},
   "outputs": [
    {
     "data": {
      "text/plain": [
       "<docx.shape.InlineShape at 0x1badda60e20>"
      ]
     },
     "execution_count": 156,
     "metadata": {},
     "output_type": "execute_result"
    }
   ],
   "source": [
    "doc.add_picture(r\"D:\\7th Semester B.Tech (IT)\\5. Minor Project\\Python\\15.jpeg\",height=docx.shared.Cm(0.37),width=docx.shared.Cm(2.01))"
   ]
  },
  {
   "cell_type": "code",
   "execution_count": 157,
   "id": "24160b3c",
   "metadata": {},
   "outputs": [],
   "source": [
    "doc.save(r\"D:\\7th Semester B.Tech (IT)\\5. Minor Project\\Diamonds Price Prediction.docx\")"
   ]
  },
  {
   "cell_type": "code",
   "execution_count": 158,
   "id": "a4b098a3",
   "metadata": {},
   "outputs": [
    {
     "data": {
      "text/plain": [
       "<docx.shape.InlineShape at 0x1badda4b0a0>"
      ]
     },
     "execution_count": 158,
     "metadata": {},
     "output_type": "execute_result"
    }
   ],
   "source": [
    "doc.add_picture(r\"D:\\7th Semester B.Tech (IT)\\5. Minor Project\\Python\\16.1.jpeg\",height=docx.shared.Cm(8.55),width=docx.shared.Cm(4.27))"
   ]
  },
  {
   "cell_type": "code",
   "execution_count": 159,
   "id": "010977c0",
   "metadata": {},
   "outputs": [],
   "source": [
    "doc.save(r\"D:\\7th Semester B.Tech (IT)\\5. Minor Project\\Diamonds Price Prediction.docx\")"
   ]
  },
  {
   "cell_type": "code",
   "execution_count": 160,
   "id": "9e78db72",
   "metadata": {},
   "outputs": [
    {
     "data": {
      "text/plain": [
       "<docx.shape.InlineShape at 0x1badda60df0>"
      ]
     },
     "execution_count": 160,
     "metadata": {},
     "output_type": "execute_result"
    }
   ],
   "source": [
    "doc.add_picture(r\"D:\\7th Semester B.Tech (IT)\\5. Minor Project\\Python\\16.2.jpeg\",height=docx.shared.Cm(8.84),width=docx.shared.Cm(3.93))"
   ]
  },
  {
   "cell_type": "code",
   "execution_count": 161,
   "id": "00ec0a8a",
   "metadata": {},
   "outputs": [],
   "source": [
    "doc.save(r\"D:\\7th Semester B.Tech (IT)\\5. Minor Project\\Diamonds Price Prediction.docx\")"
   ]
  },
  {
   "cell_type": "code",
   "execution_count": 162,
   "id": "5d9e4102",
   "metadata": {},
   "outputs": [
    {
     "data": {
      "text/plain": [
       "<docx.shape.InlineShape at 0x1badda49960>"
      ]
     },
     "execution_count": 162,
     "metadata": {},
     "output_type": "execute_result"
    }
   ],
   "source": [
    "doc.add_picture(r\"D:\\7th Semester B.Tech (IT)\\5. Minor Project\\Python\\16.3.jpeg\",height=docx.shared.Cm(8.84),width=docx.shared.Cm(3.99))"
   ]
  },
  {
   "cell_type": "code",
   "execution_count": 163,
   "id": "29e79cf7",
   "metadata": {},
   "outputs": [],
   "source": [
    "doc.save(r\"D:\\7th Semester B.Tech (IT)\\5. Minor Project\\Diamonds Price Prediction.docx\")"
   ]
  },
  {
   "cell_type": "code",
   "execution_count": 164,
   "id": "d16117f4",
   "metadata": {},
   "outputs": [
    {
     "data": {
      "text/plain": [
       "<docx.shape.InlineShape at 0x1badda60940>"
      ]
     },
     "execution_count": 164,
     "metadata": {},
     "output_type": "execute_result"
    }
   ],
   "source": [
    "doc.add_picture(r\"D:\\7th Semester B.Tech (IT)\\5. Minor Project\\Python\\16.4.jpeg\",height=docx.shared.Cm(8.93),width=docx.shared.Cm(3.97))"
   ]
  },
  {
   "cell_type": "code",
   "execution_count": 165,
   "id": "44e0c3fc",
   "metadata": {},
   "outputs": [],
   "source": [
    "doc.save(r\"D:\\7th Semester B.Tech (IT)\\5. Minor Project\\Diamonds Price Prediction.docx\")"
   ]
  },
  {
   "cell_type": "code",
   "execution_count": 166,
   "id": "56dcc87f",
   "metadata": {},
   "outputs": [
    {
     "data": {
      "text/plain": [
       "<docx.shape.InlineShape at 0x1badda60e50>"
      ]
     },
     "execution_count": 166,
     "metadata": {},
     "output_type": "execute_result"
    }
   ],
   "source": [
    "doc.add_picture(r\"D:\\7th Semester B.Tech (IT)\\5. Minor Project\\Python\\16.5.jpeg\",height=docx.shared.Cm(8.91),width=docx.shared.Cm(3.95))"
   ]
  },
  {
   "cell_type": "code",
   "execution_count": 167,
   "id": "20bcd764",
   "metadata": {},
   "outputs": [],
   "source": [
    "doc.save(r\"D:\\7th Semester B.Tech (IT)\\5. Minor Project\\Diamonds Price Prediction.docx\")"
   ]
  },
  {
   "cell_type": "code",
   "execution_count": 168,
   "id": "3908a92e",
   "metadata": {},
   "outputs": [
    {
     "data": {
      "text/plain": [
       "<docx.shape.InlineShape at 0x1badda61c90>"
      ]
     },
     "execution_count": 168,
     "metadata": {},
     "output_type": "execute_result"
    }
   ],
   "source": [
    "doc.add_picture(r\"D:\\7th Semester B.Tech (IT)\\5. Minor Project\\Python\\16.6.jpeg\",height=docx.shared.Cm(8.89),width=docx.shared.Cm(3.95))"
   ]
  },
  {
   "cell_type": "code",
   "execution_count": 169,
   "id": "160983f1",
   "metadata": {},
   "outputs": [],
   "source": [
    "doc.save(r\"D:\\7th Semester B.Tech (IT)\\5. Minor Project\\Diamonds Price Prediction.docx\")"
   ]
  },
  {
   "cell_type": "code",
   "execution_count": 170,
   "id": "ffeffa94",
   "metadata": {},
   "outputs": [
    {
     "data": {
      "text/plain": [
       "<docx.shape.InlineShape at 0x1badda60160>"
      ]
     },
     "execution_count": 170,
     "metadata": {},
     "output_type": "execute_result"
    }
   ],
   "source": [
    "doc.add_picture(r\"D:\\7th Semester B.Tech (IT)\\5. Minor Project\\Python\\16.7.jpeg\",height=docx.shared.Cm(8.85),width=docx.shared.Cm(3.95))"
   ]
  },
  {
   "cell_type": "code",
   "execution_count": 171,
   "id": "54fe466d",
   "metadata": {},
   "outputs": [],
   "source": [
    "doc.save(r\"D:\\7th Semester B.Tech (IT)\\5. Minor Project\\Diamonds Price Prediction.docx\")"
   ]
  },
  {
   "cell_type": "code",
   "execution_count": 172,
   "id": "3ee70c4e",
   "metadata": {},
   "outputs": [
    {
     "data": {
      "text/plain": [
       "<docx.shape.InlineShape at 0x1badda61e40>"
      ]
     },
     "execution_count": 172,
     "metadata": {},
     "output_type": "execute_result"
    }
   ],
   "source": [
    "doc.add_picture(r\"D:\\7th Semester B.Tech (IT)\\5. Minor Project\\Python\\16.8.jpeg\",height=docx.shared.Cm(8.82),width=docx.shared.Cm(3.93))"
   ]
  },
  {
   "cell_type": "code",
   "execution_count": 173,
   "id": "3049e06a",
   "metadata": {},
   "outputs": [],
   "source": [
    "doc.save(r\"D:\\7th Semester B.Tech (IT)\\5. Minor Project\\Diamonds Price Prediction.docx\")"
   ]
  },
  {
   "cell_type": "code",
   "execution_count": 174,
   "id": "a9ea558c",
   "metadata": {},
   "outputs": [
    {
     "data": {
      "text/plain": [
       "<docx.shape.InlineShape at 0x1badda617b0>"
      ]
     },
     "execution_count": 174,
     "metadata": {},
     "output_type": "execute_result"
    }
   ],
   "source": [
    "doc.add_picture(r\"D:\\7th Semester B.Tech (IT)\\5. Minor Project\\Python\\16.9.jpeg\",height=docx.shared.Cm(8.84),width=docx.shared.Cm(3.93))"
   ]
  },
  {
   "cell_type": "code",
   "execution_count": 175,
   "id": "acb06761",
   "metadata": {},
   "outputs": [],
   "source": [
    "doc.save(r\"D:\\7th Semester B.Tech (IT)\\5. Minor Project\\Diamonds Price Prediction.docx\")"
   ]
  },
  {
   "cell_type": "code",
   "execution_count": 176,
   "id": "b575e91b",
   "metadata": {},
   "outputs": [
    {
     "data": {
      "text/plain": [
       "<docx.shape.InlineShape at 0x1badda62950>"
      ]
     },
     "execution_count": 176,
     "metadata": {},
     "output_type": "execute_result"
    }
   ],
   "source": [
    "doc.add_picture(r\"D:\\7th Semester B.Tech (IT)\\5. Minor Project\\Python\\16.10.jpeg\",height=docx.shared.Cm(8.80),width=docx.shared.Cm(3.88))"
   ]
  },
  {
   "cell_type": "code",
   "execution_count": 177,
   "id": "fea4f3c5",
   "metadata": {},
   "outputs": [],
   "source": [
    "doc.save(r\"D:\\7th Semester B.Tech (IT)\\5. Minor Project\\Diamonds Price Prediction.docx\")"
   ]
  },
  {
   "cell_type": "code",
   "execution_count": 178,
   "id": "aeebc930",
   "metadata": {},
   "outputs": [
    {
     "data": {
      "text/plain": [
       "<docx.shape.InlineShape at 0x1badda62290>"
      ]
     },
     "execution_count": 178,
     "metadata": {},
     "output_type": "execute_result"
    }
   ],
   "source": [
    "doc.add_picture(r\"D:\\7th Semester B.Tech (IT)\\5. Minor Project\\Python\\16.11.jpeg\",height=docx.shared.Cm(0.37),width=docx.shared.Cm(3.85))"
   ]
  },
  {
   "cell_type": "code",
   "execution_count": 179,
   "id": "eef09e71",
   "metadata": {},
   "outputs": [],
   "source": [
    "doc.save(r\"D:\\7th Semester B.Tech (IT)\\5. Minor Project\\Diamonds Price Prediction.docx\")"
   ]
  },
  {
   "cell_type": "code",
   "execution_count": 180,
   "id": "cb4554e4",
   "metadata": {},
   "outputs": [
    {
     "data": {
      "text/plain": [
       "<docx.shape.InlineShape at 0x1badda4ba90>"
      ]
     },
     "execution_count": 180,
     "metadata": {},
     "output_type": "execute_result"
    }
   ],
   "source": [
    "doc.add_picture(r\"D:\\7th Semester B.Tech (IT)\\5. Minor Project\\Python\\17.jpeg\",height=docx.shared.Cm(11.36),width=docx.shared.Cm(14.55))"
   ]
  },
  {
   "cell_type": "code",
   "execution_count": 181,
   "id": "95910b2d",
   "metadata": {},
   "outputs": [],
   "source": [
    "doc.save(r\"D:\\7th Semester B.Tech (IT)\\5. Minor Project\\Diamonds Price Prediction.docx\")"
   ]
  },
  {
   "cell_type": "code",
   "execution_count": 182,
   "id": "e8f2eb35",
   "metadata": {},
   "outputs": [
    {
     "data": {
      "text/plain": [
       "<docx.shape.InlineShape at 0x1badda626b0>"
      ]
     },
     "execution_count": 182,
     "metadata": {},
     "output_type": "execute_result"
    }
   ],
   "source": [
    "doc.add_picture(r\"D:\\7th Semester B.Tech (IT)\\5. Minor Project\\Python\\18.jpeg\",height=docx.shared.Cm(2.47),width=docx.shared.Cm(17.14))"
   ]
  },
  {
   "cell_type": "code",
   "execution_count": 183,
   "id": "90bf692e",
   "metadata": {},
   "outputs": [],
   "source": [
    "doc.save(r\"D:\\7th Semester B.Tech (IT)\\5. Minor Project\\Diamonds Price Prediction.docx\")"
   ]
  },
  {
   "cell_type": "code",
   "execution_count": 184,
   "id": "be2964f1",
   "metadata": {},
   "outputs": [
    {
     "data": {
      "text/plain": [
       "<docx.shape.InlineShape at 0x1badda62650>"
      ]
     },
     "execution_count": 184,
     "metadata": {},
     "output_type": "execute_result"
    }
   ],
   "source": [
    "doc.add_picture(r\"D:\\7th Semester B.Tech (IT)\\5. Minor Project\\Python\\19.jpeg\",height=docx.shared.Cm(8.96),width=docx.shared.Cm(5.03))"
   ]
  },
  {
   "cell_type": "code",
   "execution_count": 185,
   "id": "19dbb2e8",
   "metadata": {},
   "outputs": [],
   "source": [
    "doc.save(r\"D:\\7th Semester B.Tech (IT)\\5. Minor Project\\Diamonds Price Prediction.docx\")"
   ]
  },
  {
   "cell_type": "code",
   "execution_count": 186,
   "id": "ad7dec79",
   "metadata": {},
   "outputs": [
    {
     "data": {
      "text/plain": [
       "<docx.shape.InlineShape at 0x1badda63040>"
      ]
     },
     "execution_count": 186,
     "metadata": {},
     "output_type": "execute_result"
    }
   ],
   "source": [
    "doc.add_picture(r\"D:\\7th Semester B.Tech (IT)\\5. Minor Project\\Python\\20.jpeg\",height=docx.shared.Cm(11.27),width=docx.shared.Cm(14.64))"
   ]
  },
  {
   "cell_type": "code",
   "execution_count": 187,
   "id": "d5e45f3a",
   "metadata": {},
   "outputs": [],
   "source": [
    "doc.save(r\"D:\\7th Semester B.Tech (IT)\\5. Minor Project\\Diamonds Price Prediction.docx\")"
   ]
  },
  {
   "cell_type": "code",
   "execution_count": 188,
   "id": "c43b8eda",
   "metadata": {},
   "outputs": [
    {
     "data": {
      "text/plain": [
       "<docx.shape.InlineShape at 0x1badda631f0>"
      ]
     },
     "execution_count": 188,
     "metadata": {},
     "output_type": "execute_result"
    }
   ],
   "source": [
    "doc.add_picture(r\"D:\\7th Semester B.Tech (IT)\\5. Minor Project\\Python\\21.jpeg\",height=docx.shared.Cm(2.13),width=docx.shared.Cm(6.16))"
   ]
  },
  {
   "cell_type": "code",
   "execution_count": 189,
   "id": "c01e14d3",
   "metadata": {},
   "outputs": [],
   "source": [
    "doc.save(r\"D:\\7th Semester B.Tech (IT)\\5. Minor Project\\Diamonds Price Prediction.docx\")"
   ]
  },
  {
   "cell_type": "code",
   "execution_count": 190,
   "id": "3ae725a2",
   "metadata": {},
   "outputs": [
    {
     "data": {
      "text/plain": [
       "<docx.shape.InlineShape at 0x1badda62a70>"
      ]
     },
     "execution_count": 190,
     "metadata": {},
     "output_type": "execute_result"
    }
   ],
   "source": [
    "doc.add_picture(r\"D:\\7th Semester B.Tech (IT)\\5. Minor Project\\Python\\22.jpeg\",height=docx.shared.Cm(8.94),width=docx.shared.Cm(6.09))"
   ]
  },
  {
   "cell_type": "code",
   "execution_count": 191,
   "id": "4e4de7da",
   "metadata": {},
   "outputs": [],
   "source": [
    "doc.save(r\"D:\\7th Semester B.Tech (IT)\\5. Minor Project\\Diamonds Price Prediction.docx\")"
   ]
  },
  {
   "cell_type": "code",
   "execution_count": 192,
   "id": "ebaf7677",
   "metadata": {},
   "outputs": [
    {
     "data": {
      "text/plain": [
       "<docx.shape.InlineShape at 0x1badda63280>"
      ]
     },
     "execution_count": 192,
     "metadata": {},
     "output_type": "execute_result"
    }
   ],
   "source": [
    "doc.add_picture(r\"D:\\7th Semester B.Tech (IT)\\5. Minor Project\\Python\\23.jpeg\",height=docx.shared.Cm(10.08),width=docx.shared.Cm(14.64))"
   ]
  },
  {
   "cell_type": "code",
   "execution_count": 193,
   "id": "8b53fc14",
   "metadata": {},
   "outputs": [],
   "source": [
    "doc.save(r\"D:\\7th Semester B.Tech (IT)\\5. Minor Project\\Diamonds Price Prediction.docx\")"
   ]
  },
  {
   "cell_type": "code",
   "execution_count": 194,
   "id": "bab19b02",
   "metadata": {},
   "outputs": [
    {
     "data": {
      "text/plain": [
       "<docx.shape.InlineShape at 0x1badda60f10>"
      ]
     },
     "execution_count": 194,
     "metadata": {},
     "output_type": "execute_result"
    }
   ],
   "source": [
    "doc.add_picture(r\"D:\\7th Semester B.Tech (IT)\\5. Minor Project\\Python\\24.jpeg\",height=docx.shared.Cm(10.21),width=docx.shared.Cm(14.65))"
   ]
  },
  {
   "cell_type": "code",
   "execution_count": 195,
   "id": "29da6d4a",
   "metadata": {},
   "outputs": [],
   "source": [
    "doc.save(r\"D:\\7th Semester B.Tech (IT)\\5. Minor Project\\Diamonds Price Prediction.docx\")"
   ]
  },
  {
   "cell_type": "code",
   "execution_count": 196,
   "id": "2b339b48",
   "metadata": {},
   "outputs": [
    {
     "data": {
      "text/plain": [
       "<docx.shape.InlineShape at 0x1badda62d40>"
      ]
     },
     "execution_count": 196,
     "metadata": {},
     "output_type": "execute_result"
    }
   ],
   "source": [
    "doc.add_picture(r\"D:\\7th Semester B.Tech (IT)\\5. Minor Project\\Python\\25.jpeg\",height=docx.shared.Cm(10.19),width=docx.shared.Cm(14.63))"
   ]
  },
  {
   "cell_type": "code",
   "execution_count": 197,
   "id": "232847ac",
   "metadata": {},
   "outputs": [],
   "source": [
    "doc.save(r\"D:\\7th Semester B.Tech (IT)\\5. Minor Project\\Diamonds Price Prediction.docx\")"
   ]
  },
  {
   "cell_type": "code",
   "execution_count": 198,
   "id": "30e189ac",
   "metadata": {},
   "outputs": [
    {
     "data": {
      "text/plain": [
       "<docx.shape.InlineShape at 0x1badda62320>"
      ]
     },
     "execution_count": 198,
     "metadata": {},
     "output_type": "execute_result"
    }
   ],
   "source": [
    "doc.add_picture(r\"D:\\7th Semester B.Tech (IT)\\5. Minor Project\\Python\\26.jpeg\",height=docx.shared.Cm(8.94),width=docx.shared.Cm(11.99))"
   ]
  },
  {
   "cell_type": "code",
   "execution_count": 199,
   "id": "74ac3f2b",
   "metadata": {},
   "outputs": [],
   "source": [
    "doc.save(r\"D:\\7th Semester B.Tech (IT)\\5. Minor Project\\Diamonds Price Prediction.docx\")"
   ]
  },
  {
   "cell_type": "code",
   "execution_count": 200,
   "id": "e482d235",
   "metadata": {},
   "outputs": [
    {
     "data": {
      "text/plain": [
       "<docx.shape.InlineShape at 0x1baddadc490>"
      ]
     },
     "execution_count": 200,
     "metadata": {},
     "output_type": "execute_result"
    }
   ],
   "source": [
    "doc.add_picture(r\"D:\\7th Semester B.Tech (IT)\\5. Minor Project\\Python\\27.jpeg\",height=docx.shared.Cm(8.91),width=docx.shared.Cm(12.19))"
   ]
  },
  {
   "cell_type": "code",
   "execution_count": 201,
   "id": "64abc74f",
   "metadata": {},
   "outputs": [],
   "source": [
    "doc.save(r\"D:\\7th Semester B.Tech (IT)\\5. Minor Project\\Diamonds Price Prediction.docx\")"
   ]
  },
  {
   "cell_type": "code",
   "execution_count": 207,
   "id": "99600846",
   "metadata": {},
   "outputs": [
    {
     "ename": "PackageNotFoundError",
     "evalue": "Package not found at 'D:\\7th Semester B.Tech (IT)\\5. Minor Project\\result10.docx'",
     "output_type": "error",
     "traceback": [
      "\u001b[1;31m---------------------------------------------------------------------------\u001b[0m",
      "\u001b[1;31mPackageNotFoundError\u001b[0m                      Traceback (most recent call last)",
      "Input \u001b[1;32mIn [207]\u001b[0m, in \u001b[0;36m<cell line: 1>\u001b[1;34m()\u001b[0m\n\u001b[1;32m----> 1\u001b[0m doc1 \u001b[38;5;241m=\u001b[39m \u001b[43mdocx\u001b[49m\u001b[38;5;241;43m.\u001b[39;49m\u001b[43mDocument\u001b[49m\u001b[43m(\u001b[49m\u001b[38;5;124;43mr\u001b[39;49m\u001b[38;5;124;43m\"\u001b[39;49m\u001b[38;5;124;43mD:\u001b[39;49m\u001b[38;5;124;43m\\\u001b[39;49m\u001b[38;5;124;43m7th Semester B.Tech (IT)\u001b[39;49m\u001b[38;5;124;43m\\\u001b[39;49m\u001b[38;5;124;43m5. Minor Project\u001b[39;49m\u001b[38;5;124;43m\\\u001b[39;49m\u001b[38;5;124;43mresult10.docx\u001b[39;49m\u001b[38;5;124;43m\"\u001b[39;49m\u001b[43m)\u001b[49m\n",
      "File \u001b[1;32m~\\AppData\\Local\\Programs\\Python\\Python310\\lib\\site-packages\\docx\\api.py:25\u001b[0m, in \u001b[0;36mDocument\u001b[1;34m(docx)\u001b[0m\n\u001b[0;32m     18\u001b[0m \u001b[38;5;124;03m\"\"\"\u001b[39;00m\n\u001b[0;32m     19\u001b[0m \u001b[38;5;124;03mReturn a |Document| object loaded from *docx*, where *docx* can be\u001b[39;00m\n\u001b[0;32m     20\u001b[0m \u001b[38;5;124;03meither a path to a ``.docx`` file (a string) or a file-like object. If\u001b[39;00m\n\u001b[0;32m     21\u001b[0m \u001b[38;5;124;03m*docx* is missing or ``None``, the built-in default document \"template\"\u001b[39;00m\n\u001b[0;32m     22\u001b[0m \u001b[38;5;124;03mis loaded.\u001b[39;00m\n\u001b[0;32m     23\u001b[0m \u001b[38;5;124;03m\"\"\"\u001b[39;00m\n\u001b[0;32m     24\u001b[0m docx \u001b[38;5;241m=\u001b[39m _default_docx_path() \u001b[38;5;28;01mif\u001b[39;00m docx \u001b[38;5;129;01mis\u001b[39;00m \u001b[38;5;28;01mNone\u001b[39;00m \u001b[38;5;28;01melse\u001b[39;00m docx\n\u001b[1;32m---> 25\u001b[0m document_part \u001b[38;5;241m=\u001b[39m \u001b[43mPackage\u001b[49m\u001b[38;5;241;43m.\u001b[39;49m\u001b[43mopen\u001b[49m\u001b[43m(\u001b[49m\u001b[43mdocx\u001b[49m\u001b[43m)\u001b[49m\u001b[38;5;241m.\u001b[39mmain_document_part\n\u001b[0;32m     26\u001b[0m \u001b[38;5;28;01mif\u001b[39;00m document_part\u001b[38;5;241m.\u001b[39mcontent_type \u001b[38;5;241m!=\u001b[39m CT\u001b[38;5;241m.\u001b[39mWML_DOCUMENT_MAIN:\n\u001b[0;32m     27\u001b[0m     tmpl \u001b[38;5;241m=\u001b[39m \u001b[38;5;124m\"\u001b[39m\u001b[38;5;124mfile \u001b[39m\u001b[38;5;124m'\u001b[39m\u001b[38;5;132;01m%s\u001b[39;00m\u001b[38;5;124m'\u001b[39m\u001b[38;5;124m is not a Word file, content type is \u001b[39m\u001b[38;5;124m'\u001b[39m\u001b[38;5;132;01m%s\u001b[39;00m\u001b[38;5;124m'\u001b[39m\u001b[38;5;124m\"\u001b[39m\n",
      "File \u001b[1;32m~\\AppData\\Local\\Programs\\Python\\Python310\\lib\\site-packages\\docx\\opc\\package.py:128\u001b[0m, in \u001b[0;36mOpcPackage.open\u001b[1;34m(cls, pkg_file)\u001b[0m\n\u001b[0;32m    122\u001b[0m \u001b[38;5;129m@classmethod\u001b[39m\n\u001b[0;32m    123\u001b[0m \u001b[38;5;28;01mdef\u001b[39;00m \u001b[38;5;21mopen\u001b[39m(\u001b[38;5;28mcls\u001b[39m, pkg_file):\n\u001b[0;32m    124\u001b[0m     \u001b[38;5;124;03m\"\"\"\u001b[39;00m\n\u001b[0;32m    125\u001b[0m \u001b[38;5;124;03m    Return an |OpcPackage| instance loaded with the contents of\u001b[39;00m\n\u001b[0;32m    126\u001b[0m \u001b[38;5;124;03m    *pkg_file*.\u001b[39;00m\n\u001b[0;32m    127\u001b[0m \u001b[38;5;124;03m    \"\"\"\u001b[39;00m\n\u001b[1;32m--> 128\u001b[0m     pkg_reader \u001b[38;5;241m=\u001b[39m \u001b[43mPackageReader\u001b[49m\u001b[38;5;241;43m.\u001b[39;49m\u001b[43mfrom_file\u001b[49m\u001b[43m(\u001b[49m\u001b[43mpkg_file\u001b[49m\u001b[43m)\u001b[49m\n\u001b[0;32m    129\u001b[0m     package \u001b[38;5;241m=\u001b[39m \u001b[38;5;28mcls\u001b[39m()\n\u001b[0;32m    130\u001b[0m     Unmarshaller\u001b[38;5;241m.\u001b[39munmarshal(pkg_reader, package, PartFactory)\n",
      "File \u001b[1;32m~\\AppData\\Local\\Programs\\Python\\Python310\\lib\\site-packages\\docx\\opc\\pkgreader.py:32\u001b[0m, in \u001b[0;36mPackageReader.from_file\u001b[1;34m(pkg_file)\u001b[0m\n\u001b[0;32m     27\u001b[0m \u001b[38;5;129m@staticmethod\u001b[39m\n\u001b[0;32m     28\u001b[0m \u001b[38;5;28;01mdef\u001b[39;00m \u001b[38;5;21mfrom_file\u001b[39m(pkg_file):\n\u001b[0;32m     29\u001b[0m     \u001b[38;5;124;03m\"\"\"\u001b[39;00m\n\u001b[0;32m     30\u001b[0m \u001b[38;5;124;03m    Return a |PackageReader| instance loaded with contents of *pkg_file*.\u001b[39;00m\n\u001b[0;32m     31\u001b[0m \u001b[38;5;124;03m    \"\"\"\u001b[39;00m\n\u001b[1;32m---> 32\u001b[0m     phys_reader \u001b[38;5;241m=\u001b[39m \u001b[43mPhysPkgReader\u001b[49m\u001b[43m(\u001b[49m\u001b[43mpkg_file\u001b[49m\u001b[43m)\u001b[49m\n\u001b[0;32m     33\u001b[0m     content_types \u001b[38;5;241m=\u001b[39m _ContentTypeMap\u001b[38;5;241m.\u001b[39mfrom_xml(phys_reader\u001b[38;5;241m.\u001b[39mcontent_types_xml)\n\u001b[0;32m     34\u001b[0m     pkg_srels \u001b[38;5;241m=\u001b[39m PackageReader\u001b[38;5;241m.\u001b[39m_srels_for(phys_reader, PACKAGE_URI)\n",
      "File \u001b[1;32m~\\AppData\\Local\\Programs\\Python\\Python310\\lib\\site-packages\\docx\\opc\\phys_pkg.py:30\u001b[0m, in \u001b[0;36mPhysPkgReader.__new__\u001b[1;34m(cls, pkg_file)\u001b[0m\n\u001b[0;32m     28\u001b[0m         reader_cls \u001b[38;5;241m=\u001b[39m _ZipPkgReader\n\u001b[0;32m     29\u001b[0m     \u001b[38;5;28;01melse\u001b[39;00m:\n\u001b[1;32m---> 30\u001b[0m         \u001b[38;5;28;01mraise\u001b[39;00m PackageNotFoundError(\n\u001b[0;32m     31\u001b[0m             \u001b[38;5;124m\"\u001b[39m\u001b[38;5;124mPackage not found at \u001b[39m\u001b[38;5;124m'\u001b[39m\u001b[38;5;132;01m%s\u001b[39;00m\u001b[38;5;124m'\u001b[39m\u001b[38;5;124m\"\u001b[39m \u001b[38;5;241m%\u001b[39m pkg_file\n\u001b[0;32m     32\u001b[0m         )\n\u001b[0;32m     33\u001b[0m \u001b[38;5;28;01melse\u001b[39;00m:  \u001b[38;5;66;03m# assume it's a stream and pass it to Zip reader to sort out\u001b[39;00m\n\u001b[0;32m     34\u001b[0m     reader_cls \u001b[38;5;241m=\u001b[39m _ZipPkgReader\n",
      "\u001b[1;31mPackageNotFoundError\u001b[0m: Package not found at 'D:\\7th Semester B.Tech (IT)\\5. Minor Project\\result10.docx'"
     ]
    }
   ],
   "source": [
    "doc1 = docx.Document(r\"D:\\7th Semester B.Tech (IT)\\5. Minor Project\\result10.docx\")"
   ]
  },
  {
   "cell_type": "code",
   "execution_count": 212,
   "id": "d43efdf0",
   "metadata": {},
   "outputs": [],
   "source": [
    "import docx"
   ]
  },
  {
   "cell_type": "code",
   "execution_count": 213,
   "id": "e14bf74f",
   "metadata": {},
   "outputs": [],
   "source": [
    "import os"
   ]
  },
  {
   "cell_type": "code",
   "execution_count": 215,
   "id": "33d6bd00",
   "metadata": {},
   "outputs": [],
   "source": [
    "doc1 = docx.Document(r\"D:\\7th Semester B.Tech (IT)\\5. Minor Project\\Result 10.docx\")"
   ]
  },
  {
   "cell_type": "code",
   "execution_count": 216,
   "id": "e0cf0a01",
   "metadata": {},
   "outputs": [
    {
     "data": {
      "text/plain": [
       "<docx.shape.InlineShape at 0x1baa9333280>"
      ]
     },
     "execution_count": 216,
     "metadata": {},
     "output_type": "execute_result"
    }
   ],
   "source": [
    "doc1.add_picture(r\"D:\\7th Semester B.Tech (IT)\\5. Minor Project\\Python\\29.1.jpeg\",height=docx.shared.Cm(11.75),width=docx.shared.Cm(6.51))"
   ]
  },
  {
   "cell_type": "code",
   "execution_count": 217,
   "id": "dceeeb82",
   "metadata": {},
   "outputs": [],
   "source": [
    "doc1.save(r\"D:\\7th Semester B.Tech (IT)\\5. Minor Project\\Result 10.docx\")"
   ]
  },
  {
   "cell_type": "code",
   "execution_count": 218,
   "id": "8299b96c",
   "metadata": {},
   "outputs": [
    {
     "data": {
      "text/plain": [
       "<docx.shape.InlineShape at 0x1baa9332aa0>"
      ]
     },
     "execution_count": 218,
     "metadata": {},
     "output_type": "execute_result"
    }
   ],
   "source": [
    "doc1.add_picture(r\"D:\\7th Semester B.Tech (IT)\\5. Minor Project\\Python\\29.2.jpeg\",height=docx.shared.Cm(11.15),width=docx.shared.Cm(6.51))"
   ]
  },
  {
   "cell_type": "code",
   "execution_count": 219,
   "id": "cda90417",
   "metadata": {},
   "outputs": [],
   "source": [
    "doc1.save(r\"D:\\7th Semester B.Tech (IT)\\5. Minor Project\\Result 10.docx\")"
   ]
  },
  {
   "cell_type": "code",
   "execution_count": 220,
   "id": "757ed00a",
   "metadata": {},
   "outputs": [
    {
     "data": {
      "text/plain": [
       "<docx.shape.InlineShape at 0x1baa9332c80>"
      ]
     },
     "execution_count": 220,
     "metadata": {},
     "output_type": "execute_result"
    }
   ],
   "source": [
    "doc1.add_picture(r\"D:\\7th Semester B.Tech (IT)\\5. Minor Project\\Python\\29.3.jpeg\",height=docx.shared.Cm(11.18),width=docx.shared.Cm(6.53))"
   ]
  },
  {
   "cell_type": "code",
   "execution_count": 221,
   "id": "b131c4f1",
   "metadata": {},
   "outputs": [],
   "source": [
    "doc1.save(r\"D:\\7th Semester B.Tech (IT)\\5. Minor Project\\Result 10.docx\")"
   ]
  },
  {
   "cell_type": "code",
   "execution_count": 222,
   "id": "8f7aaea3",
   "metadata": {},
   "outputs": [
    {
     "data": {
      "text/plain": [
       "<docx.shape.InlineShape at 0x1baa93332b0>"
      ]
     },
     "execution_count": 222,
     "metadata": {},
     "output_type": "execute_result"
    }
   ],
   "source": [
    "doc1.add_picture(r\"D:\\7th Semester B.Tech (IT)\\5. Minor Project\\Python\\29.4.jpeg\",height=docx.shared.Cm(11.15),width=docx.shared.Cm(6.49))"
   ]
  },
  {
   "cell_type": "code",
   "execution_count": 223,
   "id": "45a4be4b",
   "metadata": {},
   "outputs": [],
   "source": [
    "doc1.save(r\"D:\\7th Semester B.Tech (IT)\\5. Minor Project\\Result 10.docx\")"
   ]
  },
  {
   "cell_type": "code",
   "execution_count": 224,
   "id": "6d8bf325",
   "metadata": {},
   "outputs": [
    {
     "data": {
      "text/plain": [
       "<docx.shape.InlineShape at 0x1baa9330970>"
      ]
     },
     "execution_count": 224,
     "metadata": {},
     "output_type": "execute_result"
    }
   ],
   "source": [
    "doc1.add_picture(r\"D:\\7th Semester B.Tech (IT)\\5. Minor Project\\Python\\29.5.jpeg\",height=docx.shared.Cm(11.15),width=docx.shared.Cm(6.49))"
   ]
  },
  {
   "cell_type": "code",
   "execution_count": 225,
   "id": "a3cb7d43",
   "metadata": {},
   "outputs": [],
   "source": [
    "doc1.save(r\"D:\\7th Semester B.Tech (IT)\\5. Minor Project\\Result 10.docx\")"
   ]
  },
  {
   "cell_type": "code",
   "execution_count": 226,
   "id": "b46299ed",
   "metadata": {},
   "outputs": [
    {
     "data": {
      "text/plain": [
       "<docx.shape.InlineShape at 0x1baa9332950>"
      ]
     },
     "execution_count": 226,
     "metadata": {},
     "output_type": "execute_result"
    }
   ],
   "source": [
    "doc1.add_picture(r\"D:\\7th Semester B.Tech (IT)\\5. Minor Project\\Python\\29.6.jpeg\",height=docx.shared.Cm(11.18),width=docx.shared.Cm(6.54))"
   ]
  },
  {
   "cell_type": "code",
   "execution_count": 227,
   "id": "c7fa0378",
   "metadata": {},
   "outputs": [],
   "source": [
    "doc1.save(r\"D:\\7th Semester B.Tech (IT)\\5. Minor Project\\Result 10.docx\")"
   ]
  },
  {
   "cell_type": "code",
   "execution_count": 228,
   "id": "cb264fa9",
   "metadata": {},
   "outputs": [
    {
     "data": {
      "text/plain": [
       "<docx.shape.InlineShape at 0x1baa93337f0>"
      ]
     },
     "execution_count": 228,
     "metadata": {},
     "output_type": "execute_result"
    }
   ],
   "source": [
    "doc1.add_picture(r\"D:\\7th Semester B.Tech (IT)\\5. Minor Project\\Python\\29.7.jpeg\",height=docx.shared.Cm(11.17),width=docx.shared.Cm(6.53))"
   ]
  },
  {
   "cell_type": "code",
   "execution_count": 229,
   "id": "8de68e2c",
   "metadata": {},
   "outputs": [],
   "source": [
    "doc1.save(r\"D:\\7th Semester B.Tech (IT)\\5. Minor Project\\Result 10.docx\")"
   ]
  },
  {
   "cell_type": "code",
   "execution_count": 230,
   "id": "f24ba26e",
   "metadata": {},
   "outputs": [
    {
     "data": {
      "text/plain": [
       "<docx.shape.InlineShape at 0x1badda49660>"
      ]
     },
     "execution_count": 230,
     "metadata": {},
     "output_type": "execute_result"
    }
   ],
   "source": [
    "doc1.add_picture(r\"D:\\7th Semester B.Tech (IT)\\5. Minor Project\\Python\\29.8.jpeg\",height=docx.shared.Cm(11.17),width=docx.shared.Cm(6.51))"
   ]
  },
  {
   "cell_type": "code",
   "execution_count": 231,
   "id": "bdf56157",
   "metadata": {},
   "outputs": [],
   "source": [
    "doc1.save(r\"D:\\7th Semester B.Tech (IT)\\5. Minor Project\\Result 10.docx\")"
   ]
  },
  {
   "cell_type": "code",
   "execution_count": 232,
   "id": "2184c785",
   "metadata": {},
   "outputs": [
    {
     "data": {
      "text/plain": [
       "<docx.shape.InlineShape at 0x1badda4a8c0>"
      ]
     },
     "execution_count": 232,
     "metadata": {},
     "output_type": "execute_result"
    }
   ],
   "source": [
    "doc1.add_picture(r\"D:\\7th Semester B.Tech (IT)\\5. Minor Project\\Python\\29.9.jpeg\",height=docx.shared.Cm(11.17),width=docx.shared.Cm(6.51))"
   ]
  },
  {
   "cell_type": "code",
   "execution_count": 233,
   "id": "411d47ae",
   "metadata": {},
   "outputs": [],
   "source": [
    "doc1.save(r\"D:\\7th Semester B.Tech (IT)\\5. Minor Project\\Result 10.docx\")"
   ]
  },
  {
   "cell_type": "code",
   "execution_count": 234,
   "id": "0a2e1f32",
   "metadata": {},
   "outputs": [
    {
     "data": {
      "text/plain": [
       "<docx.shape.InlineShape at 0x1baa93336a0>"
      ]
     },
     "execution_count": 234,
     "metadata": {},
     "output_type": "execute_result"
    }
   ],
   "source": [
    "doc1.add_picture(r\"D:\\7th Semester B.Tech (IT)\\5. Minor Project\\Python\\29.10.jpeg\",height=docx.shared.Cm(1.52),width=docx.shared.Cm(6.53))"
   ]
  },
  {
   "cell_type": "code",
   "execution_count": 235,
   "id": "49302efe",
   "metadata": {},
   "outputs": [],
   "source": [
    "doc1.save(r\"D:\\7th Semester B.Tech (IT)\\5. Minor Project\\Result 10.docx\")"
   ]
  },
  {
   "cell_type": "code",
   "execution_count": 236,
   "id": "44d40636",
   "metadata": {},
   "outputs": [],
   "source": [
    "doc2 = docx.Document(r\"D:\\7th Semester B.Tech (IT)\\5. Minor Project\\Result 12.docx\")"
   ]
  },
  {
   "cell_type": "code",
   "execution_count": 237,
   "id": "331e4fbf",
   "metadata": {},
   "outputs": [
    {
     "data": {
      "text/plain": [
       "<docx.shape.InlineShape at 0x1baa9333040>"
      ]
     },
     "execution_count": 237,
     "metadata": {},
     "output_type": "execute_result"
    }
   ],
   "source": [
    "doc2.add_picture(r\"D:\\7th Semester B.Tech (IT)\\5. Minor Project\\Python\\30.1.jpeg\",height=docx.shared.Cm(11.18),width=docx.shared.Cm(13.04))"
   ]
  },
  {
   "cell_type": "code",
   "execution_count": 238,
   "id": "82f28d76",
   "metadata": {},
   "outputs": [],
   "source": [
    "doc2.save(r\"D:\\7th Semester B.Tech (IT)\\5. Minor Project\\Result 12.docx\")"
   ]
  },
  {
   "cell_type": "code",
   "execution_count": 239,
   "id": "58efc3f3",
   "metadata": {},
   "outputs": [
    {
     "data": {
      "text/plain": [
       "<docx.shape.InlineShape at 0x1baa3f95120>"
      ]
     },
     "execution_count": 239,
     "metadata": {},
     "output_type": "execute_result"
    }
   ],
   "source": [
    "doc2.add_picture(r\"D:\\7th Semester B.Tech (IT)\\5. Minor Project\\Python\\30.2.jpeg\",height=docx.shared.Cm(10.18),width=docx.shared.Cm(13.00))"
   ]
  },
  {
   "cell_type": "code",
   "execution_count": 240,
   "id": "69ed5655",
   "metadata": {},
   "outputs": [],
   "source": [
    "doc2.save(r\"D:\\7th Semester B.Tech (IT)\\5. Minor Project\\Result 12.docx\")"
   ]
  },
  {
   "cell_type": "code",
   "execution_count": 241,
   "id": "eac6d15c",
   "metadata": {},
   "outputs": [
    {
     "data": {
      "text/plain": [
       "<docx.shape.InlineShape at 0x1baa9333520>"
      ]
     },
     "execution_count": 241,
     "metadata": {},
     "output_type": "execute_result"
    }
   ],
   "source": [
    "doc2.add_picture(r\"D:\\7th Semester B.Tech (IT)\\5. Minor Project\\Python\\30.3.jpeg\",height=docx.shared.Cm(10.67),width=docx.shared.Cm(13.02))"
   ]
  },
  {
   "cell_type": "code",
   "execution_count": 242,
   "id": "59ff1265",
   "metadata": {},
   "outputs": [],
   "source": [
    "doc2.save(r\"D:\\7th Semester B.Tech (IT)\\5. Minor Project\\Result 12.docx\")"
   ]
  },
  {
   "cell_type": "code",
   "execution_count": 243,
   "id": "81ad602c",
   "metadata": {},
   "outputs": [
    {
     "data": {
      "text/plain": [
       "<docx.shape.InlineShape at 0x1baa9c819f0>"
      ]
     },
     "execution_count": 243,
     "metadata": {},
     "output_type": "execute_result"
    }
   ],
   "source": [
    "doc2.add_picture(r\"D:\\7th Semester B.Tech (IT)\\5. Minor Project\\Python\\30.4.jpeg\",height=docx.shared.Cm(10.20),width=docx.shared.Cm(13.02))"
   ]
  },
  {
   "cell_type": "code",
   "execution_count": 244,
   "id": "2d3bc815",
   "metadata": {},
   "outputs": [],
   "source": [
    "doc2.save(r\"D:\\7th Semester B.Tech (IT)\\5. Minor Project\\Result 12.docx\")"
   ]
  },
  {
   "cell_type": "code",
   "execution_count": 245,
   "id": "c43cfb98",
   "metadata": {},
   "outputs": [
    {
     "data": {
      "text/plain": [
       "<docx.shape.InlineShape at 0x1baa9332cb0>"
      ]
     },
     "execution_count": 245,
     "metadata": {},
     "output_type": "execute_result"
    }
   ],
   "source": [
    "doc2.add_picture(r\"D:\\7th Semester B.Tech (IT)\\5. Minor Project\\Python\\30.5.jpeg\",height=docx.shared.Cm(9.68),width=docx.shared.Cm(13.00))"
   ]
  },
  {
   "cell_type": "code",
   "execution_count": 246,
   "id": "9ab713ec",
   "metadata": {},
   "outputs": [],
   "source": [
    "doc2.save(r\"D:\\7th Semester B.Tech (IT)\\5. Minor Project\\Result 12.docx\")"
   ]
  },
  {
   "cell_type": "code",
   "execution_count": 247,
   "id": "93ff0db9",
   "metadata": {},
   "outputs": [],
   "source": [
    "doc3 = docx.Document(r\"D:\\7th Semester B.Tech (IT)\\5. Minor Project\\Diamonds.docx\")"
   ]
  },
  {
   "cell_type": "code",
   "execution_count": 248,
   "id": "8820ff3e",
   "metadata": {},
   "outputs": [
    {
     "data": {
      "text/plain": [
       "<docx.shape.InlineShape at 0x1baa93326e0>"
      ]
     },
     "execution_count": 248,
     "metadata": {},
     "output_type": "execute_result"
    }
   ],
   "source": [
    "doc3.add_picture(r\"D:\\7th Semester B.Tech (IT)\\5. Minor Project\\Python\\31.1.jpeg\",height=docx.shared.Cm(7.39),width=docx.shared.Cm(14.65))"
   ]
  },
  {
   "cell_type": "code",
   "execution_count": 249,
   "id": "8078f25a",
   "metadata": {},
   "outputs": [],
   "source": [
    "doc3.save(r\"D:\\7th Semester B.Tech (IT)\\5. Minor Project\\Diamonds.docx\")"
   ]
  },
  {
   "cell_type": "code",
   "execution_count": 250,
   "id": "796c7041",
   "metadata": {},
   "outputs": [
    {
     "data": {
      "text/plain": [
       "<docx.shape.InlineShape at 0x1baa9c82170>"
      ]
     },
     "execution_count": 250,
     "metadata": {},
     "output_type": "execute_result"
    }
   ],
   "source": [
    "doc3.add_picture(r\"D:\\7th Semester B.Tech (IT)\\5. Minor Project\\Python\\31.2.jpeg\",height=docx.shared.Cm(7.01),width=docx.shared.Cm(14.63))"
   ]
  },
  {
   "cell_type": "code",
   "execution_count": 251,
   "id": "953b916e",
   "metadata": {},
   "outputs": [],
   "source": [
    "doc3.save(r\"D:\\7th Semester B.Tech (IT)\\5. Minor Project\\Diamonds.docx\")"
   ]
  },
  {
   "cell_type": "code",
   "execution_count": 252,
   "id": "4d502d2b",
   "metadata": {},
   "outputs": [
    {
     "data": {
      "text/plain": [
       "<docx.shape.InlineShape at 0x1baa9332d40>"
      ]
     },
     "execution_count": 252,
     "metadata": {},
     "output_type": "execute_result"
    }
   ],
   "source": [
    "doc3.add_picture(r\"D:\\7th Semester B.Tech (IT)\\5. Minor Project\\Python\\31.3.jpeg\",height=docx.shared.Cm(7.01),width=docx.shared.Cm(14.63))"
   ]
  },
  {
   "cell_type": "code",
   "execution_count": 253,
   "id": "1058ada2",
   "metadata": {},
   "outputs": [],
   "source": [
    "doc3.save(r\"D:\\7th Semester B.Tech (IT)\\5. Minor Project\\Diamonds.docx\")"
   ]
  },
  {
   "cell_type": "code",
   "execution_count": 254,
   "id": "5466f511",
   "metadata": {},
   "outputs": [
    {
     "data": {
      "text/plain": [
       "<docx.shape.InlineShape at 0x1baa9c81ba0>"
      ]
     },
     "execution_count": 254,
     "metadata": {},
     "output_type": "execute_result"
    }
   ],
   "source": [
    "doc3.add_picture(r\"D:\\7th Semester B.Tech (IT)\\5. Minor Project\\Python\\31.4.jpeg\",height=docx.shared.Cm(7.04),width=docx.shared.Cm(14.63))"
   ]
  },
  {
   "cell_type": "code",
   "execution_count": 255,
   "id": "a3f7b956",
   "metadata": {},
   "outputs": [],
   "source": [
    "doc3.save(r\"D:\\7th Semester B.Tech (IT)\\5. Minor Project\\Diamonds.docx\")"
   ]
  },
  {
   "cell_type": "code",
   "execution_count": 256,
   "id": "9dedd609",
   "metadata": {},
   "outputs": [
    {
     "data": {
      "text/plain": [
       "<docx.shape.InlineShape at 0x1baa9c80c10>"
      ]
     },
     "execution_count": 256,
     "metadata": {},
     "output_type": "execute_result"
    }
   ],
   "source": [
    "doc3.add_picture(r\"D:\\7th Semester B.Tech (IT)\\5. Minor Project\\Python\\31.5.jpeg\",height=docx.shared.Cm(7.00),width=docx.shared.Cm(14.65))"
   ]
  },
  {
   "cell_type": "code",
   "execution_count": 257,
   "id": "97296b72",
   "metadata": {},
   "outputs": [],
   "source": [
    "doc3.save(r\"D:\\7th Semester B.Tech (IT)\\5. Minor Project\\Diamonds.docx\")"
   ]
  },
  {
   "cell_type": "code",
   "execution_count": 258,
   "id": "55ac389f",
   "metadata": {},
   "outputs": [
    {
     "data": {
      "text/plain": [
       "<docx.shape.InlineShape at 0x1baa9c81f60>"
      ]
     },
     "execution_count": 258,
     "metadata": {},
     "output_type": "execute_result"
    }
   ],
   "source": [
    "doc3.add_picture(r\"D:\\7th Semester B.Tech (IT)\\5. Minor Project\\Python\\31.6.jpeg\",height=docx.shared.Cm(7.02),width=docx.shared.Cm(14.65))"
   ]
  },
  {
   "cell_type": "code",
   "execution_count": 259,
   "id": "74f9db4a",
   "metadata": {},
   "outputs": [],
   "source": [
    "doc3.save(r\"D:\\7th Semester B.Tech (IT)\\5. Minor Project\\Diamonds.docx\")"
   ]
  },
  {
   "cell_type": "code",
   "execution_count": 260,
   "id": "6b745abb",
   "metadata": {},
   "outputs": [
    {
     "data": {
      "text/plain": [
       "<docx.shape.InlineShape at 0x1baa9c82c20>"
      ]
     },
     "execution_count": 260,
     "metadata": {},
     "output_type": "execute_result"
    }
   ],
   "source": [
    "doc3.add_picture(r\"D:\\7th Semester B.Tech (IT)\\5. Minor Project\\Python\\31.7.jpeg\",height=docx.shared.Cm(7.04),width=docx.shared.Cm(14.65))"
   ]
  },
  {
   "cell_type": "code",
   "execution_count": 261,
   "id": "648e0a47",
   "metadata": {},
   "outputs": [],
   "source": [
    "doc3.save(r\"D:\\7th Semester B.Tech (IT)\\5. Minor Project\\Diamonds.docx\")"
   ]
  },
  {
   "cell_type": "code",
   "execution_count": 262,
   "id": "fb8a76e1",
   "metadata": {},
   "outputs": [
    {
     "data": {
      "text/plain": [
       "<docx.shape.InlineShape at 0x1baa9c81b40>"
      ]
     },
     "execution_count": 262,
     "metadata": {},
     "output_type": "execute_result"
    }
   ],
   "source": [
    "doc3.add_picture(r\"D:\\7th Semester B.Tech (IT)\\5. Minor Project\\Python\\31.8.jpeg\",height=docx.shared.Cm(7.04),width=docx.shared.Cm(14.65))"
   ]
  },
  {
   "cell_type": "code",
   "execution_count": 263,
   "id": "b77916cf",
   "metadata": {},
   "outputs": [],
   "source": [
    "doc3.save(r\"D:\\7th Semester B.Tech (IT)\\5. Minor Project\\Diamonds.docx\")"
   ]
  },
  {
   "cell_type": "code",
   "execution_count": 264,
   "id": "0e4a999a",
   "metadata": {},
   "outputs": [
    {
     "data": {
      "text/plain": [
       "<docx.shape.InlineShape at 0x1baa9c82bf0>"
      ]
     },
     "execution_count": 264,
     "metadata": {},
     "output_type": "execute_result"
    }
   ],
   "source": [
    "doc3.add_picture(r\"D:\\7th Semester B.Tech (IT)\\5. Minor Project\\Python\\31.9.jpeg\",height=docx.shared.Cm(7.04),width=docx.shared.Cm(14.63))"
   ]
  },
  {
   "cell_type": "code",
   "execution_count": 265,
   "id": "cede4a98",
   "metadata": {},
   "outputs": [],
   "source": [
    "doc3.save(r\"D:\\7th Semester B.Tech (IT)\\5. Minor Project\\Diamonds.docx\")"
   ]
  },
  {
   "cell_type": "code",
   "execution_count": 266,
   "id": "54dfeefb",
   "metadata": {},
   "outputs": [
    {
     "data": {
      "text/plain": [
       "<docx.shape.InlineShape at 0x1baa9c83040>"
      ]
     },
     "execution_count": 266,
     "metadata": {},
     "output_type": "execute_result"
    }
   ],
   "source": [
    "doc3.add_picture(r\"D:\\7th Semester B.Tech (IT)\\5. Minor Project\\Python\\31.10.jpeg\",height=docx.shared.Cm(3.99),width=docx.shared.Cm(14.65))"
   ]
  },
  {
   "cell_type": "code",
   "execution_count": 267,
   "id": "781aa927",
   "metadata": {},
   "outputs": [],
   "source": [
    "doc3.save(r\"D:\\7th Semester B.Tech (IT)\\5. Minor Project\\Diamonds.docx\")"
   ]
  }
 ],
 "metadata": {
  "kernelspec": {
   "display_name": "Python 3 (ipykernel)",
   "language": "python",
   "name": "python3"
  },
  "language_info": {
   "codemirror_mode": {
    "name": "ipython",
    "version": 3
   },
   "file_extension": ".py",
   "mimetype": "text/x-python",
   "name": "python",
   "nbconvert_exporter": "python",
   "pygments_lexer": "ipython3",
   "version": "3.10.0"
  }
 },
 "nbformat": 4,
 "nbformat_minor": 5
}
